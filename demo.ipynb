{
 "cells": [
  {
   "cell_type": "markdown",
   "metadata": {},
   "source": [
    "<font size =6>**ĐỒ ÁN CUỐI KÌ LẬP TRÌNH CHO KHOA HỌC DỮ LIỆU** </font>"
   ]
  },
  {
   "cell_type": "markdown",
   "metadata": {},
   "source": [
    "Giảng viên:\n",
    "- Trần Trung Kiên\n",
    "- Phạm Trọng Nghĩa"
   ]
  },
  {
   "cell_type": "markdown",
   "metadata": {},
   "source": [
    "---"
   ]
  },
  {
   "cell_type": "markdown",
   "metadata": {},
   "source": [
    "**Nhóm 27:**\n",
    "\n",
    "STT|MSSV | Họ và tên | Link github |\n",
    "--- |--- | --- | --- |\n",
    "1 | 19120485 | Nguyễn Phạm Quang Dũng | https://github.com/npqd |\n",
    "2 | 19120489 | Lưu Trường Dương | https://github.com/robocon20x |"
   ]
  },
  {
   "cell_type": "markdown",
   "metadata": {},
   "source": [
    "---"
   ]
  },
  {
   "cell_type": "markdown",
   "metadata": {},
   "source": [
    "# Link github:"
   ]
  },
  {
   "cell_type": "markdown",
   "metadata": {},
   "source": [
    "https://github.com/npqd/P4DS_FinalProject.git"
   ]
  },
  {
   "cell_type": "markdown",
   "metadata": {},
   "source": [
    "---"
   ]
  },
  {
   "cell_type": "markdown",
   "metadata": {},
   "source": [
    "# Import thư viện cần thiết"
   ]
  },
  {
   "cell_type": "code",
   "execution_count": 1,
   "metadata": {},
   "outputs": [],
   "source": [
    "import pandas as pd\n",
    "import numpy as np\n",
    "import matplotlib.pyplot as plt\n",
    "import seaborn as sns\n",
    "import datetime as dt"
   ]
  },
  {
   "cell_type": "markdown",
   "metadata": {},
   "source": [
    "---"
   ]
  },
  {
   "cell_type": "markdown",
   "metadata": {},
   "source": [
    "# Thu thập dữ liệu"
   ]
  },
  {
   "cell_type": "markdown",
   "metadata": {},
   "source": [
    "### Mô tả cơ bản về dữ liệu"
   ]
  },
  {
   "cell_type": "markdown",
   "metadata": {},
   "source": [
    "- Dữ liệu của hơn 40,000 trận đấu bóng đá quốc tế từ 1872-2019\n",
    "- Tên các quốc gia theo lục địa\n",
    "- Tên khác/ cũ của các quốc gia "
   ]
  },
  {
   "cell_type": "markdown",
   "metadata": {},
   "source": [
    "### Mục đích chọn dữ liệu"
   ]
  },
  {
   "cell_type": "markdown",
   "metadata": {},
   "source": [
    "- Bóng đá trước giờ vẫn luôn là môn thể thao vua và luôn được mọi người quan tâm nhiều nhất. Qua dữ liệu đã có, ta có thể biết được tình hình phát triển bóng đá của các quốc gia, sự thay đổi về vị thế bóng đá của các nước qua các năm. Ngoài ra thông qua lịch sử đối đầu, chúng ta có thể dự đoán được phần nào các kết quả trong tương lai\n",
    "- Data tên quốc gia theo lục địa để so sánh các quốc gia trong cùng khu vực bóng đá\n",
    "- Data các tên gọi của quốc gia để quy ước tên các quốc gia trong dữ liệu là tên hiện tại của quốc gia đó"
   ]
  },
  {
   "cell_type": "markdown",
   "metadata": {},
   "source": [
    "### Mô tả chi tiết dữ liệu"
   ]
  },
  {
   "cell_type": "markdown",
   "metadata": {},
   "source": [
    "- `result.csv` Dữ liệu chứa 42,899 kết quả của các trận đá bóng quốc tế từ năm 1872 đến 2019. Từ những giải đấu được tổ chức bởi FIFA World Cup đến những giải đấu châu lục cho đến cả những giải đấu giao hữu. Đây là dữ liệu của những trận bóng đá nam, không bao gồm những giải đấu như Olympic hoặc của những đội hình phụ hoặc U23... hoặc là các giải đấu trong nước.\n",
    "- `country_continent` Phân nhóm các quốc gia theo tên các châu lục, các vùng của một châu lục\n",
    "- `country_allname` [wiki_name](https://en.wikipedia.org/wiki/List_of_alternative_country_names) các tên gọi thay thế, hoặc tên gọi trong quá khứ của từng quốc gia"
   ]
  },
  {
   "cell_type": "markdown",
   "metadata": {},
   "source": [
    "#### `result.csv`"
   ]
  },
  {
   "cell_type": "markdown",
   "metadata": {},
   "source": [
    "- `date` - ngày diễn ra trận đấu\n",
    "- `home_team` - tên của đội chủ nhà\n",
    "- `away_team` - tên của đội khách\n",
    "- `home_score` - số bàn thắng đội chủ nhà ghi được bao gồm thời gian thi đấu chính thức và hiệp phụ, không tính loạt luân lưu\n",
    "- `away_score` - số bàn thắng đội khách ghi được bao gồm thời gian thi đấu chính thức và hiệp phụ, không tính loạt luân lưu\n",
    "- `tournament` - tên của giải đấu\n",
    "- `city` - tên của thành phố trận đấu diễn ra\n",
    "- `country` - tên của quốc gia mà trận đấu diễn ra\n",
    "- `neutral` - cột TRUE/FALSE , nếu được tỏ trức ở một sân trung lập thì trả về giá trị TRUE\n",
    "\n",
    "* **Lưu ý:**\n",
    "    - `home_team` và `away_team` là tên hiện tại của đội. Ví dụ năm 1882, tên đội `Ireland` đá với `England` thì trong data này sẽ được gọi là `Northern Ireland` bởi vì đây là tên hiện tại của đội tuyển `Ireland` năm 1882. Việc quy ước này để có thể dễ dàng lấy thống kê\n",
    "    - `country` sẽ là tên của quốc gia lúc diễn ra trận đấu. Vào những năm 1950, `Ghana` tuy đá ở `Gold Coast` nhưng vẫn là đội chủ nhà do cột `neutral` trả về giá trị FALSE\n"
   ]
  },
  {
   "cell_type": "markdown",
   "metadata": {},
   "source": [
    "#### `country_continent.csv`"
   ]
  },
  {
   "cell_type": "markdown",
   "metadata": {},
   "source": [
    "-   `Country` : Tên quốc gia, lãnh thổ theo FIFA\n",
    "-   `Code`: Mã của quốc gia theo FIFA\n",
    "-   `Continent`: Tên lục địa"
   ]
  },
  {
   "cell_type": "markdown",
   "metadata": {},
   "source": [
    "### Nguồn thu thập dữ liệu"
   ]
  },
  {
   "cell_type": "markdown",
   "metadata": {},
   "source": [
    "[result](https://www.kaggle.com/martj42/international-football-results-from-1872-to-2017)\n",
    "\n",
    "[country_continent](https://en.wikipedia.org/wiki/Geography_of_association_football)\n",
    "\n",
    "License của dữ liệu là **Public Domain**, ta có thể thấy tại đường link của dữ liệu.\n"
   ]
  },
  {
   "cell_type": "markdown",
   "metadata": {},
   "source": [
    "---"
   ]
  },
  {
   "cell_type": "markdown",
   "metadata": {},
   "source": [
    "# Khám phá dữ liệu"
   ]
  },
  {
   "cell_type": "markdown",
   "metadata": {},
   "source": [
    "### Đọc dữ liệu"
   ]
  },
  {
   "cell_type": "markdown",
   "metadata": {},
   "source": [
    "Đọc dữ liệu các trận đấu vào `df_match`"
   ]
  },
  {
   "cell_type": "code",
   "execution_count": 2,
   "metadata": {},
   "outputs": [
    {
     "data": {
      "text/html": [
       "<div>\n",
       "<style scoped>\n",
       "    .dataframe tbody tr th:only-of-type {\n",
       "        vertical-align: middle;\n",
       "    }\n",
       "\n",
       "    .dataframe tbody tr th {\n",
       "        vertical-align: top;\n",
       "    }\n",
       "\n",
       "    .dataframe thead th {\n",
       "        text-align: right;\n",
       "    }\n",
       "</style>\n",
       "<table border=\"1\" class=\"dataframe\">\n",
       "  <thead>\n",
       "    <tr style=\"text-align: right;\">\n",
       "      <th></th>\n",
       "      <th>date</th>\n",
       "      <th>home_team</th>\n",
       "      <th>away_team</th>\n",
       "      <th>home_score</th>\n",
       "      <th>away_score</th>\n",
       "      <th>tournament</th>\n",
       "      <th>city</th>\n",
       "      <th>country</th>\n",
       "      <th>neutral</th>\n",
       "    </tr>\n",
       "  </thead>\n",
       "  <tbody>\n",
       "    <tr>\n",
       "      <th>32910</th>\n",
       "      <td>2011-01-24</td>\n",
       "      <td>Vanuatu</td>\n",
       "      <td>New Caledonia</td>\n",
       "      <td>0.0</td>\n",
       "      <td>0.0</td>\n",
       "      <td>Friendly</td>\n",
       "      <td>Port Vila</td>\n",
       "      <td>Vanuatu</td>\n",
       "      <td>False</td>\n",
       "    </tr>\n",
       "    <tr>\n",
       "      <th>6577</th>\n",
       "      <td>1967-08-07</td>\n",
       "      <td>Indonesia</td>\n",
       "      <td>Philippines</td>\n",
       "      <td>6.0</td>\n",
       "      <td>0.0</td>\n",
       "      <td>AFC Asian Cup qualification</td>\n",
       "      <td>Taipei</td>\n",
       "      <td>Taiwan</td>\n",
       "      <td>True</td>\n",
       "    </tr>\n",
       "    <tr>\n",
       "      <th>36641</th>\n",
       "      <td>2014-11-14</td>\n",
       "      <td>United States</td>\n",
       "      <td>Colombia</td>\n",
       "      <td>1.0</td>\n",
       "      <td>2.0</td>\n",
       "      <td>Friendly</td>\n",
       "      <td>London</td>\n",
       "      <td>England</td>\n",
       "      <td>True</td>\n",
       "    </tr>\n",
       "    <tr>\n",
       "      <th>33168</th>\n",
       "      <td>2011-06-05</td>\n",
       "      <td>Costa Rica</td>\n",
       "      <td>Cuba</td>\n",
       "      <td>5.0</td>\n",
       "      <td>0.0</td>\n",
       "      <td>Gold Cup</td>\n",
       "      <td>Arlington</td>\n",
       "      <td>United States</td>\n",
       "      <td>True</td>\n",
       "    </tr>\n",
       "    <tr>\n",
       "      <th>5553</th>\n",
       "      <td>1963-12-01</td>\n",
       "      <td>Morocco</td>\n",
       "      <td>Russia</td>\n",
       "      <td>1.0</td>\n",
       "      <td>1.0</td>\n",
       "      <td>Friendly</td>\n",
       "      <td>Casablanca</td>\n",
       "      <td>Morocco</td>\n",
       "      <td>False</td>\n",
       "    </tr>\n",
       "  </tbody>\n",
       "</table>\n",
       "</div>"
      ],
      "text/plain": [
       "             date      home_team      away_team  home_score  away_score  \\\n",
       "32910  2011-01-24        Vanuatu  New Caledonia         0.0         0.0   \n",
       "6577   1967-08-07      Indonesia    Philippines         6.0         0.0   \n",
       "36641  2014-11-14  United States       Colombia         1.0         2.0   \n",
       "33168  2011-06-05     Costa Rica           Cuba         5.0         0.0   \n",
       "5553   1963-12-01        Morocco         Russia         1.0         1.0   \n",
       "\n",
       "                        tournament        city        country neutral  \n",
       "32910                     Friendly   Port Vila        Vanuatu   False  \n",
       "6577   AFC Asian Cup qualification      Taipei         Taiwan    True  \n",
       "36641                     Friendly      London        England    True  \n",
       "33168                     Gold Cup   Arlington  United States    True  \n",
       "5553                      Friendly  Casablanca        Morocco   False  "
      ]
     },
     "execution_count": 2,
     "metadata": {},
     "output_type": "execute_result"
    }
   ],
   "source": [
    "df_match  = pd.read_csv('results.csv')\n",
    "#TEST\n",
    "df_match.sample(5)"
   ]
  },
  {
   "cell_type": "markdown",
   "metadata": {},
   "source": [
    "Đọc dữ liệu quốc gia theo lục địa vào `df_continent`"
   ]
  },
  {
   "cell_type": "code",
   "execution_count": 3,
   "metadata": {},
   "outputs": [
    {
     "data": {
      "text/html": [
       "<div>\n",
       "<style scoped>\n",
       "    .dataframe tbody tr th:only-of-type {\n",
       "        vertical-align: middle;\n",
       "    }\n",
       "\n",
       "    .dataframe tbody tr th {\n",
       "        vertical-align: top;\n",
       "    }\n",
       "\n",
       "    .dataframe thead th {\n",
       "        text-align: right;\n",
       "    }\n",
       "</style>\n",
       "<table border=\"1\" class=\"dataframe\">\n",
       "  <thead>\n",
       "    <tr style=\"text-align: right;\">\n",
       "      <th></th>\n",
       "      <th>Code</th>\n",
       "      <th>Country</th>\n",
       "      <th>Continent</th>\n",
       "    </tr>\n",
       "    <tr>\n",
       "      <th>Index</th>\n",
       "      <th></th>\n",
       "      <th></th>\n",
       "      <th></th>\n",
       "    </tr>\n",
       "  </thead>\n",
       "  <tbody>\n",
       "    <tr>\n",
       "      <th>172</th>\n",
       "      <td>SVN</td>\n",
       "      <td>Slovenia</td>\n",
       "      <td>Europe</td>\n",
       "    </tr>\n",
       "    <tr>\n",
       "      <th>0</th>\n",
       "      <td>AFG</td>\n",
       "      <td>Afghanistan</td>\n",
       "      <td>Asia</td>\n",
       "    </tr>\n",
       "    <tr>\n",
       "      <th>102</th>\n",
       "      <td>KUW</td>\n",
       "      <td>Kuwait</td>\n",
       "      <td>Asia</td>\n",
       "    </tr>\n",
       "    <tr>\n",
       "      <th>43</th>\n",
       "      <td>COL</td>\n",
       "      <td>Colombia</td>\n",
       "      <td>South America</td>\n",
       "    </tr>\n",
       "    <tr>\n",
       "      <th>204</th>\n",
       "      <td>VAN</td>\n",
       "      <td>Vanuatu</td>\n",
       "      <td>Oceania</td>\n",
       "    </tr>\n",
       "  </tbody>\n",
       "</table>\n",
       "</div>"
      ],
      "text/plain": [
       "      Code      Country      Continent\n",
       "Index                                 \n",
       "172    SVN     Slovenia         Europe\n",
       "0      AFG  Afghanistan           Asia\n",
       "102    KUW       Kuwait           Asia\n",
       "43     COL     Colombia  South America\n",
       "204    VAN      Vanuatu        Oceania"
      ]
     },
     "execution_count": 3,
     "metadata": {},
     "output_type": "execute_result"
    }
   ],
   "source": [
    "df_continent = pd.read_csv('country_continent.csv')\n",
    "df_continent = df_continent.set_index(df_continent.columns[0])\n",
    "#TEST\n",
    "df_continent.sample(5)"
   ]
  },
  {
   "cell_type": "markdown",
   "metadata": {},
   "source": [
    "### Tiền xử lý"
   ]
  },
  {
   "cell_type": "markdown",
   "metadata": {},
   "source": [
    "- Để chắc chắn rằng, những quốc gia chúng ta đang tìm hiểu là những quốc gia hiện tại được công nhận bởi FIFA, vì vậy ta sẽ chỉ giữ những dữ liệu của những trận đấu mà và `home_team` và `away_team` đều là đội bóng có tên trong danh sách FIFA bây giờ.\n",
    "- Ta phải làm vậy vì giờ bóng đá quốc tế được sắp xếp theo bảng xếp hạng của FIFA, nên nếu không có tên trong FIFA thì các trận đấu gần như chẳng được tính điểm"
   ]
  },
  {
   "cell_type": "code",
   "execution_count": 4,
   "metadata": {},
   "outputs": [
    {
     "data": {
      "text/html": [
       "<div>\n",
       "<style scoped>\n",
       "    .dataframe tbody tr th:only-of-type {\n",
       "        vertical-align: middle;\n",
       "    }\n",
       "\n",
       "    .dataframe tbody tr th {\n",
       "        vertical-align: top;\n",
       "    }\n",
       "\n",
       "    .dataframe thead th {\n",
       "        text-align: right;\n",
       "    }\n",
       "</style>\n",
       "<table border=\"1\" class=\"dataframe\">\n",
       "  <thead>\n",
       "    <tr style=\"text-align: right;\">\n",
       "      <th></th>\n",
       "      <th>date</th>\n",
       "      <th>home_team</th>\n",
       "      <th>away_team</th>\n",
       "      <th>home_score</th>\n",
       "      <th>away_score</th>\n",
       "      <th>tournament</th>\n",
       "      <th>city</th>\n",
       "      <th>country</th>\n",
       "      <th>neutral</th>\n",
       "    </tr>\n",
       "  </thead>\n",
       "  <tbody>\n",
       "    <tr>\n",
       "      <th>18975</th>\n",
       "      <td>1995-04-26</td>\n",
       "      <td>Germany</td>\n",
       "      <td>Wales</td>\n",
       "      <td>1.0</td>\n",
       "      <td>1.0</td>\n",
       "      <td>UEFA Euro qualification</td>\n",
       "      <td>Düsseldorf</td>\n",
       "      <td>Germany</td>\n",
       "      <td>False</td>\n",
       "    </tr>\n",
       "    <tr>\n",
       "      <th>27369</th>\n",
       "      <td>2004-12-23</td>\n",
       "      <td>Bahrain</td>\n",
       "      <td>Kuwait</td>\n",
       "      <td>3.0</td>\n",
       "      <td>1.0</td>\n",
       "      <td>Gulf Cup</td>\n",
       "      <td>Doha</td>\n",
       "      <td>Qatar</td>\n",
       "      <td>True</td>\n",
       "    </tr>\n",
       "    <tr>\n",
       "      <th>21293</th>\n",
       "      <td>1998-03-25</td>\n",
       "      <td>Poland</td>\n",
       "      <td>Slovenia</td>\n",
       "      <td>2.0</td>\n",
       "      <td>0.0</td>\n",
       "      <td>Friendly</td>\n",
       "      <td>Warsaw</td>\n",
       "      <td>Poland</td>\n",
       "      <td>False</td>\n",
       "    </tr>\n",
       "    <tr>\n",
       "      <th>39542</th>\n",
       "      <td>2017-11-13</td>\n",
       "      <td>Bulgaria</td>\n",
       "      <td>Saudi Arabia</td>\n",
       "      <td>1.0</td>\n",
       "      <td>0.0</td>\n",
       "      <td>Friendly</td>\n",
       "      <td>Lisbon</td>\n",
       "      <td>Portugal</td>\n",
       "      <td>True</td>\n",
       "    </tr>\n",
       "    <tr>\n",
       "      <th>13273</th>\n",
       "      <td>1984-08-07</td>\n",
       "      <td>Iran</td>\n",
       "      <td>Bangladesh</td>\n",
       "      <td>5.0</td>\n",
       "      <td>0.0</td>\n",
       "      <td>AFC Asian Cup qualification</td>\n",
       "      <td>Jakarta</td>\n",
       "      <td>Indonesia</td>\n",
       "      <td>True</td>\n",
       "    </tr>\n",
       "  </tbody>\n",
       "</table>\n",
       "</div>"
      ],
      "text/plain": [
       "             date home_team     away_team  home_score  away_score  \\\n",
       "18975  1995-04-26   Germany         Wales         1.0         1.0   \n",
       "27369  2004-12-23   Bahrain        Kuwait         3.0         1.0   \n",
       "21293  1998-03-25    Poland      Slovenia         2.0         0.0   \n",
       "39542  2017-11-13  Bulgaria  Saudi Arabia         1.0         0.0   \n",
       "13273  1984-08-07      Iran    Bangladesh         5.0         0.0   \n",
       "\n",
       "                        tournament        city    country neutral  \n",
       "18975      UEFA Euro qualification  Düsseldorf    Germany   False  \n",
       "27369                     Gulf Cup        Doha      Qatar    True  \n",
       "21293                     Friendly      Warsaw     Poland   False  \n",
       "39542                     Friendly      Lisbon   Portugal    True  \n",
       "13273  AFC Asian Cup qualification     Jakarta  Indonesia    True  "
      ]
     },
     "execution_count": 4,
     "metadata": {},
     "output_type": "execute_result"
    }
   ],
   "source": [
    "df_match= df_match[df_match['home_team'].isin(df_continent['Country']) & \\\n",
    "     df_match['away_team'].isin(df_continent['Country'])]\n",
    "df_match.sample(5)"
   ]
  },
  {
   "cell_type": "markdown",
   "metadata": {},
   "source": [
    "### Dữ liệu có bao nhiêu dòng và cột ?"
   ]
  },
  {
   "cell_type": "markdown",
   "metadata": {},
   "source": [
    "Tiếp theo, ta tính số dòng và số cột của DataFrame `df_match` và `df_continent`, lưu vào biến `match_rows`,`match_cols` và `continent_rows`,`continent_cols`."
   ]
  },
  {
   "cell_type": "code",
   "execution_count": 5,
   "metadata": {},
   "outputs": [
    {
     "name": "stdout",
     "output_type": "stream",
     "text": [
      "number rows of match:  39479\n",
      "number cols of match:  9\n"
     ]
    }
   ],
   "source": [
    "match_rows,match_cols = df_match.shape\n",
    "print('number rows of match: ',match_rows)\n",
    "print('number cols of match: ',match_cols)"
   ]
  },
  {
   "cell_type": "code",
   "execution_count": 6,
   "metadata": {},
   "outputs": [
    {
     "name": "stdout",
     "output_type": "stream",
     "text": [
      "number rows of continent:  211\n",
      "number cols of continent:  3\n"
     ]
    }
   ],
   "source": [
    "continent_rows,continent_cols = df_continent.shape\n",
    "print('number rows of continent: ',continent_rows)\n",
    "print('number cols of continent: ',continent_cols)"
   ]
  },
  {
   "cell_type": "markdown",
   "metadata": {},
   "source": [
    "### Mỗi dòng có ý nghĩa gì? Có vấn đề gì các dòng có ý nghĩa khác nhau không ?"
   ]
  },
  {
   "cell_type": "markdown",
   "metadata": {},
   "source": [
    "`df_match`"
   ]
  },
  {
   "cell_type": "markdown",
   "metadata": {},
   "source": [
    "- Mỗi dòng cho biết thông tin về trận đấu bóng đá giữa 2 nước, thông qua quan sát sơ bộ thì có vẻ không có vấn đề gì, mỗi dòng khác nhau thể hiện thông tin khác nhau về mỗi trận đấu."
   ]
  },
  {
   "cell_type": "markdown",
   "metadata": {},
   "source": [
    "`df_continent`"
   ]
  },
  {
   "cell_type": "markdown",
   "metadata": {},
   "source": [
    "Mỗi dòng cho biết thông tin về tên, mã code và khu vực của từng quốc gia theo FIFA, có vẻ như không có vấn đề gì"
   ]
  },
  {
   "cell_type": "markdown",
   "metadata": {},
   "source": [
    "### Dữ liệu có các dòng bị lặp không ? "
   ]
  },
  {
   "cell_type": "code",
   "execution_count": 7,
   "metadata": {},
   "outputs": [
    {
     "data": {
      "text/plain": [
       "False"
      ]
     },
     "execution_count": 7,
     "metadata": {},
     "output_type": "execute_result"
    }
   ],
   "source": [
    "np.all([df_match.duplicated(keep=False)])"
   ]
  },
  {
   "cell_type": "markdown",
   "metadata": {},
   "source": [
    "- Có vẻ như không có dòng dữ liệu nào bị lặp lại thông tin cả."
   ]
  },
  {
   "cell_type": "markdown",
   "metadata": {},
   "source": [
    "### Mỗi cột có ý nghĩa gì?"
   ]
  },
  {
   "cell_type": "markdown",
   "metadata": {},
   "source": [
    "- Như đã mô tả ở phần Mô tả chi tiết dữ liệu, ta đã hiểu rõ về ý nghĩa của các cột\n",
    "- Để tránh trường hợp bạn quên thì ta sẽ đọc lại thông tin của các cột thông qua 2 file text, `mean_result.csv` và `mean_continent.csv`"
   ]
  },
  {
   "cell_type": "markdown",
   "metadata": {},
   "source": [
    "Thông tin `df_match`"
   ]
  },
  {
   "cell_type": "code",
   "execution_count": 8,
   "metadata": {},
   "outputs": [
    {
     "data": {
      "text/html": [
       "<div>\n",
       "<style scoped>\n",
       "    .dataframe tbody tr th:only-of-type {\n",
       "        vertical-align: middle;\n",
       "    }\n",
       "\n",
       "    .dataframe tbody tr th {\n",
       "        vertical-align: top;\n",
       "    }\n",
       "\n",
       "    .dataframe thead th {\n",
       "        text-align: right;\n",
       "    }\n",
       "</style>\n",
       "<table border=\"1\" class=\"dataframe\">\n",
       "  <thead>\n",
       "    <tr style=\"text-align: right;\">\n",
       "      <th></th>\n",
       "      <th>column_name</th>\n",
       "      <th>mean</th>\n",
       "    </tr>\n",
       "  </thead>\n",
       "  <tbody>\n",
       "    <tr>\n",
       "      <th>0</th>\n",
       "      <td>date</td>\n",
       "      <td>ngày diễn ra trận đấu</td>\n",
       "    </tr>\n",
       "    <tr>\n",
       "      <th>1</th>\n",
       "      <td>home_team</td>\n",
       "      <td>tên của đội chủ nhà</td>\n",
       "    </tr>\n",
       "    <tr>\n",
       "      <th>2</th>\n",
       "      <td>away_team</td>\n",
       "      <td>tên của đội khách</td>\n",
       "    </tr>\n",
       "    <tr>\n",
       "      <th>3</th>\n",
       "      <td>home_score</td>\n",
       "      <td>số bàn thắng đội chủ nhà ghi được bao gồm thời gian thi đấu chính thức và hiệp phụ - không tính loạt luân lưu</td>\n",
       "    </tr>\n",
       "    <tr>\n",
       "      <th>4</th>\n",
       "      <td>away_score</td>\n",
       "      <td>số bàn thắng đội khách ghi được bao gồm thời gian thi đấu chính thức và hiệp phụ - không tính loạt luân lưu</td>\n",
       "    </tr>\n",
       "    <tr>\n",
       "      <th>5</th>\n",
       "      <td>tournament</td>\n",
       "      <td>tên của giải đấu</td>\n",
       "    </tr>\n",
       "    <tr>\n",
       "      <th>6</th>\n",
       "      <td>city</td>\n",
       "      <td>tên của thành phố trận đấu diễn ra</td>\n",
       "    </tr>\n",
       "    <tr>\n",
       "      <th>7</th>\n",
       "      <td>country</td>\n",
       "      <td>tên của quốc gia mà trận đấu diễn ra</td>\n",
       "    </tr>\n",
       "    <tr>\n",
       "      <th>8</th>\n",
       "      <td>neutral</td>\n",
       "      <td>cột TRUE/FALSE nếu được tỏ trức ở một sân trung lập thì trả về giá trị TRUE</td>\n",
       "    </tr>\n",
       "  </tbody>\n",
       "</table>\n",
       "</div>"
      ],
      "text/plain": [
       "  column_name  \\\n",
       "0        date   \n",
       "1   home_team   \n",
       "2   away_team   \n",
       "3  home_score   \n",
       "4  away_score   \n",
       "5  tournament   \n",
       "6        city   \n",
       "7     country   \n",
       "8     neutral   \n",
       "\n",
       "                                                                                                             mean  \n",
       "0                                                                                           ngày diễn ra trận đấu  \n",
       "1                                                                                             tên của đội chủ nhà  \n",
       "2                                                                                               tên của đội khách  \n",
       "3   số bàn thắng đội chủ nhà ghi được bao gồm thời gian thi đấu chính thức và hiệp phụ - không tính loạt luân lưu  \n",
       "4     số bàn thắng đội khách ghi được bao gồm thời gian thi đấu chính thức và hiệp phụ - không tính loạt luân lưu  \n",
       "5                                                                                                tên của giải đấu  \n",
       "6                                                                              tên của thành phố trận đấu diễn ra  \n",
       "7                                                                            tên của quốc gia mà trận đấu diễn ra  \n",
       "8                                     cột TRUE/FALSE nếu được tỏ trức ở một sân trung lập thì trả về giá trị TRUE  "
      ]
     },
     "execution_count": 8,
     "metadata": {},
     "output_type": "execute_result"
    }
   ],
   "source": [
    "match_cols_meaning = pd.read_csv('mean_result.csv')\n",
    "pd.set_option('display.max_colwidth',None)\n",
    "match_cols_meaning"
   ]
  },
  {
   "cell_type": "markdown",
   "metadata": {},
   "source": [
    "Thông tin `df_continent`"
   ]
  },
  {
   "cell_type": "code",
   "execution_count": 9,
   "metadata": {},
   "outputs": [
    {
     "data": {
      "text/html": [
       "<div>\n",
       "<style scoped>\n",
       "    .dataframe tbody tr th:only-of-type {\n",
       "        vertical-align: middle;\n",
       "    }\n",
       "\n",
       "    .dataframe tbody tr th {\n",
       "        vertical-align: top;\n",
       "    }\n",
       "\n",
       "    .dataframe thead th {\n",
       "        text-align: right;\n",
       "    }\n",
       "</style>\n",
       "<table border=\"1\" class=\"dataframe\">\n",
       "  <thead>\n",
       "    <tr style=\"text-align: right;\">\n",
       "      <th></th>\n",
       "      <th>column_name</th>\n",
       "      <th>mean</th>\n",
       "    </tr>\n",
       "  </thead>\n",
       "  <tbody>\n",
       "    <tr>\n",
       "      <th>0</th>\n",
       "      <td>Country</td>\n",
       "      <td>Tên quốc gia - lãnh thổ theo FIFA</td>\n",
       "    </tr>\n",
       "    <tr>\n",
       "      <th>1</th>\n",
       "      <td>Code</td>\n",
       "      <td>Mã của quốc gia theo FIFA</td>\n",
       "    </tr>\n",
       "    <tr>\n",
       "      <th>2</th>\n",
       "      <td>Continent</td>\n",
       "      <td>Tên lục địa</td>\n",
       "    </tr>\n",
       "  </tbody>\n",
       "</table>\n",
       "</div>"
      ],
      "text/plain": [
       "  column_name                                mean\n",
       "0     Country   Tên quốc gia - lãnh thổ theo FIFA\n",
       "1        Code           Mã của quốc gia theo FIFA\n",
       "2   Continent                         Tên lục địa"
      ]
     },
     "execution_count": 9,
     "metadata": {},
     "output_type": "execute_result"
    }
   ],
   "source": [
    "continent_cols_meaning = pd.read_csv('mean_continent.csv')\n",
    "pd.set_option('display.max_colwidth',None)\n",
    "continent_cols_meaning"
   ]
  },
  {
   "cell_type": "markdown",
   "metadata": {},
   "source": [
    "### Mỗi cột hiện đang có kiểu dữ liệu gì? Có cần phải thay đổi hay không?"
   ]
  },
  {
   "cell_type": "markdown",
   "metadata": {},
   "source": [
    "- Thông tin kiểu dữ liệu `df_match`"
   ]
  },
  {
   "cell_type": "code",
   "execution_count": 10,
   "metadata": {},
   "outputs": [
    {
     "data": {
      "text/plain": [
       "date           object\n",
       "home_team      object\n",
       "away_team      object\n",
       "home_score    float64\n",
       "away_score    float64\n",
       "tournament     object\n",
       "city           object\n",
       "country        object\n",
       "neutral        object\n",
       "dtype: object"
      ]
     },
     "execution_count": 10,
     "metadata": {},
     "output_type": "execute_result"
    }
   ],
   "source": [
    "df_match.dtypes"
   ]
  },
  {
   "cell_type": "markdown",
   "metadata": {},
   "source": [
    "có 3 cột thể hiện dữ liệu numneric là `date` `home_score` và `away_score`. Nhưng ở đây `date` vẫn thể hiện kiểu dữ liệu là `object`, có vẻ như ta sẽ thay đổi kiểu dữ liệu cột `date` về dạng `datetime`"
   ]
  },
  {
   "cell_type": "code",
   "execution_count": 11,
   "metadata": {},
   "outputs": [
    {
     "data": {
      "text/plain": [
       "date          datetime64[ns]\n",
       "home_team             object\n",
       "away_team             object\n",
       "home_score           float64\n",
       "away_score           float64\n",
       "tournament            object\n",
       "city                  object\n",
       "country               object\n",
       "neutral               object\n",
       "dtype: object"
      ]
     },
     "execution_count": 11,
     "metadata": {},
     "output_type": "execute_result"
    }
   ],
   "source": [
    "df_match['date'] = pd.to_datetime(df_match['date'], format=\"%Y-%m-%d\")\n",
    "df_match.dtypes"
   ]
  },
  {
   "cell_type": "markdown",
   "metadata": {},
   "source": [
    "- Có vẻ dữ liệu cột `date` không có vấn đề gì cả, vì khi chuyển qua datetime chương trình không báo lỗi"
   ]
  },
  {
   "cell_type": "markdown",
   "metadata": {},
   "source": [
    "- Thông tin kiểu dữ liệu `df_continent`"
   ]
  },
  {
   "cell_type": "code",
   "execution_count": 12,
   "metadata": {},
   "outputs": [
    {
     "data": {
      "text/plain": [
       "Code         object\n",
       "Country      object\n",
       "Continent    object\n",
       "dtype: object"
      ]
     },
     "execution_count": 12,
     "metadata": {},
     "output_type": "execute_result"
    }
   ],
   "source": [
    "df_continent.dtypes"
   ]
  },
  {
   "cell_type": "markdown",
   "metadata": {},
   "source": [
    "Vì dữ liệu của `df_continent` được biểu diễn hoàn toàn dưới dạng chuỗi nên có vẻ không có gì cần phải thay đổi"
   ]
  },
  {
   "cell_type": "markdown",
   "metadata": {},
   "source": [
    "### Với mỗi cột có kiểu dữ liệu dạng số, các giá trị được phân bố như thế nào?"
   ]
  },
  {
   "cell_type": "markdown",
   "metadata": {},
   "source": [
    "#### Trước khi tìm hiểu kĩ về các dữ liệu dạng số, có giá trị nào không hợp lệ trong mỗi cột không?"
   ]
  },
  {
   "cell_type": "markdown",
   "metadata": {},
   "source": [
    "1. Trước tiên ta kiểm tra cột `date`. Trong đó ta phải chắc chắn rằng không có trận đấu nào chưa được đá mà đã có kết quả, tức là thời gian lớn hơn thời điểm hiện tai mà có kết quả\n"
   ]
  },
  {
   "cell_type": "code",
   "execution_count": 13,
   "metadata": {},
   "outputs": [
    {
     "data": {
      "text/plain": [
       "False"
      ]
     },
     "execution_count": 13,
     "metadata": {},
     "output_type": "execute_result"
    }
   ],
   "source": [
    "np.all(df_match['date'] > np.datetime64(dt.date.today()))"
   ]
  },
  {
   "cell_type": "markdown",
   "metadata": {},
   "source": [
    "- Vậy là không có dữ liệu nào của cột `date` có dấu hiệu bất thường"
   ]
  },
  {
   "cell_type": "markdown",
   "metadata": {},
   "source": [
    "2. Tiếp theo kiểm tra 2 cột `home_score` và `away_score` coi có giá trị nào bị âm không?"
   ]
  },
  {
   "cell_type": "code",
   "execution_count": 14,
   "metadata": {},
   "outputs": [
    {
     "data": {
      "text/plain": [
       "0"
      ]
     },
     "execution_count": 14,
     "metadata": {},
     "output_type": "execute_result"
    }
   ],
   "source": [
    "len(df_match[(df_match['home_score'] < 0) | (df_match['away_score'] < 0) ])"
   ]
  },
  {
   "cell_type": "markdown",
   "metadata": {},
   "source": [
    "- Vậy là dữ liệu 2 cột `home_socre` và `away_score` không có giá trị nào bị âm"
   ]
  },
  {
   "cell_type": "markdown",
   "metadata": {},
   "source": [
    "#### Quay lại bước khám phá dữ liệu"
   ]
  },
  {
   "cell_type": "markdown",
   "metadata": {},
   "source": [
    "Ta sẽ tính một số thông tin sau của các cột dữ liệu dạng số:\n",
    "\n",
    "- Số lượng các giá trị thiếu.\n",
    "- Tỉ lệ % các giá trị thiếu (0->100).\n",
    "- Giá trị min.\n",
    "- Giá trị median.\n",
    "- Giá trị max."
   ]
  },
  {
   "cell_type": "code",
   "execution_count": 15,
   "metadata": {},
   "outputs": [
    {
     "data": {
      "text/html": [
       "<div>\n",
       "<style scoped>\n",
       "    .dataframe tbody tr th:only-of-type {\n",
       "        vertical-align: middle;\n",
       "    }\n",
       "\n",
       "    .dataframe tbody tr th {\n",
       "        vertical-align: top;\n",
       "    }\n",
       "\n",
       "    .dataframe thead th {\n",
       "        text-align: right;\n",
       "    }\n",
       "</style>\n",
       "<table border=\"1\" class=\"dataframe\">\n",
       "  <thead>\n",
       "    <tr style=\"text-align: right;\">\n",
       "      <th></th>\n",
       "      <th>date</th>\n",
       "      <th>home_score</th>\n",
       "      <th>away_score</th>\n",
       "    </tr>\n",
       "  </thead>\n",
       "  <tbody>\n",
       "    <tr>\n",
       "      <th>num_missing</th>\n",
       "      <td>0</td>\n",
       "      <td>3.00</td>\n",
       "      <td>3.00</td>\n",
       "    </tr>\n",
       "    <tr>\n",
       "      <th>missing_percentage</th>\n",
       "      <td>0.0</td>\n",
       "      <td>0.01</td>\n",
       "      <td>0.01</td>\n",
       "    </tr>\n",
       "    <tr>\n",
       "      <th>min</th>\n",
       "      <td>1872-11-30 00:00:00</td>\n",
       "      <td>0.00</td>\n",
       "      <td>0.00</td>\n",
       "    </tr>\n",
       "    <tr>\n",
       "      <th>median</th>\n",
       "      <td>1999-04-28 00:00:00</td>\n",
       "      <td>1.00</td>\n",
       "      <td>1.00</td>\n",
       "    </tr>\n",
       "    <tr>\n",
       "      <th>max</th>\n",
       "      <td>2021-12-18 00:00:00</td>\n",
       "      <td>31.00</td>\n",
       "      <td>21.00</td>\n",
       "    </tr>\n",
       "  </tbody>\n",
       "</table>\n",
       "</div>"
      ],
      "text/plain": [
       "                                   date  home_score  away_score\n",
       "num_missing                           0        3.00        3.00\n",
       "missing_percentage                  0.0        0.01        0.01\n",
       "min                 1872-11-30 00:00:00        0.00        0.00\n",
       "median              1999-04-28 00:00:00        1.00        1.00\n",
       "max                 2021-12-18 00:00:00       31.00       21.00"
      ]
     },
     "execution_count": 15,
     "metadata": {},
     "output_type": "execute_result"
    }
   ],
   "source": [
    "\n",
    "nume_col_info_df = pd.DataFrame()\n",
    "for col in df_match.keys():\n",
    "    if df_match[col].dtype in [np.int64, np.float64,'<M8[ns]'] :\n",
    "        missing = df_match[col].isnull().sum()\n",
    "        missing_percentage = round(df_match[col].isnull().sum() * 100 / len(df_match[col]),2)\n",
    "        min_value = df_match[col].min()         \n",
    "        median = df_match[col].median() \n",
    "        max_value = df_match[col].max()\n",
    "        row_line = pd.Series([missing,missing_percentage, min_value,  median, max_value], \n",
    "                                index = ['num_missing','missing_percentage', 'min',  'median', 'max'])\n",
    "        nume_col_info_df[col] = row_line\n",
    "nume_col_info_df    "
   ]
  },
  {
   "cell_type": "markdown",
   "metadata": {},
   "source": [
    "Mô hình hóa phân bố các giá trị số"
   ]
  },
  {
   "cell_type": "code",
   "execution_count": 16,
   "metadata": {},
   "outputs": [
    {
     "data": {
      "text/plain": [
       "Text(0.5, 1.0, 'number score away')"
      ]
     },
     "execution_count": 16,
     "metadata": {},
     "output_type": "execute_result"
    },
    {
     "data": {
      "image/png": "[encoded data removed]",
      "text/plain": [
       "<Figure size 432x288 with 2 Axes>"
      ]
     },
     "metadata": {
      "needs_background": "light"
     },
     "output_type": "display_data"
    }
   ],
   "source": [
    "fig, (ax1, ax2) = plt.subplots(1,2)\n",
    "fig.tight_layout()\n",
    "ax1.hist(df_match.home_score);\n",
    "ax1.set_title('number score home')\n",
    "ax2.hist(df_match.away_score);\n",
    "ax2.set_title('number score away')"
   ]
  },
  {
   "cell_type": "code",
   "execution_count": 17,
   "metadata": {},
   "outputs": [
    {
     "data": {
      "text/html": [
       "<div>\n",
       "<style scoped>\n",
       "    .dataframe tbody tr th:only-of-type {\n",
       "        vertical-align: middle;\n",
       "    }\n",
       "\n",
       "    .dataframe tbody tr th {\n",
       "        vertical-align: top;\n",
       "    }\n",
       "\n",
       "    .dataframe thead th {\n",
       "        text-align: right;\n",
       "    }\n",
       "</style>\n",
       "<table border=\"1\" class=\"dataframe\">\n",
       "  <thead>\n",
       "    <tr style=\"text-align: right;\">\n",
       "      <th></th>\n",
       "      <th>home_score</th>\n",
       "      <th>away_score</th>\n",
       "    </tr>\n",
       "  </thead>\n",
       "  <tbody>\n",
       "    <tr>\n",
       "      <th>0</th>\n",
       "      <td>0.0</td>\n",
       "      <td>0.0</td>\n",
       "    </tr>\n",
       "    <tr>\n",
       "      <th>1</th>\n",
       "      <td>4.0</td>\n",
       "      <td>2.0</td>\n",
       "    </tr>\n",
       "    <tr>\n",
       "      <th>2</th>\n",
       "      <td>2.0</td>\n",
       "      <td>1.0</td>\n",
       "    </tr>\n",
       "    <tr>\n",
       "      <th>3</th>\n",
       "      <td>2.0</td>\n",
       "      <td>2.0</td>\n",
       "    </tr>\n",
       "    <tr>\n",
       "      <th>4</th>\n",
       "      <td>3.0</td>\n",
       "      <td>0.0</td>\n",
       "    </tr>\n",
       "    <tr>\n",
       "      <th>...</th>\n",
       "      <td>...</td>\n",
       "      <td>...</td>\n",
       "    </tr>\n",
       "    <tr>\n",
       "      <th>43079</th>\n",
       "      <td>2.0</td>\n",
       "      <td>2.0</td>\n",
       "    </tr>\n",
       "    <tr>\n",
       "      <th>43080</th>\n",
       "      <td>0.0</td>\n",
       "      <td>1.0</td>\n",
       "    </tr>\n",
       "    <tr>\n",
       "      <th>43081</th>\n",
       "      <td>NaN</td>\n",
       "      <td>NaN</td>\n",
       "    </tr>\n",
       "    <tr>\n",
       "      <th>43082</th>\n",
       "      <td>NaN</td>\n",
       "      <td>NaN</td>\n",
       "    </tr>\n",
       "    <tr>\n",
       "      <th>43085</th>\n",
       "      <td>NaN</td>\n",
       "      <td>NaN</td>\n",
       "    </tr>\n",
       "  </tbody>\n",
       "</table>\n",
       "<p>39479 rows × 2 columns</p>\n",
       "</div>"
      ],
      "text/plain": [
       "       home_score  away_score\n",
       "0             0.0         0.0\n",
       "1             4.0         2.0\n",
       "2             2.0         1.0\n",
       "3             2.0         2.0\n",
       "4             3.0         0.0\n",
       "...           ...         ...\n",
       "43079         2.0         2.0\n",
       "43080         0.0         1.0\n",
       "43081         NaN         NaN\n",
       "43082         NaN         NaN\n",
       "43085         NaN         NaN\n",
       "\n",
       "[39479 rows x 2 columns]"
      ]
     },
     "execution_count": 17,
     "metadata": {},
     "output_type": "execute_result"
    }
   ],
   "source": [
    "df_match[['home_score','away_score']]"
   ]
  },
  {
   "cell_type": "markdown",
   "metadata": {},
   "source": [
    "- Từ bảng trên, ta có thể max của `home_score` và `away_score` là 31 và 21 , có lẽ đây là những trận đấu vô cùng cởi mở từ các đội hoặc là những trận đấu một chiều, trình độ chênh lệch giữ hai đội quá lớn. min là 0.\n",
    "- Nhìn vào đồ thị, ta hiểu được tại sao mean lại là 1\n",
    "- Tương tự với `date` như đã tiền xử lý ở trên\n",
    "\n",
    "     => Không có gì bất thường."
   ]
  },
  {
   "cell_type": "markdown",
   "metadata": {},
   "source": [
    "### Với các cột dữ liệu dạng phân loại (categorical), các giá trị được phân bố như thế nào?"
   ]
  },
  {
   "cell_type": "markdown",
   "metadata": {},
   "source": [
    "Ta sẽ tính một số thông tin sau:\n",
    "\n",
    "- Số lượng các giá trị thiếu.\n",
    "- Tỉ lệ % các giá trị thiếu (0->100).\n",
    "- Số lượng các giá trị các nhau (không xét giá trị thiếu).\n",
    "- TỈ lệ % (0->100) của mỗi giá trị của cột được sắp xếp theo tỉ lệ % giảm dần (không xét giá trị thiếu)."
   ]
  },
  {
   "cell_type": "code",
   "execution_count": 18,
   "metadata": {},
   "outputs": [
    {
     "data": {
      "text/html": [
       "<div>\n",
       "<style scoped>\n",
       "    .dataframe tbody tr th:only-of-type {\n",
       "        vertical-align: middle;\n",
       "    }\n",
       "\n",
       "    .dataframe tbody tr th {\n",
       "        vertical-align: top;\n",
       "    }\n",
       "\n",
       "    .dataframe thead th {\n",
       "        text-align: right;\n",
       "    }\n",
       "</style>\n",
       "<table border=\"1\" class=\"dataframe\">\n",
       "  <thead>\n",
       "    <tr style=\"text-align: right;\">\n",
       "      <th></th>\n",
       "      <th>home_team</th>\n",
       "      <th>away_team</th>\n",
       "      <th>tournament</th>\n",
       "      <th>city</th>\n",
       "      <th>country</th>\n",
       "      <th>neutral</th>\n",
       "    </tr>\n",
       "  </thead>\n",
       "  <tbody>\n",
       "    <tr>\n",
       "      <th>num_missing</th>\n",
       "      <td>0</td>\n",
       "      <td>0</td>\n",
       "      <td>0</td>\n",
       "      <td>0</td>\n",
       "      <td>0</td>\n",
       "      <td>0</td>\n",
       "    </tr>\n",
       "    <tr>\n",
       "      <th>missing_percentage</th>\n",
       "      <td>0.0</td>\n",
       "      <td>0.0</td>\n",
       "      <td>0.0</td>\n",
       "      <td>0.0</td>\n",
       "      <td>0.0</td>\n",
       "      <td>0.0</td>\n",
       "    </tr>\n",
       "    <tr>\n",
       "      <th>num_values</th>\n",
       "      <td>209</td>\n",
       "      <td>209</td>\n",
       "      <td>117</td>\n",
       "      <td>1885</td>\n",
       "      <td>248</td>\n",
       "      <td>2</td>\n",
       "    </tr>\n",
       "    <tr>\n",
       "      <th>value_percentages</th>\n",
       "      <td>{'Brazil': 1.4, 'Argentina': 1.4, 'Mexico': 1.3, 'England': 1.3, 'Germany': 1.3, 'Sweden': 1.2, ...</td>\n",
       "      <td>{'Uruguay': 1.4, 'Sweden': 1.3, 'England': 1.3, 'Paraguay': 1.2, 'Hungary': 1.1, 'Argentina': 1....</td>\n",
       "      <td>{'Friendly': 40.0, 'FIFA World Cup qualification': 19.4, 'UEFA Euro qualification': 6.2, 'Africa...</td>\n",
       "      <td>{'Kuala Lumpur': 1.5, 'Doha': 1.2, 'Bangkok': 1.0, 'London': 1.0, 'Budapest': 0.9, 'Montevideo':...</td>\n",
       "      <td>{'United States': 3.0, 'France': 1.8, 'Malaysia': 1.7, 'England': 1.5, 'Germany': 1.4, 'Qatar': ...</td>\n",
       "      <td>{False: 76.5, True: 23.5}</td>\n",
       "    </tr>\n",
       "  </tbody>\n",
       "</table>\n",
       "</div>"
      ],
      "text/plain": [
       "                                                                                                              home_team  \\\n",
       "num_missing                                                                                                           0   \n",
       "missing_percentage                                                                                                  0.0   \n",
       "num_values                                                                                                          209   \n",
       "value_percentages   {'Brazil': 1.4, 'Argentina': 1.4, 'Mexico': 1.3, 'England': 1.3, 'Germany': 1.3, 'Sweden': 1.2, ...   \n",
       "\n",
       "                                                                                                              away_team  \\\n",
       "num_missing                                                                                                           0   \n",
       "missing_percentage                                                                                                  0.0   \n",
       "num_values                                                                                                          209   \n",
       "value_percentages   {'Uruguay': 1.4, 'Sweden': 1.3, 'England': 1.3, 'Paraguay': 1.2, 'Hungary': 1.1, 'Argentina': 1....   \n",
       "\n",
       "                                                                                                             tournament  \\\n",
       "num_missing                                                                                                           0   \n",
       "missing_percentage                                                                                                  0.0   \n",
       "num_values                                                                                                          117   \n",
       "value_percentages   {'Friendly': 40.0, 'FIFA World Cup qualification': 19.4, 'UEFA Euro qualification': 6.2, 'Africa...   \n",
       "\n",
       "                                                                                                                   city  \\\n",
       "num_missing                                                                                                           0   \n",
       "missing_percentage                                                                                                  0.0   \n",
       "num_values                                                                                                         1885   \n",
       "value_percentages   {'Kuala Lumpur': 1.5, 'Doha': 1.2, 'Bangkok': 1.0, 'London': 1.0, 'Budapest': 0.9, 'Montevideo':...   \n",
       "\n",
       "                                                                                                                country  \\\n",
       "num_missing                                                                                                           0   \n",
       "missing_percentage                                                                                                  0.0   \n",
       "num_values                                                                                                          248   \n",
       "value_percentages   {'United States': 3.0, 'France': 1.8, 'Malaysia': 1.7, 'England': 1.5, 'Germany': 1.4, 'Qatar': ...   \n",
       "\n",
       "                                      neutral  \n",
       "num_missing                                 0  \n",
       "missing_percentage                        0.0  \n",
       "num_values                                  2  \n",
       "value_percentages   {False: 76.5, True: 23.5}  "
      ]
     },
     "execution_count": 18,
     "metadata": {},
     "output_type": "execute_result"
    }
   ],
   "source": [
    "#set colwidth whit row have too much info\n",
    "pd.set_option('display.max_colwidth',100)\n",
    "\n",
    "cate_col = ['home_team','away_team','tournament','city','country','neutral']\n",
    "\n",
    "missing = []\n",
    "missing_percentage=[]\n",
    "num_values=[]\n",
    "value_percentages=[]\n",
    "\n",
    "for column in cate_col:\n",
    "    missing.append(df_match[column].isnull().sum())\n",
    "    missing_percentage.append((df_match[column].isnull().sum() * 100 / len(df_match)).round(3))\n",
    "    temp = df_match[column].dropna()\n",
    "    num_values.append(len(temp.unique()))\n",
    "    value_percentages.append(((temp.value_counts(normalize=True)*100).round(1)).to_dict())\n",
    "cate_col_info_df = pd.DataFrame([missing,missing_percentage,num_values,value_percentages],\n",
    "                            index=['num_missing','missing_percentage','num_values','value_percentages'],\n",
    "                            columns=cate_col)\n",
    "\n",
    "cate_col_info_df\n"
   ]
  },
  {
   "cell_type": "markdown",
   "metadata": {},
   "source": [
    "Mô hình hóa phân bố các dữ liệu\n"
   ]
  },
  {
   "cell_type": "code",
   "execution_count": 19,
   "metadata": {},
   "outputs": [
    {
     "data": {
      "image/png": "[encoded data removed]",
      "text/plain": [
       "<Figure size 1080x1080 with 6 Axes>"
      ]
     },
     "metadata": {
      "needs_background": "light"
     },
     "output_type": "display_data"
    }
   ],
   "source": [
    "cate_col = ['home_team','away_team','tournament','city','country','neutral']\n",
    "\n",
    "df_temp = df_match[cate_col]\n",
    "fig, axs = plt.subplots(3,2)\n",
    "fig.set_figheight(15)\n",
    "fig.set_figwidth(15)\n",
    "fig.tight_layout(pad=1, w_pad=1, h_pad=1.0)\n",
    "for i in range(0,3):\n",
    "    for j in range(0,2):\n",
    "        axs[i,j].bar(df_match[cate_col[i*2+j]].value_counts().head(5).index,\\\n",
    "            df_match[cate_col[i*2+j]].value_counts().head(5).values)\n",
    "        axs[i,j].set_title(cate_col[i*2+j])\n"
   ]
  },
  {
   "cell_type": "markdown",
   "metadata": {},
   "source": [
    "- Dữ liệu có vẻ không có gì bất thường, tỉ lệ các nước làm `home_team `và `away_team` khá tương đương, có sự chênh lệch này do ta đã xóa những trận đấu có chứa quốc gia không thuộc hệ thống của FIFA.\n",
    "- Giao hữu là giải được tổ chức nhiều nhất trên thế giới nên nó chiếm tỉ lệ số trận cao hoàn toàn hợp lý\n",
    "- Các giải đấu thường tổ chức ở một quốc gia trung lập nào nên tỉ lệ trận đấu sân trung lập nhiều hơn sân nhà là điều đương nhiên"
   ]
  },
  {
   "cell_type": "markdown",
   "metadata": {},
   "source": [
    "---"
   ]
  },
  {
   "cell_type": "markdown",
   "metadata": {},
   "source": [
    "# Đưa ra các câu hỏi cần trả lời"
   ]
  },
  {
   "cell_type": "markdown",
   "metadata": {},
   "source": [
    "## 1. Đội bóng nào vĩ đại nhất thế giới? "
   ]
  },
  {
   "cell_type": "markdown",
   "metadata": {},
   "source": [
    "- Bóng đá là môn thể thao có lịch sử lâu đời, xuyên suốt lịch sử bóng đá, qua từng thời kì đêu có những đội thống trị bóng đá toàn thế giới. Vậy thì đội bóng nào mới là đội nổi bật nhất trong tất cả? Trả lời được câu hỏi này ta có thể biết được phần nào mức độ phát triển bóng đá của các nước trên thế giới, lựa chọn đội bóng hâm mộ dựa trên các thông số, cũng như hiểu được tại sao những đội bóng này lại được nhắc nhiều trên truyền thông đến vậy \n",
    "- Vậy một đội bóng vĩ đại là đội bóng như thế nào? Theo tôi đó là \n",
    "    - Đội bóng ghi được nhiều bàn thắng \n",
    "    - Đội bóng giành được nhiều chiến thắng \n",
    "    - Đội bóng tham gia nhiều trận đấu \n",
    "    \n",
    "    => Đội có tỉ lệ thắng cao và tỉ lệ ghi bàn cao "
   ]
  },
  {
   "cell_type": "markdown",
   "metadata": {},
   "source": [
    "### Tiền xử lí + phân tích dữ liệu để trả lời câu hỏi"
   ]
  },
  {
   "cell_type": "markdown",
   "metadata": {},
   "source": [
    "#### Trước khi đi sâu vào phân tích, ta sẽ tính kết quả của các trận đấu, đội thắng của các trận đấu "
   ]
  },
  {
   "cell_type": "markdown",
   "metadata": {},
   "source": [
    "Dùng `np.select` để có thể lọc ra cột `result` chứa kết quả là Tên đội thắng hoặc `Draw` nếu là hòa. Lưu kết quả vào `df_cau1` để tránh ảnh hưởng đến `df_match`"
   ]
  },
  {
   "cell_type": "code",
   "execution_count": 20,
   "metadata": {},
   "outputs": [
    {
     "data": {
      "text/html": [
       "<div>\n",
       "<style scoped>\n",
       "    .dataframe tbody tr th:only-of-type {\n",
       "        vertical-align: middle;\n",
       "    }\n",
       "\n",
       "    .dataframe tbody tr th {\n",
       "        vertical-align: top;\n",
       "    }\n",
       "\n",
       "    .dataframe thead th {\n",
       "        text-align: right;\n",
       "    }\n",
       "</style>\n",
       "<table border=\"1\" class=\"dataframe\">\n",
       "  <thead>\n",
       "    <tr style=\"text-align: right;\">\n",
       "      <th></th>\n",
       "      <th>date</th>\n",
       "      <th>home_team</th>\n",
       "      <th>away_team</th>\n",
       "      <th>home_score</th>\n",
       "      <th>away_score</th>\n",
       "      <th>tournament</th>\n",
       "      <th>city</th>\n",
       "      <th>country</th>\n",
       "      <th>neutral</th>\n",
       "      <th>result</th>\n",
       "    </tr>\n",
       "  </thead>\n",
       "  <tbody>\n",
       "    <tr>\n",
       "      <th>0</th>\n",
       "      <td>1872-11-30</td>\n",
       "      <td>Scotland</td>\n",
       "      <td>England</td>\n",
       "      <td>0.0</td>\n",
       "      <td>0.0</td>\n",
       "      <td>Friendly</td>\n",
       "      <td>Glasgow</td>\n",
       "      <td>Scotland</td>\n",
       "      <td>False</td>\n",
       "      <td>Draw</td>\n",
       "    </tr>\n",
       "    <tr>\n",
       "      <th>1</th>\n",
       "      <td>1873-03-08</td>\n",
       "      <td>England</td>\n",
       "      <td>Scotland</td>\n",
       "      <td>4.0</td>\n",
       "      <td>2.0</td>\n",
       "      <td>Friendly</td>\n",
       "      <td>London</td>\n",
       "      <td>England</td>\n",
       "      <td>False</td>\n",
       "      <td>England</td>\n",
       "    </tr>\n",
       "    <tr>\n",
       "      <th>2</th>\n",
       "      <td>1874-03-07</td>\n",
       "      <td>Scotland</td>\n",
       "      <td>England</td>\n",
       "      <td>2.0</td>\n",
       "      <td>1.0</td>\n",
       "      <td>Friendly</td>\n",
       "      <td>Glasgow</td>\n",
       "      <td>Scotland</td>\n",
       "      <td>False</td>\n",
       "      <td>Scotland</td>\n",
       "    </tr>\n",
       "    <tr>\n",
       "      <th>3</th>\n",
       "      <td>1875-03-06</td>\n",
       "      <td>England</td>\n",
       "      <td>Scotland</td>\n",
       "      <td>2.0</td>\n",
       "      <td>2.0</td>\n",
       "      <td>Friendly</td>\n",
       "      <td>London</td>\n",
       "      <td>England</td>\n",
       "      <td>False</td>\n",
       "      <td>Draw</td>\n",
       "    </tr>\n",
       "    <tr>\n",
       "      <th>4</th>\n",
       "      <td>1876-03-04</td>\n",
       "      <td>Scotland</td>\n",
       "      <td>England</td>\n",
       "      <td>3.0</td>\n",
       "      <td>0.0</td>\n",
       "      <td>Friendly</td>\n",
       "      <td>Glasgow</td>\n",
       "      <td>Scotland</td>\n",
       "      <td>False</td>\n",
       "      <td>Scotland</td>\n",
       "    </tr>\n",
       "  </tbody>\n",
       "</table>\n",
       "</div>"
      ],
      "text/plain": [
       "        date home_team away_team  home_score  away_score tournament     city  \\\n",
       "0 1872-11-30  Scotland   England         0.0         0.0   Friendly  Glasgow   \n",
       "1 1873-03-08   England  Scotland         4.0         2.0   Friendly   London   \n",
       "2 1874-03-07  Scotland   England         2.0         1.0   Friendly  Glasgow   \n",
       "3 1875-03-06   England  Scotland         2.0         2.0   Friendly   London   \n",
       "4 1876-03-04  Scotland   England         3.0         0.0   Friendly  Glasgow   \n",
       "\n",
       "    country neutral    result  \n",
       "0  Scotland   False      Draw  \n",
       "1   England   False   England  \n",
       "2  Scotland   False  Scotland  \n",
       "3   England   False      Draw  \n",
       "4  Scotland   False  Scotland  "
      ]
     },
     "execution_count": 20,
     "metadata": {},
     "output_type": "execute_result"
    }
   ],
   "source": [
    "df_cau1 = df_match.copy()\n",
    "\n",
    "condition = [(df_cau1['home_score']==df_cau1['away_score']),(df_cau1['home_score']>df_cau1['away_score']),(df_cau1['home_score']<df_cau1['away_score'])]\n",
    "value=['Draw',df_cau1['home_team'],df_cau1['away_team']]\n",
    "#phan loai theo dieu kien condition\n",
    "df_cau1['result']=np.select(condition,value)\n",
    "df_cau1.head()"
   ]
  },
  {
   "cell_type": "markdown",
   "metadata": {},
   "source": [
    "### Quay lại các bước để trả lời câu hỏi"
   ]
  },
  {
   "cell_type": "markdown",
   "metadata": {},
   "source": [
    "#### Đội bóng nào ghi được nhiều bàn thắng nhất?"
   ]
  },
  {
   "cell_type": "markdown",
   "metadata": {},
   "source": [
    "##### Bước 1: Tính số bàn thắng khi ở home_team và away_team của các đội bóng"
   ]
  },
  {
   "cell_type": "code",
   "execution_count": 21,
   "metadata": {},
   "outputs": [],
   "source": [
    "#tim so ban thang khi la home_team\n",
    "df_home_score = df_cau1.groupby('home_team').sum()[['home_score']]\n",
    "df_home_score = df_home_score.reset_index()\n",
    "#tim so ban thang khi la away_team\n",
    "df_away_score = df_cau1.groupby('away_team').sum()[['away_score']]\n",
    "df_away_score = df_away_score.reset_index()"
   ]
  },
  {
   "cell_type": "markdown",
   "metadata": {},
   "source": [
    "##### Bước 2: Gộp 2 dataframe ở trên để tạo ra `df_country_score` chứa kết quả sân nhà và sân khách của các đội bóng"
   ]
  },
  {
   "cell_type": "code",
   "execution_count": 22,
   "metadata": {},
   "outputs": [
    {
     "data": {
      "text/html": [
       "<div>\n",
       "<style scoped>\n",
       "    .dataframe tbody tr th:only-of-type {\n",
       "        vertical-align: middle;\n",
       "    }\n",
       "\n",
       "    .dataframe tbody tr th {\n",
       "        vertical-align: top;\n",
       "    }\n",
       "\n",
       "    .dataframe thead th {\n",
       "        text-align: right;\n",
       "    }\n",
       "</style>\n",
       "<table border=\"1\" class=\"dataframe\">\n",
       "  <thead>\n",
       "    <tr style=\"text-align: right;\">\n",
       "      <th></th>\n",
       "      <th>country</th>\n",
       "      <th>home_score</th>\n",
       "      <th>away_score</th>\n",
       "    </tr>\n",
       "  </thead>\n",
       "  <tbody>\n",
       "    <tr>\n",
       "      <th>0</th>\n",
       "      <td>Afghanistan</td>\n",
       "      <td>52.0</td>\n",
       "      <td>70.0</td>\n",
       "    </tr>\n",
       "    <tr>\n",
       "      <th>1</th>\n",
       "      <td>Albania</td>\n",
       "      <td>201.0</td>\n",
       "      <td>117.0</td>\n",
       "    </tr>\n",
       "    <tr>\n",
       "      <th>2</th>\n",
       "      <td>Algeria</td>\n",
       "      <td>542.0</td>\n",
       "      <td>206.0</td>\n",
       "    </tr>\n",
       "    <tr>\n",
       "      <th>3</th>\n",
       "      <td>American Samoa</td>\n",
       "      <td>11.0</td>\n",
       "      <td>11.0</td>\n",
       "    </tr>\n",
       "    <tr>\n",
       "      <th>4</th>\n",
       "      <td>Andorra</td>\n",
       "      <td>33.0</td>\n",
       "      <td>23.0</td>\n",
       "    </tr>\n",
       "  </tbody>\n",
       "</table>\n",
       "</div>"
      ],
      "text/plain": [
       "          country  home_score  away_score\n",
       "0     Afghanistan        52.0        70.0\n",
       "1         Albania       201.0       117.0\n",
       "2         Algeria       542.0       206.0\n",
       "3  American Samoa        11.0        11.0\n",
       "4         Andorra        33.0        23.0"
      ]
     },
     "execution_count": 22,
     "metadata": {},
     "output_type": "execute_result"
    }
   ],
   "source": [
    "#merge 2 df lại\n",
    "df_country_score = pd.merge(df_home_score,df_away_score,left_on='home_team',right_on='away_team')\n",
    "del df_country_score['away_team']\n",
    "df_country_score.columns = ['country','home_score','away_score']\n",
    "df_country_score.head()"
   ]
  },
  {
   "cell_type": "markdown",
   "metadata": {},
   "source": [
    "##### Bước 3: tính tổng số bàn thắng của các đội vào cột `total_score`, sau đó sort df theo cột `total_score`"
   ]
  },
  {
   "cell_type": "code",
   "execution_count": 23,
   "metadata": {},
   "outputs": [
    {
     "data": {
      "text/html": [
       "<div>\n",
       "<style scoped>\n",
       "    .dataframe tbody tr th:only-of-type {\n",
       "        vertical-align: middle;\n",
       "    }\n",
       "\n",
       "    .dataframe tbody tr th {\n",
       "        vertical-align: top;\n",
       "    }\n",
       "\n",
       "    .dataframe thead th {\n",
       "        text-align: right;\n",
       "    }\n",
       "</style>\n",
       "<table border=\"1\" class=\"dataframe\">\n",
       "  <thead>\n",
       "    <tr style=\"text-align: right;\">\n",
       "      <th></th>\n",
       "      <th>country</th>\n",
       "      <th>home_score</th>\n",
       "      <th>away_score</th>\n",
       "      <th>total_score</th>\n",
       "    </tr>\n",
       "  </thead>\n",
       "  <tbody>\n",
       "    <tr>\n",
       "      <th>60</th>\n",
       "      <td>England</td>\n",
       "      <td>1153.0</td>\n",
       "      <td>1061.0</td>\n",
       "      <td>2214.0</td>\n",
       "    </tr>\n",
       "    <tr>\n",
       "      <th>27</th>\n",
       "      <td>Brazil</td>\n",
       "      <td>1381.0</td>\n",
       "      <td>736.0</td>\n",
       "      <td>2117.0</td>\n",
       "    </tr>\n",
       "    <tr>\n",
       "      <th>73</th>\n",
       "      <td>Germany</td>\n",
       "      <td>1240.0</td>\n",
       "      <td>860.0</td>\n",
       "      <td>2100.0</td>\n",
       "    </tr>\n",
       "    <tr>\n",
       "      <th>180</th>\n",
       "      <td>Sweden</td>\n",
       "      <td>1134.0</td>\n",
       "      <td>873.0</td>\n",
       "      <td>2007.0</td>\n",
       "    </tr>\n",
       "    <tr>\n",
       "      <th>8</th>\n",
       "      <td>Argentina</td>\n",
       "      <td>1213.0</td>\n",
       "      <td>625.0</td>\n",
       "      <td>1838.0</td>\n",
       "    </tr>\n",
       "  </tbody>\n",
       "</table>\n",
       "</div>"
      ],
      "text/plain": [
       "       country  home_score  away_score  total_score\n",
       "60     England      1153.0      1061.0       2214.0\n",
       "27      Brazil      1381.0       736.0       2117.0\n",
       "73     Germany      1240.0       860.0       2100.0\n",
       "180     Sweden      1134.0       873.0       2007.0\n",
       "8    Argentina      1213.0       625.0       1838.0"
      ]
     },
     "execution_count": 23,
     "metadata": {},
     "output_type": "execute_result"
    }
   ],
   "source": [
    "df_country_score['total_score'] = df_country_score['home_score'] +df_country_score['away_score']\n",
    "df_country_score = df_country_score.sort_values(by=['total_score'],ascending=False)\n",
    "df_country_score.head()"
   ]
  },
  {
   "cell_type": "markdown",
   "metadata": {},
   "source": [
    "- Có vẻ như nhờ lợi thế là nơi khởi nguồn của nền bóng đá hiện đại, thời gian diễn ra trận đấu đầu tiên sớm đã giúp cho `England` đứng đầu chỉ số bàn thắng ghi được"
   ]
  },
  {
   "cell_type": "markdown",
   "metadata": {},
   "source": [
    "#### Đội bóng nào giành được nhiều chiến thắng nhất?"
   ]
  },
  {
   "cell_type": "markdown",
   "metadata": {},
   "source": [
    "Gom nhóm `df_cau1` theo cột `result` rồi lưu số trận thắng của từng đội vào `df_country_win`"
   ]
  },
  {
   "cell_type": "code",
   "execution_count": 24,
   "metadata": {},
   "outputs": [
    {
     "data": {
      "text/html": [
       "<div>\n",
       "<style scoped>\n",
       "    .dataframe tbody tr th:only-of-type {\n",
       "        vertical-align: middle;\n",
       "    }\n",
       "\n",
       "    .dataframe tbody tr th {\n",
       "        vertical-align: top;\n",
       "    }\n",
       "\n",
       "    .dataframe thead th {\n",
       "        text-align: right;\n",
       "    }\n",
       "</style>\n",
       "<table border=\"1\" class=\"dataframe\">\n",
       "  <thead>\n",
       "    <tr style=\"text-align: right;\">\n",
       "      <th></th>\n",
       "      <th>country</th>\n",
       "      <th>win_match</th>\n",
       "    </tr>\n",
       "  </thead>\n",
       "  <tbody>\n",
       "    <tr>\n",
       "      <th>0</th>\n",
       "      <td>Brazil</td>\n",
       "      <td>622</td>\n",
       "    </tr>\n",
       "    <tr>\n",
       "      <th>1</th>\n",
       "      <td>England</td>\n",
       "      <td>576</td>\n",
       "    </tr>\n",
       "    <tr>\n",
       "      <th>2</th>\n",
       "      <td>Germany</td>\n",
       "      <td>544</td>\n",
       "    </tr>\n",
       "    <tr>\n",
       "      <th>3</th>\n",
       "      <td>Argentina</td>\n",
       "      <td>532</td>\n",
       "    </tr>\n",
       "    <tr>\n",
       "      <th>4</th>\n",
       "      <td>Sweden</td>\n",
       "      <td>506</td>\n",
       "    </tr>\n",
       "  </tbody>\n",
       "</table>\n",
       "</div>"
      ],
      "text/plain": [
       "     country  win_match\n",
       "0     Brazil        622\n",
       "1    England        576\n",
       "2    Germany        544\n",
       "3  Argentina        532\n",
       "4     Sweden        506"
      ]
     },
     "execution_count": 24,
     "metadata": {},
     "output_type": "execute_result"
    }
   ],
   "source": [
    "df_country_win = df_cau1.groupby('result').size()\n",
    "#bo ket qua hoa\n",
    "df_country_win = df_country_win.drop('Draw')\n",
    "\n",
    "df_country_win = df_country_win.sort_values(ascending=False)\n",
    "#chuyen ve df\n",
    "df_country_win = df_country_win.reset_index()\n",
    "df_country_win.columns = ['country','win_match']\n",
    "df_country_win.head(5)"
   ]
  },
  {
   "cell_type": "markdown",
   "metadata": {},
   "source": [
    "- Là đội bóng có nhiều World Cup nhất nên không bất ngờ nếu Brazil là đội đứng đầu"
   ]
  },
  {
   "cell_type": "markdown",
   "metadata": {},
   "source": [
    "#### Đội bóng nào tham gia nhiều trận đấu nhất?"
   ]
  },
  {
   "cell_type": "markdown",
   "metadata": {},
   "source": [
    "##### Tính tổng số trận đấu mà đội bóng tham gia với tư cách là `home_team` và `away_team`  lưu vào `df_country_match`"
   ]
  },
  {
   "cell_type": "code",
   "execution_count": 25,
   "metadata": {},
   "outputs": [
    {
     "data": {
      "text/html": [
       "<div>\n",
       "<style scoped>\n",
       "    .dataframe tbody tr th:only-of-type {\n",
       "        vertical-align: middle;\n",
       "    }\n",
       "\n",
       "    .dataframe tbody tr th {\n",
       "        vertical-align: top;\n",
       "    }\n",
       "\n",
       "    .dataframe thead th {\n",
       "        text-align: right;\n",
       "    }\n",
       "</style>\n",
       "<table border=\"1\" class=\"dataframe\">\n",
       "  <thead>\n",
       "    <tr style=\"text-align: right;\">\n",
       "      <th></th>\n",
       "      <th>country</th>\n",
       "      <th>match_played</th>\n",
       "    </tr>\n",
       "  </thead>\n",
       "  <tbody>\n",
       "    <tr>\n",
       "      <th>180</th>\n",
       "      <td>Sweden</td>\n",
       "      <td>1011</td>\n",
       "    </tr>\n",
       "    <tr>\n",
       "      <th>60</th>\n",
       "      <td>England</td>\n",
       "      <td>1005</td>\n",
       "    </tr>\n",
       "    <tr>\n",
       "      <th>8</th>\n",
       "      <td>Argentina</td>\n",
       "      <td>986</td>\n",
       "    </tr>\n",
       "    <tr>\n",
       "      <th>27</th>\n",
       "      <td>Brazil</td>\n",
       "      <td>966</td>\n",
       "    </tr>\n",
       "    <tr>\n",
       "      <th>73</th>\n",
       "      <td>Germany</td>\n",
       "      <td>929</td>\n",
       "    </tr>\n",
       "  </tbody>\n",
       "</table>\n",
       "</div>"
      ],
      "text/plain": [
       "       country  match_played\n",
       "180     Sweden          1011\n",
       "60     England          1005\n",
       "8    Argentina           986\n",
       "27      Brazil           966\n",
       "73     Germany           929"
      ]
     },
     "execution_count": 25,
     "metadata": {},
     "output_type": "execute_result"
    }
   ],
   "source": [
    "#tinh tong so tran\n",
    "df_country_match = df_cau1.groupby('home_team').size() + df_cau1.groupby('away_team').size()\n",
    "#chuyen ve dataframe\n",
    "df_country_match = df_country_match.reset_index()\n",
    "df_country_match.columns = ['country','match_played']\n",
    "#sort\n",
    "df_country_match = df_country_match.sort_values(by='match_played',ascending=False)\n",
    "df_country_match.head()"
   ]
  },
  {
   "cell_type": "markdown",
   "metadata": {},
   "source": [
    "- Khá bất ngờ khi Thụy Điển là nước tham gia nhiều trận đấu nhất"
   ]
  },
  {
   "cell_type": "markdown",
   "metadata": {},
   "source": [
    "#### Cuối cùng tính tỉ lệ thắng và số bàn thắng trên trận của từng đội tuyển, tìm những đội tuyển tốt nhất"
   ]
  },
  {
   "cell_type": "markdown",
   "metadata": {},
   "source": [
    "Bước 1: gộp 3 dataframe được tạo ở trên `df_country_score` , `df_country_match`, `df_country_win` lại thành `df_country_stats`"
   ]
  },
  {
   "cell_type": "code",
   "execution_count": 26,
   "metadata": {},
   "outputs": [
    {
     "data": {
      "text/html": [
       "<div>\n",
       "<style scoped>\n",
       "    .dataframe tbody tr th:only-of-type {\n",
       "        vertical-align: middle;\n",
       "    }\n",
       "\n",
       "    .dataframe tbody tr th {\n",
       "        vertical-align: top;\n",
       "    }\n",
       "\n",
       "    .dataframe thead th {\n",
       "        text-align: right;\n",
       "    }\n",
       "</style>\n",
       "<table border=\"1\" class=\"dataframe\">\n",
       "  <thead>\n",
       "    <tr style=\"text-align: right;\">\n",
       "      <th></th>\n",
       "      <th>country</th>\n",
       "      <th>home_score</th>\n",
       "      <th>away_score</th>\n",
       "      <th>total_score</th>\n",
       "      <th>win_match</th>\n",
       "      <th>match_played</th>\n",
       "    </tr>\n",
       "  </thead>\n",
       "  <tbody>\n",
       "    <tr>\n",
       "      <th>0</th>\n",
       "      <td>England</td>\n",
       "      <td>1153.0</td>\n",
       "      <td>1061.0</td>\n",
       "      <td>2214.0</td>\n",
       "      <td>576</td>\n",
       "      <td>1005</td>\n",
       "    </tr>\n",
       "    <tr>\n",
       "      <th>1</th>\n",
       "      <td>Brazil</td>\n",
       "      <td>1381.0</td>\n",
       "      <td>736.0</td>\n",
       "      <td>2117.0</td>\n",
       "      <td>622</td>\n",
       "      <td>966</td>\n",
       "    </tr>\n",
       "    <tr>\n",
       "      <th>2</th>\n",
       "      <td>Germany</td>\n",
       "      <td>1240.0</td>\n",
       "      <td>860.0</td>\n",
       "      <td>2100.0</td>\n",
       "      <td>544</td>\n",
       "      <td>929</td>\n",
       "    </tr>\n",
       "    <tr>\n",
       "      <th>3</th>\n",
       "      <td>Sweden</td>\n",
       "      <td>1134.0</td>\n",
       "      <td>873.0</td>\n",
       "      <td>2007.0</td>\n",
       "      <td>506</td>\n",
       "      <td>1011</td>\n",
       "    </tr>\n",
       "    <tr>\n",
       "      <th>4</th>\n",
       "      <td>Argentina</td>\n",
       "      <td>1213.0</td>\n",
       "      <td>625.0</td>\n",
       "      <td>1838.0</td>\n",
       "      <td>532</td>\n",
       "      <td>986</td>\n",
       "    </tr>\n",
       "  </tbody>\n",
       "</table>\n",
       "</div>"
      ],
      "text/plain": [
       "     country  home_score  away_score  total_score  win_match  match_played\n",
       "0    England      1153.0      1061.0       2214.0        576          1005\n",
       "1     Brazil      1381.0       736.0       2117.0        622           966\n",
       "2    Germany      1240.0       860.0       2100.0        544           929\n",
       "3     Sweden      1134.0       873.0       2007.0        506          1011\n",
       "4  Argentina      1213.0       625.0       1838.0        532           986"
      ]
     },
     "execution_count": 26,
     "metadata": {},
     "output_type": "execute_result"
    }
   ],
   "source": [
    "df_country_stats = pd.merge(df_country_score,df_country_win,on='country')\n",
    "df_country_stats = df_country_stats.merge(df_country_match,on='country')\n",
    "df_country_stats.head()"
   ]
  },
  {
   "cell_type": "markdown",
   "metadata": {},
   "source": [
    "Bước 2: Tính tỉ lệ thắng và số bàn trên trận của từng đội tuyển, lưu vào 2 cột `win_rate` và `score_per_game`. Sau đó sắp xếp theo `win_rate` và `score_per_game`"
   ]
  },
  {
   "cell_type": "code",
   "execution_count": 27,
   "metadata": {},
   "outputs": [
    {
     "data": {
      "text/html": [
       "<div>\n",
       "<style scoped>\n",
       "    .dataframe tbody tr th:only-of-type {\n",
       "        vertical-align: middle;\n",
       "    }\n",
       "\n",
       "    .dataframe tbody tr th {\n",
       "        vertical-align: top;\n",
       "    }\n",
       "\n",
       "    .dataframe thead th {\n",
       "        text-align: right;\n",
       "    }\n",
       "</style>\n",
       "<table border=\"1\" class=\"dataframe\">\n",
       "  <thead>\n",
       "    <tr style=\"text-align: right;\">\n",
       "      <th></th>\n",
       "      <th>country</th>\n",
       "      <th>total_score</th>\n",
       "      <th>match_played</th>\n",
       "      <th>win_rate</th>\n",
       "      <th>score_per_game</th>\n",
       "    </tr>\n",
       "  </thead>\n",
       "  <tbody>\n",
       "    <tr>\n",
       "      <th>1</th>\n",
       "      <td>Brazil</td>\n",
       "      <td>2117.0</td>\n",
       "      <td>966</td>\n",
       "      <td>0.644</td>\n",
       "      <td>2.192</td>\n",
       "    </tr>\n",
       "    <tr>\n",
       "      <th>11</th>\n",
       "      <td>Spain</td>\n",
       "      <td>1396.0</td>\n",
       "      <td>685</td>\n",
       "      <td>0.590</td>\n",
       "      <td>2.038</td>\n",
       "    </tr>\n",
       "    <tr>\n",
       "      <th>2</th>\n",
       "      <td>Germany</td>\n",
       "      <td>2100.0</td>\n",
       "      <td>929</td>\n",
       "      <td>0.586</td>\n",
       "      <td>2.260</td>\n",
       "    </tr>\n",
       "    <tr>\n",
       "      <th>0</th>\n",
       "      <td>England</td>\n",
       "      <td>2214.0</td>\n",
       "      <td>1005</td>\n",
       "      <td>0.573</td>\n",
       "      <td>2.203</td>\n",
       "    </tr>\n",
       "    <tr>\n",
       "      <th>37</th>\n",
       "      <td>Iran</td>\n",
       "      <td>947.0</td>\n",
       "      <td>505</td>\n",
       "      <td>0.558</td>\n",
       "      <td>1.875</td>\n",
       "    </tr>\n",
       "  </tbody>\n",
       "</table>\n",
       "</div>"
      ],
      "text/plain": [
       "    country  total_score  match_played  win_rate  score_per_game\n",
       "1    Brazil       2117.0           966     0.644           2.192\n",
       "11    Spain       1396.0           685     0.590           2.038\n",
       "2   Germany       2100.0           929     0.586           2.260\n",
       "0   England       2214.0          1005     0.573           2.203\n",
       "37     Iran        947.0           505     0.558           1.875"
      ]
     },
     "execution_count": 27,
     "metadata": {},
     "output_type": "execute_result"
    }
   ],
   "source": [
    "df_country_stats['win_rate'] = (df_country_stats['win_match'] / df_country_stats['match_played']).round(3)\n",
    "df_country_stats['score_per_game'] = (df_country_stats['total_score'] / df_country_stats['match_played']).round(3)\n",
    "\n",
    "#bo nhung cot khong can dung den nua\n",
    "df_country_stats = df_country_stats[['country','total_score','match_played','win_rate','score_per_game']]\n",
    "#sort\n",
    "df_country_stats = df_country_stats.sort_values(by=['win_rate','score_per_game'],ascending=False)\n",
    "df_country_stats.head()"
   ]
  },
  {
   "cell_type": "markdown",
   "metadata": {},
   "source": [
    "- Vẽ correlation plot để có cái nhìn tổng quát về chỉ số các đội tuyển trên thế giới"
   ]
  },
  {
   "cell_type": "code",
   "execution_count": 28,
   "metadata": {},
   "outputs": [
    {
     "data": {
      "image/png": "[encoded data removed]",
      "text/plain": [
       "<Figure size 720x720 with 20 Axes>"
      ]
     },
     "metadata": {
      "needs_background": "light"
     },
     "output_type": "display_data"
    }
   ],
   "source": [
    "sns.pairplot(df_country_stats);"
   ]
  },
  {
   "cell_type": "markdown",
   "metadata": {},
   "source": [
    "- Có một số nước có tỉ lệ thắng và số bàn thắng một trận cao nhưng số trận đã đấu ít hơn so với top đầu, có lẽ ta nên xét những nước đã đá trên 800 trận đấu để công bằng hơn."
   ]
  },
  {
   "cell_type": "markdown",
   "metadata": {},
   "source": [
    "Bước 3: Xét các nước có số trận trên 800 và tỉ lệ thắng lớn hơn 0.4, lưu vào `df_best_country`"
   ]
  },
  {
   "cell_type": "code",
   "execution_count": 29,
   "metadata": {},
   "outputs": [
    {
     "data": {
      "text/html": [
       "<div>\n",
       "<style scoped>\n",
       "    .dataframe tbody tr th:only-of-type {\n",
       "        vertical-align: middle;\n",
       "    }\n",
       "\n",
       "    .dataframe tbody tr th {\n",
       "        vertical-align: top;\n",
       "    }\n",
       "\n",
       "    .dataframe thead th {\n",
       "        text-align: right;\n",
       "    }\n",
       "</style>\n",
       "<table border=\"1\" class=\"dataframe\">\n",
       "  <thead>\n",
       "    <tr style=\"text-align: right;\">\n",
       "      <th></th>\n",
       "      <th>country</th>\n",
       "      <th>total_score</th>\n",
       "      <th>match_played</th>\n",
       "      <th>win_rate</th>\n",
       "      <th>score_per_game</th>\n",
       "    </tr>\n",
       "  </thead>\n",
       "  <tbody>\n",
       "    <tr>\n",
       "      <th>1</th>\n",
       "      <td>Brazil</td>\n",
       "      <td>2117.0</td>\n",
       "      <td>966</td>\n",
       "      <td>0.644</td>\n",
       "      <td>2.192</td>\n",
       "    </tr>\n",
       "    <tr>\n",
       "      <th>2</th>\n",
       "      <td>Germany</td>\n",
       "      <td>2100.0</td>\n",
       "      <td>929</td>\n",
       "      <td>0.586</td>\n",
       "      <td>2.260</td>\n",
       "    </tr>\n",
       "    <tr>\n",
       "      <th>0</th>\n",
       "      <td>England</td>\n",
       "      <td>2214.0</td>\n",
       "      <td>1005</td>\n",
       "      <td>0.573</td>\n",
       "      <td>2.203</td>\n",
       "    </tr>\n",
       "    <tr>\n",
       "      <th>4</th>\n",
       "      <td>Argentina</td>\n",
       "      <td>1838.0</td>\n",
       "      <td>986</td>\n",
       "      <td>0.540</td>\n",
       "      <td>1.864</td>\n",
       "    </tr>\n",
       "    <tr>\n",
       "      <th>7</th>\n",
       "      <td>South Korea</td>\n",
       "      <td>1516.0</td>\n",
       "      <td>870</td>\n",
       "      <td>0.529</td>\n",
       "      <td>1.743</td>\n",
       "    </tr>\n",
       "  </tbody>\n",
       "</table>\n",
       "</div>"
      ],
      "text/plain": [
       "       country  total_score  match_played  win_rate  score_per_game\n",
       "1       Brazil       2117.0           966     0.644           2.192\n",
       "2      Germany       2100.0           929     0.586           2.260\n",
       "0      England       2214.0          1005     0.573           2.203\n",
       "4    Argentina       1838.0           986     0.540           1.864\n",
       "7  South Korea       1516.0           870     0.529           1.743"
      ]
     },
     "execution_count": 29,
     "metadata": {},
     "output_type": "execute_result"
    }
   ],
   "source": [
    "df_best_country = df_country_stats[ (df_country_stats['win_rate'] > 0.4) \\\n",
    "    & (df_country_stats['match_played'] > 800) ]\n",
    "df_best_country.head()"
   ]
  },
  {
   "cell_type": "markdown",
   "metadata": {},
   "source": [
    "#### Vẽ đồ thị scatter biểu diễn tỉ lệ thắng và số bàn thắng của các đội bóng vĩ đại nhất lịch sử bóng đá"
   ]
  },
  {
   "cell_type": "code",
   "execution_count": 30,
   "metadata": {},
   "outputs": [
    {
     "name": "stderr",
     "output_type": "stream",
     "text": [
      "D:\\Anaconda\\envs\\min_ds-env\\lib\\site-packages\\seaborn\\_decorators.py:36: FutureWarning: Pass the following variables as keyword args: x, y. From version 0.12, the only valid positional argument will be `data`, and passing other arguments without an explicit keyword will result in an error or misinterpretation.\n",
      "  warnings.warn(\n"
     ]
    },
    {
     "data": {
      "image/png": "[encoded data removed]",
      "text/plain": [
       "<Figure size 1440x720 with 1 Axes>"
      ]
     },
     "metadata": {
      "needs_background": "light"
     },
     "output_type": "display_data"
    }
   ],
   "source": [
    "ax = sns.lmplot('win_rate', 'score_per_game',data = df_best_country,\\\n",
    "     fit_reg=False,height= 10,aspect =2 );\n",
    "\n",
    "#cai dat thong tin bieu do\n",
    "plt.title('Best country football');\n",
    "plt.xlabel('win rate');\n",
    "plt.ylabel('score per game');\n",
    "#hien thi ten tung diem\n",
    "def label_point(x, y, val, ax):\n",
    "    a = pd.concat({'x': x, 'y': y, 'val': val}, axis=1)\n",
    "    for i, point in a.iterrows():\n",
    "        ax.text(point['x'], point['y'], str(point['val']))\n",
    "label_point(df_best_country['win_rate'],df_best_country['score_per_game'],df_best_country['country'],plt.gca())"
   ]
  },
  {
   "cell_type": "markdown",
   "metadata": {},
   "source": [
    "Như vậy có thể thấy rằng:\n",
    "- Brazil là nước có tỉ lệ thắng cao nhất, cũng như là top đầu số bàn ghi một trận.\n",
    "- Đức là nước có số bàn thắng ghi được mỗi trận cao nhất, phù hợp với những người thích coi một trận đấu cống hiến\n",
    "- Anh là nước có lịch sử bóng đá lâu đời, dành cho người thích về văn hóa bóng đá\n",
    "- Có thể thấy những nước ở Châu Mỹ và Châu Âu phát triển bóng đá mạnh hơn những nơi còn lại"
   ]
  },
  {
   "cell_type": "markdown",
   "metadata": {},
   "source": [
    "## 2. Đội bóng nào có số trận thắng trung bình cao nhất từng khu vực."
   ]
  },
  {
   "cell_type": "markdown",
   "metadata": {},
   "source": [
    " - Số trận thắng trung bình là tổng số trận thắng / số nước của khu vực. Việc này để tiện so sánh hơn giữa các khu vực nhỏ và lớn\n",
    " - Việc đánh giá các đội bóng theo từng khu vực sẽ cho ra kết quả tốt nhất vì sự đồng đều về chất lượng, thể hình, thể lực của các nước, cũng như là nơi diễn ra nhiều trận đấu nhất nên dễ dàng so sánh hơn.\n",
    " - Qua câu hỏi này, chúng ta mong muốn tìm được những đội bóng mạnh nhất theo khu vực của họ, từ đó có thể tìm hiểu thêm về tiêu chuẩn phát triển bóng đá của từng khu vực.\n",
    " - Lưu ý: ở đây ta định nghĩa so sánh theo khu vực có nghĩa là cả 2 đội đều đến từ cùng 1 khu vực trong 1 trận đấu"
   ]
  },
  {
   "cell_type": "markdown",
   "metadata": {},
   "source": [
    "### Tiền xử lý"
   ]
  },
  {
   "cell_type": "markdown",
   "metadata": {},
   "source": [
    "- Từ `df_continent` ta tạo series `country_continent` có index là tên các đội tuyển và values là tên khu vực của từng đội tuyển"
   ]
  },
  {
   "cell_type": "code",
   "execution_count": 31,
   "metadata": {},
   "outputs": [
    {
     "data": {
      "text/html": [
       "<div>\n",
       "<style scoped>\n",
       "    .dataframe tbody tr th:only-of-type {\n",
       "        vertical-align: middle;\n",
       "    }\n",
       "\n",
       "    .dataframe tbody tr th {\n",
       "        vertical-align: top;\n",
       "    }\n",
       "\n",
       "    .dataframe thead th {\n",
       "        text-align: right;\n",
       "    }\n",
       "</style>\n",
       "<table border=\"1\" class=\"dataframe\">\n",
       "  <thead>\n",
       "    <tr style=\"text-align: right;\">\n",
       "      <th></th>\n",
       "      <th>Continent</th>\n",
       "    </tr>\n",
       "    <tr>\n",
       "      <th>Country</th>\n",
       "      <th></th>\n",
       "    </tr>\n",
       "  </thead>\n",
       "  <tbody>\n",
       "    <tr>\n",
       "      <th>Belgium</th>\n",
       "      <td>Europe</td>\n",
       "    </tr>\n",
       "    <tr>\n",
       "      <th>Greece</th>\n",
       "      <td>Europe</td>\n",
       "    </tr>\n",
       "    <tr>\n",
       "      <th>Tahiti (French Polynesia)</th>\n",
       "      <td>Oceania</td>\n",
       "    </tr>\n",
       "    <tr>\n",
       "      <th>Paraguay</th>\n",
       "      <td>South America</td>\n",
       "    </tr>\n",
       "    <tr>\n",
       "      <th>Iraq</th>\n",
       "      <td>Asia</td>\n",
       "    </tr>\n",
       "  </tbody>\n",
       "</table>\n",
       "</div>"
      ],
      "text/plain": [
       "                               Continent\n",
       "Country                                 \n",
       "Belgium                           Europe\n",
       "Greece                            Europe\n",
       "Tahiti (French Polynesia)        Oceania\n",
       "Paraguay                   South America\n",
       "Iraq                                Asia"
      ]
     },
     "execution_count": 31,
     "metadata": {},
     "output_type": "execute_result"
    }
   ],
   "source": [
    "country_continent = df_continent[['Country','Continent']]\n",
    "country_continent = country_continent.set_index('Country')\n",
    "country_continent.sample(5)"
   ]
  },
  {
   "cell_type": "markdown",
   "metadata": {},
   "source": [
    "- Tiếp theo tạo cột `continent` của `df_cau2` ( hay `df_cau1`, dùng lại do cần thêm cột `result`) chứa thông tin khu vực chung của cả 2 đội\n",
    "- Bỏ các trận có giá trị `NaN` tức là 2 đội không cùng thuộc một khu vực"
   ]
  },
  {
   "cell_type": "code",
   "execution_count": 32,
   "metadata": {},
   "outputs": [
    {
     "data": {
      "text/html": [
       "<div>\n",
       "<style scoped>\n",
       "    .dataframe tbody tr th:only-of-type {\n",
       "        vertical-align: middle;\n",
       "    }\n",
       "\n",
       "    .dataframe tbody tr th {\n",
       "        vertical-align: top;\n",
       "    }\n",
       "\n",
       "    .dataframe thead th {\n",
       "        text-align: right;\n",
       "    }\n",
       "</style>\n",
       "<table border=\"1\" class=\"dataframe\">\n",
       "  <thead>\n",
       "    <tr style=\"text-align: right;\">\n",
       "      <th></th>\n",
       "      <th>date</th>\n",
       "      <th>home_team</th>\n",
       "      <th>away_team</th>\n",
       "      <th>home_score</th>\n",
       "      <th>away_score</th>\n",
       "      <th>tournament</th>\n",
       "      <th>city</th>\n",
       "      <th>country</th>\n",
       "      <th>neutral</th>\n",
       "      <th>result</th>\n",
       "      <th>continent</th>\n",
       "    </tr>\n",
       "  </thead>\n",
       "  <tbody>\n",
       "    <tr>\n",
       "      <th>27932</th>\n",
       "      <td>2005-09-07</td>\n",
       "      <td>Denmark</td>\n",
       "      <td>Georgia</td>\n",
       "      <td>6.0</td>\n",
       "      <td>1.0</td>\n",
       "      <td>FIFA World Cup qualification</td>\n",
       "      <td>Copenhagen</td>\n",
       "      <td>Denmark</td>\n",
       "      <td>False</td>\n",
       "      <td>Denmark</td>\n",
       "      <td>Europe</td>\n",
       "    </tr>\n",
       "    <tr>\n",
       "      <th>1109</th>\n",
       "      <td>1928-01-01</td>\n",
       "      <td>Italy</td>\n",
       "      <td>Switzerland</td>\n",
       "      <td>3.0</td>\n",
       "      <td>2.0</td>\n",
       "      <td>International Cup</td>\n",
       "      <td>Genoa</td>\n",
       "      <td>Italy</td>\n",
       "      <td>False</td>\n",
       "      <td>Italy</td>\n",
       "      <td>Europe</td>\n",
       "    </tr>\n",
       "    <tr>\n",
       "      <th>20762</th>\n",
       "      <td>1997-06-29</td>\n",
       "      <td>Bolivia</td>\n",
       "      <td>Brazil</td>\n",
       "      <td>1.0</td>\n",
       "      <td>3.0</td>\n",
       "      <td>Copa América</td>\n",
       "      <td>La Paz</td>\n",
       "      <td>Bolivia</td>\n",
       "      <td>False</td>\n",
       "      <td>Brazil</td>\n",
       "      <td>South America</td>\n",
       "    </tr>\n",
       "    <tr>\n",
       "      <th>29976</th>\n",
       "      <td>2007-12-22</td>\n",
       "      <td>Thailand</td>\n",
       "      <td>Uzbekistan</td>\n",
       "      <td>3.0</td>\n",
       "      <td>2.0</td>\n",
       "      <td>King's Cup</td>\n",
       "      <td>Bangkok</td>\n",
       "      <td>Thailand</td>\n",
       "      <td>False</td>\n",
       "      <td>Thailand</td>\n",
       "      <td>Asia</td>\n",
       "    </tr>\n",
       "    <tr>\n",
       "      <th>280</th>\n",
       "      <td>1911-01-28</td>\n",
       "      <td>Northern Ireland</td>\n",
       "      <td>Wales</td>\n",
       "      <td>1.0</td>\n",
       "      <td>2.0</td>\n",
       "      <td>British Championship</td>\n",
       "      <td>Belfast</td>\n",
       "      <td>Republic of Ireland</td>\n",
       "      <td>False</td>\n",
       "      <td>Wales</td>\n",
       "      <td>Europe</td>\n",
       "    </tr>\n",
       "  </tbody>\n",
       "</table>\n",
       "</div>"
      ],
      "text/plain": [
       "            date         home_team    away_team  home_score  away_score  \\\n",
       "27932 2005-09-07           Denmark      Georgia         6.0         1.0   \n",
       "1109  1928-01-01             Italy  Switzerland         3.0         2.0   \n",
       "20762 1997-06-29           Bolivia       Brazil         1.0         3.0   \n",
       "29976 2007-12-22          Thailand   Uzbekistan         3.0         2.0   \n",
       "280   1911-01-28  Northern Ireland        Wales         1.0         2.0   \n",
       "\n",
       "                         tournament        city              country neutral  \\\n",
       "27932  FIFA World Cup qualification  Copenhagen              Denmark   False   \n",
       "1109              International Cup       Genoa                Italy   False   \n",
       "20762                  Copa América      La Paz              Bolivia   False   \n",
       "29976                    King's Cup     Bangkok             Thailand   False   \n",
       "280            British Championship     Belfast  Republic of Ireland   False   \n",
       "\n",
       "         result      continent  \n",
       "27932   Denmark         Europe  \n",
       "1109      Italy         Europe  \n",
       "20762    Brazil  South America  \n",
       "29976  Thailand           Asia  \n",
       "280       Wales         Europe  "
      ]
     },
     "execution_count": 32,
     "metadata": {},
     "output_type": "execute_result"
    }
   ],
   "source": [
    "df_cau2 = df_cau1.copy()\n",
    "# squeeze() chuyen df ve series\n",
    "# map de chuyen cac nuoc thanh ten khu vuc\n",
    "home_continent = df_cau2['home_team'].map(country_continent.squeeze())\n",
    "away_continent = df_cau2['away_team'].map(country_continent.squeeze())\n",
    "#chon cac tran dau co khu vuc giong nhau\n",
    "m = home_continent == away_continent\n",
    "#tao cot continent tu nhung row o tren\n",
    "df_cau2.loc[m, 'continent'] = home_continent.loc[m]\n",
    "#bo cac gia tri None\n",
    "df_cau2 = df_cau2.dropna()\n",
    "\n",
    "df_cau2.sample(5)"
   ]
  },
  {
   "cell_type": "markdown",
   "metadata": {},
   "source": [
    "- Loại bỏ kết quả của các trận đấu mà 2 đội không đến cùng 1 khu vực"
   ]
  },
  {
   "cell_type": "markdown",
   "metadata": {},
   "source": [
    "### Quay lại trả lời câu hỏi"
   ]
  },
  {
   "cell_type": "markdown",
   "metadata": {},
   "source": [
    "Bước 1: tạo ra 6 dataframe ứng với 6 khu vực, sau đo lưu 6 dataframe này vào `list_df_continent`"
   ]
  },
  {
   "cell_type": "code",
   "execution_count": 33,
   "metadata": {},
   "outputs": [],
   "source": [
    "name_continent = df_cau2['continent'].unique().tolist()\n",
    "list_df_continent = []\n",
    "for i in name_continent:\n",
    "    df_temp = df_cau2.copy()\n",
    "    df_temp = df_temp[df_temp['continent'] == i]\n",
    "    #gan result bang ten doi tuyen voi ten luc dia\n",
    "    df_temp.loc[df_temp['result'] != 'Draw','result'] = df_temp['result'] + ' ('+ df_temp['continent']+')'\n",
    "    list_df_continent.append(df_temp)"
   ]
  },
  {
   "cell_type": "markdown",
   "metadata": {},
   "source": [
    "Bước 2: Sắp xếp lại danh sách các quốc gia có nhiều trận thắng nhất theo từng khu vực bằng cách gom nhóm cột `result`. Chọn đội có nhiều trận thắng nhất rồi lưu vào series `best_country_continent` chứa tên đội là index và values là số trận thắng"
   ]
  },
  {
   "cell_type": "code",
   "execution_count": 34,
   "metadata": {},
   "outputs": [],
   "source": [
    "#dau tien tao dict de luu gia tri\n",
    "best_country_continent = {}\n",
    "for i in range(len(list_df_continent)):\n",
    "    list_df_continent[i] = list_df_continent[i].groupby('result').size()/len(list_df_continent[i]['home_team'].unique().tolist())\n",
    "    list_df_continent[i] = list_df_continent[i].drop('Draw')\n",
    "    list_df_continent[i] = list_df_continent[i].sort_values(ascending=False)\n",
    "    best_country_continent[list_df_continent[i].index[0]] = list_df_continent[i][0]\n",
    "#chuyen doi dict sang series\n",
    "best_country_continent = pd.Series(best_country_continent)"
   ]
  },
  {
   "cell_type": "markdown",
   "metadata": {},
   "source": [
    "Vẽ biểu đồ cột biểu diễn số trận thắng trung bình của những đội tuyển tốt nhất từng khu vực"
   ]
  },
  {
   "cell_type": "code",
   "execution_count": 35,
   "metadata": {},
   "outputs": [
    {
     "data": {
      "image/png": "[encoded data removed]",
      "text/plain": [
       "<Figure size 432x288 with 1 Axes>"
      ]
     },
     "metadata": {
      "needs_background": "light"
     },
     "output_type": "display_data"
    }
   ],
   "source": [
    "plt.barh(best_country_continent.index,best_country_continent.values);\n",
    "plt.xlabel('average win');"
   ]
  },
  {
   "cell_type": "markdown",
   "metadata": {},
   "source": [
    "- Đây là những nước đứng đầu về số trận thắng trung bình theo từng khu vực. Nhìn vào đây có thể ta suy ra được phần nào về sự chênh lệch về trình độ bóng đá của các khu vực.\n",
    "- Có vẻ như các khu vực khác có sự chênh lệch đều, còn khu vực Nam Mỹ có vẻ như có sự chênh lệch khá lớn giữa các đội. Chênh lệch thấp nhất là khu vực Châu phi\n",
    "- Vậy tại sao cùng thuộc Nam Mỹ nhưng Brazil là đội bóng vĩ đại nhất lịch sử còn Argentina lại là đội có số trận thắng nhiều nhất? Nguyên nhân là do Argentina bắt đầu tham gia bóng đá FIFA trước Brazil, tương tự các trường hợp khác"
   ]
  },
  {
   "cell_type": "markdown",
   "metadata": {},
   "source": [
    "## 3. Từ kì World Cup gần nhất (2018), việc tham gia các trận giao hữu có ảnh hưởng đến đến kết quả tại World Cup của các đội hay không?\n"
   ]
  },
  {
   "cell_type": "markdown",
   "metadata": {},
   "source": [
    "World Cup từ lâu đã trở thành món ăn tinh thần không thể thiếu đối với người hâm mộ làng túc cầu trên toàn thế giới. Đó không chỉ là nơi người ta chứng kiến cuộc tranh tài hấp dẫn của các đội bóng mà còn là nơi lưu giữ những kỉ niệm đẹp và dư vị khó quên trong lòng người hâm mộ."
   ]
  },
  {
   "cell_type": "markdown",
   "metadata": {},
   "source": [
    "- Ta sẽ tính thời gian các trận giao hữu từ năm 2015 đến *trước* khi World Cup 2018 diễn ra và lưu kết tất cả kết quả *thắng/thua/hòa* của 32 đội tham dự World Cup.\n",
    "- Người ta thường nói kết quả thắng/thua trận là vô nghĩa? vô ích (thậm chí đôi khi còn làm cầu thủ chấn thương dài hạn, ảnh hưởng đến phong độ của tuyển thủ), ta sẽ thử xem liệu những trận giao hữu đó có vô ích vô nghĩa hay không."
   ]
  },
  {
   "cell_type": "markdown",
   "metadata": {},
   "source": [
    "Đầu tiên ta sẽ lấy ra bảng kết quả của World Cup 2018 và lưu vào `df_WC_2018` và lấy ra ngày bắt đầu của World Cup 2018 lưu vào `start_day`."
   ]
  },
  {
   "cell_type": "code",
   "execution_count": 64,
   "metadata": {},
   "outputs": [
    {
     "data": {
      "text/html": [
       "<div>\n",
       "<style scoped>\n",
       "    .dataframe tbody tr th:only-of-type {\n",
       "        vertical-align: middle;\n",
       "    }\n",
       "\n",
       "    .dataframe tbody tr th {\n",
       "        vertical-align: top;\n",
       "    }\n",
       "\n",
       "    .dataframe thead th {\n",
       "        text-align: right;\n",
       "    }\n",
       "</style>\n",
       "<table border=\"1\" class=\"dataframe\">\n",
       "  <thead>\n",
       "    <tr style=\"text-align: right;\">\n",
       "      <th></th>\n",
       "      <th>date</th>\n",
       "      <th>home_team</th>\n",
       "      <th>away_team</th>\n",
       "      <th>home_score</th>\n",
       "      <th>away_score</th>\n",
       "      <th>tournament</th>\n",
       "      <th>city</th>\n",
       "      <th>country</th>\n",
       "      <th>neutral</th>\n",
       "    </tr>\n",
       "  </thead>\n",
       "  <tbody>\n",
       "    <tr>\n",
       "      <th>40021</th>\n",
       "      <td>2018-06-14</td>\n",
       "      <td>Russia</td>\n",
       "      <td>Saudi Arabia</td>\n",
       "      <td>5.0</td>\n",
       "      <td>0.0</td>\n",
       "      <td>FIFA World Cup</td>\n",
       "      <td>Moscow</td>\n",
       "      <td>Russia</td>\n",
       "      <td>False</td>\n",
       "    </tr>\n",
       "    <tr>\n",
       "      <th>40022</th>\n",
       "      <td>2018-06-15</td>\n",
       "      <td>Egypt</td>\n",
       "      <td>Uruguay</td>\n",
       "      <td>0.0</td>\n",
       "      <td>1.0</td>\n",
       "      <td>FIFA World Cup</td>\n",
       "      <td>Ekaterinburg</td>\n",
       "      <td>Russia</td>\n",
       "      <td>True</td>\n",
       "    </tr>\n",
       "    <tr>\n",
       "      <th>40023</th>\n",
       "      <td>2018-06-15</td>\n",
       "      <td>Morocco</td>\n",
       "      <td>Iran</td>\n",
       "      <td>0.0</td>\n",
       "      <td>1.0</td>\n",
       "      <td>FIFA World Cup</td>\n",
       "      <td>St. Petersburg</td>\n",
       "      <td>Russia</td>\n",
       "      <td>True</td>\n",
       "    </tr>\n",
       "    <tr>\n",
       "      <th>40024</th>\n",
       "      <td>2018-06-15</td>\n",
       "      <td>Portugal</td>\n",
       "      <td>Spain</td>\n",
       "      <td>3.0</td>\n",
       "      <td>3.0</td>\n",
       "      <td>FIFA World Cup</td>\n",
       "      <td>Sochi</td>\n",
       "      <td>Russia</td>\n",
       "      <td>True</td>\n",
       "    </tr>\n",
       "    <tr>\n",
       "      <th>40025</th>\n",
       "      <td>2018-06-16</td>\n",
       "      <td>France</td>\n",
       "      <td>Australia</td>\n",
       "      <td>2.0</td>\n",
       "      <td>1.0</td>\n",
       "      <td>FIFA World Cup</td>\n",
       "      <td>Kazan</td>\n",
       "      <td>Russia</td>\n",
       "      <td>True</td>\n",
       "    </tr>\n",
       "  </tbody>\n",
       "</table>\n",
       "</div>"
      ],
      "text/plain": [
       "            date home_team     away_team  home_score  away_score  \\\n",
       "40021 2018-06-14    Russia  Saudi Arabia         5.0         0.0   \n",
       "40022 2018-06-15     Egypt       Uruguay         0.0         1.0   \n",
       "40023 2018-06-15   Morocco          Iran         0.0         1.0   \n",
       "40024 2018-06-15  Portugal         Spain         3.0         3.0   \n",
       "40025 2018-06-16    France     Australia         2.0         1.0   \n",
       "\n",
       "           tournament            city country neutral  \n",
       "40021  FIFA World Cup          Moscow  Russia   False  \n",
       "40022  FIFA World Cup    Ekaterinburg  Russia    True  \n",
       "40023  FIFA World Cup  St. Petersburg  Russia    True  \n",
       "40024  FIFA World Cup           Sochi  Russia    True  \n",
       "40025  FIFA World Cup           Kazan  Russia    True  "
      ]
     },
     "execution_count": 64,
     "metadata": {},
     "output_type": "execute_result"
    }
   ],
   "source": [
    "df_WC_2018 = df_match.loc[(df_match['date'].dt.year == 2018) & (df_match['tournament'] == \"FIFA World Cup\" )]\n",
    "start_day = df_WC_2018['date'].min()\n",
    "\n",
    "df_WC_2018.head()"
   ]
  },
  {
   "cell_type": "markdown",
   "metadata": {},
   "source": [
    "Loại bỏ những cột không cần thiết như `city, country, neutral`."
   ]
  },
  {
   "cell_type": "code",
   "execution_count": 65,
   "metadata": {},
   "outputs": [],
   "source": [
    "df_WC_2018 = df_WC_2018.drop(['city','country','neutral'],axis=1)"
   ]
  },
  {
   "cell_type": "markdown",
   "metadata": {},
   "source": [
    "Tiếp theo ta sẽ lấy ra tổng số trận thi đấu của 32 đội tham dự World Cup 2018 và các đội tham dư WC2018 lưu vào `team_list`."
   ]
  },
  {
   "cell_type": "code",
   "execution_count": 67,
   "metadata": {},
   "outputs": [
    {
     "data": {
      "text/html": [
       "<div>\n",
       "<style scoped>\n",
       "    .dataframe tbody tr th:only-of-type {\n",
       "        vertical-align: middle;\n",
       "    }\n",
       "\n",
       "    .dataframe tbody tr th {\n",
       "        vertical-align: top;\n",
       "    }\n",
       "\n",
       "    .dataframe thead th {\n",
       "        text-align: right;\n",
       "    }\n",
       "</style>\n",
       "<table border=\"1\" class=\"dataframe\">\n",
       "  <thead>\n",
       "    <tr style=\"text-align: right;\">\n",
       "      <th></th>\n",
       "      <th>home_team</th>\n",
       "      <th>away_team</th>\n",
       "      <th>total match</th>\n",
       "    </tr>\n",
       "  </thead>\n",
       "  <tbody>\n",
       "    <tr>\n",
       "      <th>Belgium</th>\n",
       "      <td>4</td>\n",
       "      <td>3.0</td>\n",
       "      <td>7.0</td>\n",
       "    </tr>\n",
       "    <tr>\n",
       "      <th>Croatia</th>\n",
       "      <td>3</td>\n",
       "      <td>4.0</td>\n",
       "      <td>7.0</td>\n",
       "    </tr>\n",
       "    <tr>\n",
       "      <th>England</th>\n",
       "      <td>2</td>\n",
       "      <td>5.0</td>\n",
       "      <td>7.0</td>\n",
       "    </tr>\n",
       "    <tr>\n",
       "      <th>France</th>\n",
       "      <td>5</td>\n",
       "      <td>2.0</td>\n",
       "      <td>7.0</td>\n",
       "    </tr>\n",
       "    <tr>\n",
       "      <th>Russia</th>\n",
       "      <td>5</td>\n",
       "      <td>0.0</td>\n",
       "      <td>5.0</td>\n",
       "    </tr>\n",
       "    <tr>\n",
       "      <th>Brazil</th>\n",
       "      <td>4</td>\n",
       "      <td>1.0</td>\n",
       "      <td>5.0</td>\n",
       "    </tr>\n",
       "    <tr>\n",
       "      <th>Sweden</th>\n",
       "      <td>3</td>\n",
       "      <td>2.0</td>\n",
       "      <td>5.0</td>\n",
       "    </tr>\n",
       "    <tr>\n",
       "      <th>Uruguay</th>\n",
       "      <td>3</td>\n",
       "      <td>2.0</td>\n",
       "      <td>5.0</td>\n",
       "    </tr>\n",
       "    <tr>\n",
       "      <th>Argentina</th>\n",
       "      <td>2</td>\n",
       "      <td>2.0</td>\n",
       "      <td>4.0</td>\n",
       "    </tr>\n",
       "    <tr>\n",
       "      <th>Mexico</th>\n",
       "      <td>1</td>\n",
       "      <td>3.0</td>\n",
       "      <td>4.0</td>\n",
       "    </tr>\n",
       "    <tr>\n",
       "      <th>Portugal</th>\n",
       "      <td>2</td>\n",
       "      <td>2.0</td>\n",
       "      <td>4.0</td>\n",
       "    </tr>\n",
       "    <tr>\n",
       "      <th>Switzerland</th>\n",
       "      <td>1</td>\n",
       "      <td>3.0</td>\n",
       "      <td>4.0</td>\n",
       "    </tr>\n",
       "    <tr>\n",
       "      <th>Denmark</th>\n",
       "      <td>2</td>\n",
       "      <td>2.0</td>\n",
       "      <td>4.0</td>\n",
       "    </tr>\n",
       "    <tr>\n",
       "      <th>Japan</th>\n",
       "      <td>2</td>\n",
       "      <td>2.0</td>\n",
       "      <td>4.0</td>\n",
       "    </tr>\n",
       "    <tr>\n",
       "      <th>Spain</th>\n",
       "      <td>1</td>\n",
       "      <td>3.0</td>\n",
       "      <td>4.0</td>\n",
       "    </tr>\n",
       "    <tr>\n",
       "      <th>Colombia</th>\n",
       "      <td>2</td>\n",
       "      <td>2.0</td>\n",
       "      <td>4.0</td>\n",
       "    </tr>\n",
       "    <tr>\n",
       "      <th>Panama</th>\n",
       "      <td>1</td>\n",
       "      <td>2.0</td>\n",
       "      <td>3.0</td>\n",
       "    </tr>\n",
       "    <tr>\n",
       "      <th>Senegal</th>\n",
       "      <td>1</td>\n",
       "      <td>2.0</td>\n",
       "      <td>3.0</td>\n",
       "    </tr>\n",
       "    <tr>\n",
       "      <th>Saudi Arabia</th>\n",
       "      <td>1</td>\n",
       "      <td>2.0</td>\n",
       "      <td>3.0</td>\n",
       "    </tr>\n",
       "    <tr>\n",
       "      <th>Egypt</th>\n",
       "      <td>1</td>\n",
       "      <td>2.0</td>\n",
       "      <td>3.0</td>\n",
       "    </tr>\n",
       "    <tr>\n",
       "      <th>Costa Rica</th>\n",
       "      <td>1</td>\n",
       "      <td>2.0</td>\n",
       "      <td>3.0</td>\n",
       "    </tr>\n",
       "    <tr>\n",
       "      <th>Morocco</th>\n",
       "      <td>1</td>\n",
       "      <td>2.0</td>\n",
       "      <td>3.0</td>\n",
       "    </tr>\n",
       "    <tr>\n",
       "      <th>Iran</th>\n",
       "      <td>2</td>\n",
       "      <td>1.0</td>\n",
       "      <td>3.0</td>\n",
       "    </tr>\n",
       "    <tr>\n",
       "      <th>Iceland</th>\n",
       "      <td>1</td>\n",
       "      <td>2.0</td>\n",
       "      <td>3.0</td>\n",
       "    </tr>\n",
       "    <tr>\n",
       "      <th>Peru</th>\n",
       "      <td>1</td>\n",
       "      <td>2.0</td>\n",
       "      <td>3.0</td>\n",
       "    </tr>\n",
       "    <tr>\n",
       "      <th>Australia</th>\n",
       "      <td>1</td>\n",
       "      <td>2.0</td>\n",
       "      <td>3.0</td>\n",
       "    </tr>\n",
       "    <tr>\n",
       "      <th>Germany</th>\n",
       "      <td>2</td>\n",
       "      <td>1.0</td>\n",
       "      <td>3.0</td>\n",
       "    </tr>\n",
       "    <tr>\n",
       "      <th>South Korea</th>\n",
       "      <td>2</td>\n",
       "      <td>1.0</td>\n",
       "      <td>3.0</td>\n",
       "    </tr>\n",
       "    <tr>\n",
       "      <th>Poland</th>\n",
       "      <td>2</td>\n",
       "      <td>1.0</td>\n",
       "      <td>3.0</td>\n",
       "    </tr>\n",
       "    <tr>\n",
       "      <th>Serbia</th>\n",
       "      <td>2</td>\n",
       "      <td>1.0</td>\n",
       "      <td>3.0</td>\n",
       "    </tr>\n",
       "    <tr>\n",
       "      <th>Nigeria</th>\n",
       "      <td>2</td>\n",
       "      <td>1.0</td>\n",
       "      <td>3.0</td>\n",
       "    </tr>\n",
       "    <tr>\n",
       "      <th>Tunisia</th>\n",
       "      <td>1</td>\n",
       "      <td>2.0</td>\n",
       "      <td>3.0</td>\n",
       "    </tr>\n",
       "  </tbody>\n",
       "</table>\n",
       "</div>"
      ],
      "text/plain": [
       "              home_team  away_team  total match\n",
       "Belgium               4        3.0          7.0\n",
       "Croatia               3        4.0          7.0\n",
       "England               2        5.0          7.0\n",
       "France                5        2.0          7.0\n",
       "Russia                5        0.0          5.0\n",
       "Brazil                4        1.0          5.0\n",
       "Sweden                3        2.0          5.0\n",
       "Uruguay               3        2.0          5.0\n",
       "Argentina             2        2.0          4.0\n",
       "Mexico                1        3.0          4.0\n",
       "Portugal              2        2.0          4.0\n",
       "Switzerland           1        3.0          4.0\n",
       "Denmark               2        2.0          4.0\n",
       "Japan                 2        2.0          4.0\n",
       "Spain                 1        3.0          4.0\n",
       "Colombia              2        2.0          4.0\n",
       "Panama                1        2.0          3.0\n",
       "Senegal               1        2.0          3.0\n",
       "Saudi Arabia          1        2.0          3.0\n",
       "Egypt                 1        2.0          3.0\n",
       "Costa Rica            1        2.0          3.0\n",
       "Morocco               1        2.0          3.0\n",
       "Iran                  2        1.0          3.0\n",
       "Iceland               1        2.0          3.0\n",
       "Peru                  1        2.0          3.0\n",
       "Australia             1        2.0          3.0\n",
       "Germany               2        1.0          3.0\n",
       "South Korea           2        1.0          3.0\n",
       "Poland                2        1.0          3.0\n",
       "Serbia                2        1.0          3.0\n",
       "Nigeria               2        1.0          3.0\n",
       "Tunisia               1        2.0          3.0"
      ]
     },
     "execution_count": 67,
     "metadata": {},
     "output_type": "execute_result"
    }
   ],
   "source": [
    "temp1 = df_WC_2018['home_team'].value_counts().to_frame() # đếm số lượng trận được tính là đội chủ nhà của 32 đội và lưu vào df temp1\n",
    "\n",
    "temp2 = df_WC_2018['away_team'].value_counts().to_frame() # đếm số lượng trận được tính là đội khách của 32 đội và lưu vào df temp2\n",
    "\n",
    "temp3 = pd.concat([temp1, temp2], axis=1, join='outer')\n",
    "\n",
    "temp3['away_team'] = temp3['away_team'].fillna(0)\n",
    "temp3['home_team'] = temp3['home_team'].fillna(0)\n",
    "temp3['total match'] = temp3['away_team'] +temp3['home_team']\n",
    "\n",
    "temp3 = temp3.sort_values(by=['total match'],ascending=False)\n",
    "team_list = temp3.index.to_list()\n",
    "temp3"
   ]
  },
  {
   "cell_type": "markdown",
   "metadata": {},
   "source": [
    "Vì World Cup 2018 được tổ chức ở Nga vì thế số trận làm đội khách của Nga là **0**.\n",
    "\n",
    "Theo thể thức thi đấu của một kì World Cup ([ta có thể xem tại đây](https://vi.wikipedia.org/wiki/Gi%E1%BA%A3i_v%C3%B4_%C4%91%E1%BB%8Bch_b%C3%B3ng_%C4%91%C3%A1_th%E1%BA%BF_gi%E1%BB%9Bi#Th%E1%BB%83_th%E1%BB%A9c))\n",
    "- Những đội không vượt qua vòng bảng sẽ thi đấu **3** trận.\n",
    "- Những đội vượt qua vòng bảng sẽ thi đấu ít nhất **4** trận.\n",
    "- Những đội vượt qua vòng 1/16 sẽ thi đấu ít nhất **5** trận.\n",
    "- Những đội vượt qua vòng tứ kết sẽ góp mặt vào vòng bán kết và thi đấu **7** trận."
   ]
  },
  {
   "cell_type": "markdown",
   "metadata": {},
   "source": [
    "Ta sẽ lấy ra những đội có thành tích tốt ở WC2018 (tức là đã vượt qua vòng bảng,vòng 16 đôi, vòng tứ kết) và lần lượt lưu vào ``` team_16_list```, ` team_8_list`, ` team_4_list`."
   ]
  },
  {
   "cell_type": "code",
   "execution_count": 68,
   "metadata": {},
   "outputs": [],
   "source": [
    "df_16_WC18 = temp3[temp3['total match'] >=4 ]\n",
    "team_16_list = df_16_WC18.index.to_list()\n",
    "\n",
    "df_8_WC18 = temp3[temp3['total match'] >=5]\n",
    "team_8_list = df_8_WC18.index.to_list()\n",
    "\n",
    "df_4_WC18 = temp3[temp3['total match'] >=7]\n",
    "team_4_list = df_4_WC18.index.to_list()\n"
   ]
  },
  {
   "cell_type": "markdown",
   "metadata": {},
   "source": [
    "- Lấy ra kết quả các trận giao hữu của 32 đội trong khoãng thời gian từ `2015` đến `2018` và lưu vào `df_friendly_match`."
   ]
  },
  {
   "cell_type": "code",
   "execution_count": 86,
   "metadata": {},
   "outputs": [
    {
     "data": {
      "text/html": [
       "<div>\n",
       "<style scoped>\n",
       "    .dataframe tbody tr th:only-of-type {\n",
       "        vertical-align: middle;\n",
       "    }\n",
       "\n",
       "    .dataframe tbody tr th {\n",
       "        vertical-align: top;\n",
       "    }\n",
       "\n",
       "    .dataframe thead th {\n",
       "        text-align: right;\n",
       "    }\n",
       "</style>\n",
       "<table border=\"1\" class=\"dataframe\">\n",
       "  <thead>\n",
       "    <tr style=\"text-align: right;\">\n",
       "      <th></th>\n",
       "      <th>date</th>\n",
       "      <th>home_team</th>\n",
       "      <th>away_team</th>\n",
       "      <th>home_score</th>\n",
       "      <th>away_score</th>\n",
       "      <th>tournament</th>\n",
       "      <th>city</th>\n",
       "      <th>country</th>\n",
       "      <th>neutral</th>\n",
       "    </tr>\n",
       "  </thead>\n",
       "  <tbody>\n",
       "    <tr>\n",
       "      <th>36764</th>\n",
       "      <td>2015-01-04</td>\n",
       "      <td>Iran</td>\n",
       "      <td>Iraq</td>\n",
       "      <td>1.0</td>\n",
       "      <td>0.0</td>\n",
       "      <td>Friendly</td>\n",
       "      <td>Wollongong</td>\n",
       "      <td>Australia</td>\n",
       "      <td>True</td>\n",
       "    </tr>\n",
       "    <tr>\n",
       "      <th>36765</th>\n",
       "      <td>2015-01-04</td>\n",
       "      <td>South Korea</td>\n",
       "      <td>Saudi Arabia</td>\n",
       "      <td>2.0</td>\n",
       "      <td>0.0</td>\n",
       "      <td>Friendly</td>\n",
       "      <td>Parramatta</td>\n",
       "      <td>Australia</td>\n",
       "      <td>True</td>\n",
       "    </tr>\n",
       "    <tr>\n",
       "      <th>36770</th>\n",
       "      <td>2015-01-09</td>\n",
       "      <td>Senegal</td>\n",
       "      <td>Gabon</td>\n",
       "      <td>1.0</td>\n",
       "      <td>0.0</td>\n",
       "      <td>Friendly</td>\n",
       "      <td>Casablanca</td>\n",
       "      <td>Morocco</td>\n",
       "      <td>True</td>\n",
       "    </tr>\n",
       "    <tr>\n",
       "      <th>36778</th>\n",
       "      <td>2015-01-11</td>\n",
       "      <td>Nigeria</td>\n",
       "      <td>Ivory Coast</td>\n",
       "      <td>0.0</td>\n",
       "      <td>1.0</td>\n",
       "      <td>Friendly</td>\n",
       "      <td>Abu Dhabi</td>\n",
       "      <td>United Arab Emirates</td>\n",
       "      <td>True</td>\n",
       "    </tr>\n",
       "    <tr>\n",
       "      <th>36779</th>\n",
       "      <td>2015-01-11</td>\n",
       "      <td>Tunisia</td>\n",
       "      <td>Algeria</td>\n",
       "      <td>1.0</td>\n",
       "      <td>1.0</td>\n",
       "      <td>Friendly</td>\n",
       "      <td>Radès</td>\n",
       "      <td>Tunisia</td>\n",
       "      <td>False</td>\n",
       "    </tr>\n",
       "    <tr>\n",
       "      <th>...</th>\n",
       "      <td>...</td>\n",
       "      <td>...</td>\n",
       "      <td>...</td>\n",
       "      <td>...</td>\n",
       "      <td>...</td>\n",
       "      <td>...</td>\n",
       "      <td>...</td>\n",
       "      <td>...</td>\n",
       "      <td>...</td>\n",
       "    </tr>\n",
       "    <tr>\n",
       "      <th>40015</th>\n",
       "      <td>2018-06-10</td>\n",
       "      <td>Austria</td>\n",
       "      <td>Brazil</td>\n",
       "      <td>0.0</td>\n",
       "      <td>3.0</td>\n",
       "      <td>Friendly</td>\n",
       "      <td>Vienna</td>\n",
       "      <td>Austria</td>\n",
       "      <td>False</td>\n",
       "    </tr>\n",
       "    <tr>\n",
       "      <th>40017</th>\n",
       "      <td>2018-06-11</td>\n",
       "      <td>South Korea</td>\n",
       "      <td>Senegal</td>\n",
       "      <td>0.0</td>\n",
       "      <td>2.0</td>\n",
       "      <td>Friendly</td>\n",
       "      <td>Grödig</td>\n",
       "      <td>Austria</td>\n",
       "      <td>True</td>\n",
       "    </tr>\n",
       "    <tr>\n",
       "      <th>40018</th>\n",
       "      <td>2018-06-11</td>\n",
       "      <td>Belgium</td>\n",
       "      <td>Costa Rica</td>\n",
       "      <td>4.0</td>\n",
       "      <td>1.0</td>\n",
       "      <td>Friendly</td>\n",
       "      <td>Brussels</td>\n",
       "      <td>Belgium</td>\n",
       "      <td>False</td>\n",
       "    </tr>\n",
       "    <tr>\n",
       "      <th>40019</th>\n",
       "      <td>2018-06-12</td>\n",
       "      <td>Japan</td>\n",
       "      <td>Paraguay</td>\n",
       "      <td>4.0</td>\n",
       "      <td>2.0</td>\n",
       "      <td>Friendly</td>\n",
       "      <td>Innsbruck</td>\n",
       "      <td>Austria</td>\n",
       "      <td>True</td>\n",
       "    </tr>\n",
       "    <tr>\n",
       "      <th>40020</th>\n",
       "      <td>2018-06-12</td>\n",
       "      <td>Poland</td>\n",
       "      <td>Lithuania</td>\n",
       "      <td>4.0</td>\n",
       "      <td>0.0</td>\n",
       "      <td>Friendly</td>\n",
       "      <td>Warsaw</td>\n",
       "      <td>Poland</td>\n",
       "      <td>False</td>\n",
       "    </tr>\n",
       "  </tbody>\n",
       "</table>\n",
       "<p>412 rows × 9 columns</p>\n",
       "</div>"
      ],
      "text/plain": [
       "            date    home_team     away_team  home_score  away_score  \\\n",
       "36764 2015-01-04         Iran          Iraq         1.0         0.0   \n",
       "36765 2015-01-04  South Korea  Saudi Arabia         2.0         0.0   \n",
       "36770 2015-01-09      Senegal         Gabon         1.0         0.0   \n",
       "36778 2015-01-11      Nigeria   Ivory Coast         0.0         1.0   \n",
       "36779 2015-01-11      Tunisia       Algeria         1.0         1.0   \n",
       "...          ...          ...           ...         ...         ...   \n",
       "40015 2018-06-10      Austria        Brazil         0.0         3.0   \n",
       "40017 2018-06-11  South Korea       Senegal         0.0         2.0   \n",
       "40018 2018-06-11      Belgium    Costa Rica         4.0         1.0   \n",
       "40019 2018-06-12        Japan      Paraguay         4.0         2.0   \n",
       "40020 2018-06-12       Poland     Lithuania         4.0         0.0   \n",
       "\n",
       "      tournament        city               country neutral  \n",
       "36764   Friendly  Wollongong             Australia    True  \n",
       "36765   Friendly  Parramatta             Australia    True  \n",
       "36770   Friendly  Casablanca               Morocco    True  \n",
       "36778   Friendly   Abu Dhabi  United Arab Emirates    True  \n",
       "36779   Friendly       Radès               Tunisia   False  \n",
       "...          ...         ...                   ...     ...  \n",
       "40015   Friendly      Vienna               Austria   False  \n",
       "40017   Friendly      Grödig               Austria    True  \n",
       "40018   Friendly    Brussels               Belgium   False  \n",
       "40019   Friendly   Innsbruck               Austria    True  \n",
       "40020   Friendly      Warsaw                Poland   False  \n",
       "\n",
       "[412 rows x 9 columns]"
      ]
     },
     "execution_count": 86,
     "metadata": {},
     "output_type": "execute_result"
    }
   ],
   "source": [
    "temp4 = df_match.loc[((df_match['date'].dt.year <= 2018) & (df_match['date'].dt.year >= 2015) & (df_match['date'] < start_day)\n",
    "                        &(df_match['tournament'] == \"Friendly\") )]\n",
    "df_friendly_match = temp4.loc[(temp4['home_team'].isin(team_list)) | temp4['away_team'].isin(team_list) ]\n",
    "df_friendly_match"
   ]
  },
  {
   "cell_type": "markdown",
   "metadata": {},
   "source": [
    "- Kết quả số trận thắng, thua, hòa trong các trận giao hữu của 16 đội sẽ được lưu vào `df_total_result`."
   ]
  },
  {
   "cell_type": "code",
   "execution_count": 72,
   "metadata": {},
   "outputs": [],
   "source": [
    "df_total_result = pd.DataFrame(columns=['Team','Win', 'Lose', 'Tie'])"
   ]
  },
  {
   "cell_type": "markdown",
   "metadata": {},
   "source": [
    "- Tạo hàm `getTotalResultofTeam` để lấy ra kết quả tổng số trận thắng, thua, hòa trong số trận giao hữu của một đội và lưu vào một `dict`."
   ]
  },
  {
   "cell_type": "code",
   "execution_count": 74,
   "metadata": {},
   "outputs": [],
   "source": [
    "def getTotalResultofTeam(name,df_friendly_match):\n",
    "    total_result = {'Team':name,\n",
    "                'Win': 0,\n",
    "                'Lose': 0,\n",
    "                'Tie': 0}\n",
    "    df_team_home = df_friendly_match.loc[(df_friendly_match['home_team'] ==name)][[\"date\",\"home_team\",\"away_team\",\"home_score\",\"away_score\"]]\n",
    "    df_team_home[\"goal difference\"] = df_team_home[\"home_score\"] - df_team_home[\"away_score\"]\n",
    "    tempp1 =  df_team_home[\"goal difference\"] \n",
    "\n",
    "    df_team_away = df_friendly_match.loc[(df_friendly_match['away_team'] ==name)][[\"date\",\"home_team\",\"away_team\",\"home_score\",\"away_score\"]]\n",
    "    df_team_away[\"goal difference\"] = df_team_away[\"away_score\"] - df_team_away[\"home_score\"]\n",
    "    tempp2 =  df_team_away[\"goal difference\"] \n",
    "\n",
    "    result = np.append(df_team_home[\"goal difference\"].values,df_team_away[\"goal difference\"].values)\n",
    "    result\n",
    "    for i in result:\n",
    "        if i>0:\n",
    "            total_result[\"Win\"]+=1\n",
    "        elif i == 0:\n",
    "            total_result[\"Tie\"]+=1\n",
    "        elif i <0:\n",
    "            total_result[\"Lose\"]+=1\n",
    "    return total_result"
   ]
  },
  {
   "cell_type": "markdown",
   "metadata": {},
   "source": [
    "- Hàm `get_df_total_result` để thực hiện việc lưu kết quả giao hữu của 32 đội vào `df_total_result`."
   ]
  },
  {
   "cell_type": "code",
   "execution_count": 75,
   "metadata": {},
   "outputs": [],
   "source": [
    "def get_df_total_result(df_total_result, team_list):\n",
    "    count = 0\n",
    "    for name in team_list:\n",
    "        total_result = getTotalResultofTeam(name,df_friendly_match)\n",
    "        df_total_result = df_total_result.append(total_result,ignore_index=True)\n",
    "        count+=1\n",
    "    return df_total_result"
   ]
  },
  {
   "cell_type": "code",
   "execution_count": 76,
   "metadata": {},
   "outputs": [
    {
     "data": {
      "text/html": [
       "<div>\n",
       "<style scoped>\n",
       "    .dataframe tbody tr th:only-of-type {\n",
       "        vertical-align: middle;\n",
       "    }\n",
       "\n",
       "    .dataframe tbody tr th {\n",
       "        vertical-align: top;\n",
       "    }\n",
       "\n",
       "    .dataframe thead th {\n",
       "        text-align: right;\n",
       "    }\n",
       "</style>\n",
       "<table border=\"1\" class=\"dataframe\">\n",
       "  <thead>\n",
       "    <tr style=\"text-align: right;\">\n",
       "      <th></th>\n",
       "      <th>Team</th>\n",
       "      <th>Win</th>\n",
       "      <th>Lose</th>\n",
       "      <th>Tie</th>\n",
       "      <th>Total Match</th>\n",
       "    </tr>\n",
       "  </thead>\n",
       "  <tbody>\n",
       "    <tr>\n",
       "      <th>0</th>\n",
       "      <td>Belgium</td>\n",
       "      <td>9</td>\n",
       "      <td>2</td>\n",
       "      <td>5</td>\n",
       "      <td>16</td>\n",
       "    </tr>\n",
       "    <tr>\n",
       "      <th>1</th>\n",
       "      <td>Croatia</td>\n",
       "      <td>9</td>\n",
       "      <td>3</td>\n",
       "      <td>3</td>\n",
       "      <td>15</td>\n",
       "    </tr>\n",
       "    <tr>\n",
       "      <th>2</th>\n",
       "      <td>England</td>\n",
       "      <td>8</td>\n",
       "      <td>4</td>\n",
       "      <td>6</td>\n",
       "      <td>18</td>\n",
       "    </tr>\n",
       "    <tr>\n",
       "      <th>3</th>\n",
       "      <td>France</td>\n",
       "      <td>17</td>\n",
       "      <td>6</td>\n",
       "      <td>3</td>\n",
       "      <td>26</td>\n",
       "    </tr>\n",
       "    <tr>\n",
       "      <th>4</th>\n",
       "      <td>Russia</td>\n",
       "      <td>7</td>\n",
       "      <td>10</td>\n",
       "      <td>8</td>\n",
       "      <td>25</td>\n",
       "    </tr>\n",
       "  </tbody>\n",
       "</table>\n",
       "</div>"
      ],
      "text/plain": [
       "      Team Win Lose Tie Total Match\n",
       "0  Belgium   9    2   5          16\n",
       "1  Croatia   9    3   3          15\n",
       "2  England   8    4   6          18\n",
       "3   France  17    6   3          26\n",
       "4   Russia   7   10   8          25"
      ]
     },
     "execution_count": 76,
     "metadata": {},
     "output_type": "execute_result"
    }
   ],
   "source": [
    "df_total_result = get_df_total_result(df_total_result, team_list)\n",
    "df_total_result['Total Match'] = (df_total_result['Win']+df_total_result['Lose'] + df_total_result['Tie'])\n",
    "df_total_result.head(5)"
   ]
  },
  {
   "cell_type": "markdown",
   "metadata": {},
   "source": [
    "Tiếp theo ta sẽ chuẩn hóa dữ liệu và lưu vào `df_total_result1`."
   ]
  },
  {
   "cell_type": "code",
   "execution_count": 45,
   "metadata": {},
   "outputs": [],
   "source": [
    "df_total_result1 = df_total_result.copy()\n",
    "df_total_result1['Win'] =(df_total_result1['Win']*100) / df_total_result1['Total Match']\n",
    "df_total_result1['Lose'] =(df_total_result1['Lose']*100) / df_total_result1['Total Match']\n",
    "df_total_result1['Tie'] =(df_total_result1['Tie']*100) / df_total_result1['Total Match']\n",
    "\n",
    "df_total_result1.sort_values(by='Win',ascending=False)\n",
    "df_total_result1 = df_total_result1.drop(['Total Match'],axis=1);"
   ]
  },
  {
   "cell_type": "markdown",
   "metadata": {},
   "source": [
    "Biểu đồ tỉ lệ về kết quả các trận giao hữu của các đội vượt qua vòng bảng."
   ]
  },
  {
   "cell_type": "code",
   "execution_count": 77,
   "metadata": {},
   "outputs": [
    {
     "data": {
      "image/png": "[encoded data removed]",
      "text/plain": [
       "<Figure size 1512x648 with 1 Axes>"
      ]
     },
     "metadata": {
      "needs_background": "light"
     },
     "output_type": "display_data"
    }
   ],
   "source": [
    "df_total_result_in16 = df_total_result1.loc[df_total_result1['Team'].isin(team_16_list)] \n",
    "df_total_result_in16 = df_total_result_in16.set_index('Team')\n",
    "df_total_result_in16.plot.barh(figsize=(21,9));"
   ]
  },
  {
   "cell_type": "markdown",
   "metadata": {},
   "source": [
    "- Những đội vượt qua vòng bảng đều chỉ thua 1/3 tổng số trận đấu, ngoại trừ Nga thua khoảng 40% tổng số trận giao hữu. World Cup 2018 được tổ chức tại Nga, có lẽ yếu tố sân nhà với cổ động viên lớn thì cũng là yếu tố giúp tinh thần tuyển Nga đá thăng hoa hơn.\n",
    "- Ta có thể thấy trong 16 đội vào vòng trong thì Brazil là đội có tỉ lệ thắng trận giao hữu rất vượt trội (90%). Liệu Brazil có phải là nhà vô địch của WC2018 hay không?\n",
    "Hay các trận giao hữu thường là với các đội chung khu vực với nhau và có lẽ Brazil quá vượt trội ở khu vực của họ? "
   ]
  },
  {
   "cell_type": "code",
   "execution_count": 80,
   "metadata": {},
   "outputs": [
    {
     "name": "stdout",
     "output_type": "stream",
     "text": [
      "The world champion 2018 is France\n"
     ]
    }
   ],
   "source": [
    "final_match = df_WC_2018.iloc[-1]\n",
    "if final_match['home_score'] > final_match['away_score']:\n",
    "    WC2018champion = final_match['home_team']\n",
    "elif final_match['home_score'] < final_match['away_score']:\n",
    "    WC2018champion = final_match['away_team']\n",
    "\n",
    "print(f'The world champion 2018 is {WC2018champion}')"
   ]
  },
  {
   "cell_type": "markdown",
   "metadata": {},
   "source": [
    "- Hmm, khá tiếc khi Brazil không phải là nhà vô địch của WC2018, **có lẽ** họ thường xuyên giao hữu với các đội trong cùng khu vực Nam Mĩ và quá vượt trội."
   ]
  },
  {
   "cell_type": "markdown",
   "metadata": {},
   "source": [
    "Ta sẽ xem thử liệu những đội không vào được vòng trong thì tỉ lệ các trận giao hữu của họ như thế nào?\n",
    "\n",
    "Biểu đồ về kết quả các trận giao hữu của các đội không vượt qua vòng bảng."
   ]
  },
  {
   "cell_type": "code",
   "execution_count": 81,
   "metadata": {},
   "outputs": [
    {
     "data": {
      "image/png": "[encoded data removed]",
      "text/plain": [
       "<Figure size 1512x648 with 1 Axes>"
      ]
     },
     "metadata": {
      "needs_background": "light"
     },
     "output_type": "display_data"
    }
   ],
   "source": [
    "df_total_result_out16 = df_total_result1.loc[~df_total_result1['Team'].isin(team_16_list)] \n",
    "df_total_result_out16 = df_total_result_out16.set_index('Team')\n",
    "df_total_result_out16.plot.barh(figsize=(21,9));"
   ]
  },
  {
   "cell_type": "markdown",
   "metadata": {},
   "source": [
    "- Có thể thấy được một cái tên khá bất ngờ trong danh sách các đội bị loại đó là **Đức, nhà vô địch của World Cup 2014**, với tỉ lệ thắng/thua/hòa các trận giao hữu khá tương đương nhau. Có lẽ đây là một kì World Cup để lại rất nhiều tiếc nuối cho người hâm mộ của **cỗ xe tăng Đức**.\n",
    "- Tỉ lệ thắng các trận giao hữu của Morocco và Iran khá cao, tuy nhiên điều này cũng không thể giúp họ vượt qua vòng bảng.  "
   ]
  },
  {
   "cell_type": "markdown",
   "metadata": {},
   "source": [
    "Tiếp theo ta sẽ xem thử kết quả của 4 đội vào bán kết."
   ]
  },
  {
   "cell_type": "code",
   "execution_count": 82,
   "metadata": {},
   "outputs": [
    {
     "data": {
      "image/png": "[encoded data removed]",
      "text/plain": [
       "<Figure size 1512x648 with 1 Axes>"
      ]
     },
     "metadata": {
      "needs_background": "light"
     },
     "output_type": "display_data"
    }
   ],
   "source": [
    "df_total_result_in4 = df_total_result1.loc[df_total_result1['Team'].isin(team_4_list)] \n",
    "df_total_result_in4 = df_total_result_in4.set_index('Team')\n",
    "df_total_result_in4.plot.barh(figsize=(21,9));"
   ]
  },
  {
   "cell_type": "markdown",
   "metadata": {},
   "source": [
    "- Với việc là 4 đội bóng mạnh nhất thế giới lúc bấy giờ thì có lẽ kết quả giao hữu như vậy là hợp lí với Bỉ, Anh, Croatia và Pháp."
   ]
  },
  {
   "cell_type": "markdown",
   "metadata": {},
   "source": [
    "**Nhận xét:** Yếu tố thắng thua các trận giao hữu không phải là yếu tố quyết định cho sự thành công của các đội vì phụ thuộc khá nhiều yếu tố khác nhau (ý đồ chiến thuật, thử nghiệm lứa cầu thủ trẻ, thăm dò đối phương...). Tuy nhiên những trận đấu này lại không hề vô ích. Với mỗi trận giao hữu thì ý đồ của các đội khác nhau ( việc chiến thắng không phải nhiệm vụ tối thượng), việc đá giao hữu cũng có thể tạo tâm lí tự tin, cảm giác hưng phấn cho các tuyển thử. Đồng thời phát hiện và cải thiện ra điểm yếu của đội bóng để chuẩn bị cho một kì **World Cup**, giải đấu bóng đá lớn nhất hành tinh."
   ]
  },
  {
   "cell_type": "markdown",
   "metadata": {},
   "source": [
    "## 4. Trong suốt chiều dài lịch sử của các kì World Cup thì liệu có đội bóng nào đã tham dự tất cả các kì World Cup hay không? Kể từ World Cup 1998,tổng số đội tham dự đã được nâng lên 32 đội ,những khu vực nào là khu vực có thành tích tốt nhất?"
   ]
  },
  {
   "cell_type": "markdown",
   "metadata": {},
   "source": [
    "### Số lần tham dự của những đội tuyển đã tham dự World Cup"
   ]
  },
  {
   "cell_type": "markdown",
   "metadata": {},
   "source": [
    "Đầu tiên ta sẽ đếm thử có bao nhiêu kì World Cup đã diễn ra?\n",
    "\n",
    "- Lấy ra năm diễn ra của các kì World Cup và lưu vào `year_WC`."
   ]
  },
  {
   "cell_type": "code",
   "execution_count": 50,
   "metadata": {},
   "outputs": [
    {
     "name": "stdout",
     "output_type": "stream",
     "text": [
      "Số các kì World Cup đã diễn ra: 21\n",
      "[1930 1934 1938 1950 1954 1958 1962 1966 1970 1974 1978 1982 1986 1990\n",
      " 1994 1998 2002 2006 2010 2014 2018]\n"
     ]
    }
   ],
   "source": [
    "df_WC = df_match[df_match['tournament'] == \"FIFA World Cup\"]\n",
    "df_WC = df_WC.drop(['city','country','neutral'],axis=1)\n",
    "df_WC['year'] = df_WC['date'].dt.year\n",
    "year_WC = df_WC['year'].unique()\n",
    "print(f'Số các kì World Cup đã diễn ra: {len(year_WC)}')\n",
    "print(year_WC)"
   ]
  },
  {
   "cell_type": "markdown",
   "metadata": {},
   "source": [
    "- Đã có 21 kì World Cup đã diễn ra, ta được biết World Cup đầu tiên là vào năm 1930 và cứ 4 năm sẽ diễn ra một lần. Tuy nhiễn giai đoạn 1938-1950 đã thiếu đi mất 2 kì World Cup 1942,1946. Tại sao vậy?\n",
    "\n",
    "    **=>** Theo lịch sử, thì đây chính là giai đoạn thế chiến thứ II, vì vậy các kì World Cup đã không được diễn ra, khá là đáng tiếc. "
   ]
  },
  {
   "cell_type": "markdown",
   "metadata": {},
   "source": [
    "Ta sẽ lấy danh sách các đội tham gia các kì World Cup và lưu vào một **dict** `wc_dict` với **key** là năm diễn ra các kì World Cup và **value** là các đội tham dự."
   ]
  },
  {
   "cell_type": "code",
   "execution_count": 51,
   "metadata": {},
   "outputs": [],
   "source": [
    "def get_list_attend_wc(df_WC,time):\n",
    "    temp = df_WC.loc[df_WC['year'] == time]\n",
    "    result = temp['home_team'].to_list() + temp['away_team'].to_list()\n",
    "    result = np.unique(result)\n",
    "    return result\n",
    "\n",
    "wc_dict = {}\n",
    "for i in year_WC:\n",
    "    wc_dict[i] = get_list_attend_wc(df_WC,i)"
   ]
  },
  {
   "cell_type": "markdown",
   "metadata": {},
   "source": [
    "- Lưu số lần tham dự của những đội tuyển đã tham dự World Cup vài `total_attend`."
   ]
  },
  {
   "cell_type": "code",
   "execution_count": 52,
   "metadata": {},
   "outputs": [
    {
     "data": {
      "text/plain": [
       "Brazil       21\n",
       "Germany      19\n",
       "Italy        18\n",
       "Argentina    17\n",
       "Mexico       16\n",
       "France       15\n",
       "England      15\n",
       "Spain        15\n",
       "Belgium      13\n",
       "Uruguay      13\n",
       "dtype: int64"
      ]
     },
     "execution_count": 52,
     "metadata": {},
     "output_type": "execute_result"
    }
   ],
   "source": [
    "df_wc_attend_team = pd.DataFrame(dict([ (k,pd.Series(v)) for k,v in wc_dict.items() ]))\n",
    "a = df_wc_attend_team[1930]\n",
    "for i in year_WC:\n",
    "    if i == 1930:\n",
    "        continue\n",
    "    s1 = df_wc_attend_team[i]\n",
    "    a = a.append(s1)\n",
    "total_attend = a.value_counts()\n",
    "total_attend[:10]"
   ]
  },
  {
   "cell_type": "markdown",
   "metadata": {},
   "source": [
    "- Ta sẽ lấy ra 10 đội tuyển đã tham dự World Cup nhiều nhất."
   ]
  },
  {
   "cell_type": "code",
   "execution_count": 53,
   "metadata": {},
   "outputs": [
    {
     "data": {
      "image/png": "[encoded data removed]",
      "text/plain": [
       "<Figure size 1512x648 with 1 Axes>"
      ]
     },
     "metadata": {
      "needs_background": "light"
     },
     "output_type": "display_data"
    }
   ],
   "source": [
    "ax = total_attend[:10].plot.barh(figsize=(21,9));\n",
    "plt.xlabel('Số lần tham dự')\n",
    "plt.ylabel('Đội tuyển')\n",
    "for i, v in enumerate(total_attend[:10]):\n",
    "    ax.text(v + 0.1, i - 0.1, str(v), color='blue', fontweight='bold')\n",
    "plt.show()"
   ]
  },
  {
   "cell_type": "markdown",
   "metadata": {},
   "source": [
    "- **Brazil** là đội tuyển duy nhất đã tham dự tất cả kì World Cup (21 lần). Thậm chí họ đã có đến 5 lần vô địch World Cup. Đây chính là đội tuyển quốc gia thành công nhất trên thế giới. Có một câu nói vui là: *\" Người Anh sáng tạo ra môn bóng đá, và người Brazil đã hoàn thiện nó\"*."
   ]
  },
  {
   "cell_type": "markdown",
   "metadata": {},
   "source": [
    "### Kể từ World Cup 1998, đâu là khu vực có thành tính tốt nhất ở World Cup."
   ]
  },
  {
   "cell_type": "markdown",
   "metadata": {},
   "source": [
    "Ta sẽ tìm hiểu xem đâu là khu vực có nhiều đội góp mặt ở vòng bán kết nhất.\n",
    "\n",
    "Kể từ World Cup 1998, đã có 6 kì World Cup được tổ chức là : 1998, 2002, 2006, 2010, 2014, 2018."
   ]
  },
  {
   "cell_type": "code",
   "execution_count": 54,
   "metadata": {},
   "outputs": [],
   "source": [
    "year_list = [1998,2002,2006,2010,2014,2018]"
   ]
  },
  {
   "cell_type": "markdown",
   "metadata": {},
   "source": [
    "Để xác định những đội có thành tích tốt nhất, ở mỗi kì World Cup ta chỉ lấy 4 đội đi đến vòng Bán kết.\n",
    "\n",
    "Hàm `get_best_team_wc` lấy ra list 4 đội có số trận đấu là 7 (vào đến vòng bán kết) của một kì World Cup."
   ]
  },
  {
   "cell_type": "code",
   "execution_count": 55,
   "metadata": {},
   "outputs": [],
   "source": [
    "def get_best_team_wc(df_match,time):\n",
    "    df_wc = df_match.loc[(df_match['date'].dt.year == time) & (df_match['tournament'] == \"FIFA World Cup\")]\n",
    "\n",
    "    temp1 = df_wc['home_team'].value_counts().to_frame()\n",
    "    temp2 = df_wc['away_team'].value_counts().to_frame()\n",
    "\n",
    "    temp3 = pd.concat([temp1, temp2], axis=1, join='outer')\n",
    "    temp3['away_team'] = temp3['away_team'].fillna(0)\n",
    "    temp3['home_team'] = temp3['home_team'].fillna(0)\n",
    "    temp3['total match'] = temp3['away_team'] + temp3['home_team']\n",
    "\n",
    "    temp4 = temp3.loc[temp3['total match'] == 7]\n",
    "\n",
    "    return temp4.index.to_list()"
   ]
  },
  {
   "cell_type": "markdown",
   "metadata": {},
   "source": [
    "Lưu các đội đã đến bán kết từ World Cup 1998 đến nay vào `df_semifinal_team`."
   ]
  },
  {
   "cell_type": "code",
   "execution_count": 56,
   "metadata": {},
   "outputs": [
    {
     "data": {
      "text/html": [
       "<div>\n",
       "<style scoped>\n",
       "    .dataframe tbody tr th:only-of-type {\n",
       "        vertical-align: middle;\n",
       "    }\n",
       "\n",
       "    .dataframe tbody tr th {\n",
       "        vertical-align: top;\n",
       "    }\n",
       "\n",
       "    .dataframe thead th {\n",
       "        text-align: right;\n",
       "    }\n",
       "</style>\n",
       "<table border=\"1\" class=\"dataframe\">\n",
       "  <thead>\n",
       "    <tr style=\"text-align: right;\">\n",
       "      <th></th>\n",
       "      <th>Time</th>\n",
       "    </tr>\n",
       "  </thead>\n",
       "  <tbody>\n",
       "    <tr>\n",
       "      <th>Italy</th>\n",
       "      <td>1</td>\n",
       "    </tr>\n",
       "    <tr>\n",
       "      <th>Turkey</th>\n",
       "      <td>1</td>\n",
       "    </tr>\n",
       "    <tr>\n",
       "      <th>Portugal</th>\n",
       "      <td>1</td>\n",
       "    </tr>\n",
       "    <tr>\n",
       "      <th>France</th>\n",
       "      <td>3</td>\n",
       "    </tr>\n",
       "    <tr>\n",
       "      <th>Brazil</th>\n",
       "      <td>3</td>\n",
       "    </tr>\n",
       "    <tr>\n",
       "      <th>Germany</th>\n",
       "      <td>4</td>\n",
       "    </tr>\n",
       "    <tr>\n",
       "      <th>Uruguay</th>\n",
       "      <td>1</td>\n",
       "    </tr>\n",
       "    <tr>\n",
       "      <th>Argentina</th>\n",
       "      <td>1</td>\n",
       "    </tr>\n",
       "    <tr>\n",
       "      <th>Belgium</th>\n",
       "      <td>1</td>\n",
       "    </tr>\n",
       "    <tr>\n",
       "      <th>Spain</th>\n",
       "      <td>1</td>\n",
       "    </tr>\n",
       "    <tr>\n",
       "      <th>Croatia</th>\n",
       "      <td>2</td>\n",
       "    </tr>\n",
       "    <tr>\n",
       "      <th>England</th>\n",
       "      <td>1</td>\n",
       "    </tr>\n",
       "    <tr>\n",
       "      <th>Netherlands</th>\n",
       "      <td>3</td>\n",
       "    </tr>\n",
       "    <tr>\n",
       "      <th>South Korea</th>\n",
       "      <td>1</td>\n",
       "    </tr>\n",
       "  </tbody>\n",
       "</table>\n",
       "</div>"
      ],
      "text/plain": [
       "             Time\n",
       "Italy           1\n",
       "Turkey          1\n",
       "Portugal        1\n",
       "France          3\n",
       "Brazil          3\n",
       "Germany         4\n",
       "Uruguay         1\n",
       "Argentina       1\n",
       "Belgium         1\n",
       "Spain           1\n",
       "Croatia         2\n",
       "England         1\n",
       "Netherlands     3\n",
       "South Korea     1"
      ]
     },
     "execution_count": 56,
     "metadata": {},
     "output_type": "execute_result"
    }
   ],
   "source": [
    "semifinal_team_list = []\n",
    "for i in year_list:\n",
    "    result = get_best_team_wc(df_match,i)\n",
    "    for j in result:\n",
    "        semifinal_team_list.append(j)\n",
    "\n",
    "a = dict((x,semifinal_team_list.count(x)) for x in set(semifinal_team_list))\n",
    "df_semifinal_team = pd.DataFrame.from_dict(a,orient='index', columns=['Time'])\n",
    "df_semifinal_team"
   ]
  },
  {
   "cell_type": "markdown",
   "metadata": {},
   "source": [
    "Thêm cột **Area** vào `df_semifinal_team` từ *country_continent.csv*"
   ]
  },
  {
   "cell_type": "code",
   "execution_count": 57,
   "metadata": {},
   "outputs": [
    {
     "data": {
      "text/html": [
       "<div>\n",
       "<style scoped>\n",
       "    .dataframe tbody tr th:only-of-type {\n",
       "        vertical-align: middle;\n",
       "    }\n",
       "\n",
       "    .dataframe tbody tr th {\n",
       "        vertical-align: top;\n",
       "    }\n",
       "\n",
       "    .dataframe thead th {\n",
       "        text-align: right;\n",
       "    }\n",
       "</style>\n",
       "<table border=\"1\" class=\"dataframe\">\n",
       "  <thead>\n",
       "    <tr style=\"text-align: right;\">\n",
       "      <th></th>\n",
       "      <th>Time</th>\n",
       "      <th>Continent</th>\n",
       "    </tr>\n",
       "  </thead>\n",
       "  <tbody>\n",
       "    <tr>\n",
       "      <th>Italy</th>\n",
       "      <td>1</td>\n",
       "      <td>Europe</td>\n",
       "    </tr>\n",
       "    <tr>\n",
       "      <th>Turkey</th>\n",
       "      <td>1</td>\n",
       "      <td>Europe</td>\n",
       "    </tr>\n",
       "    <tr>\n",
       "      <th>Portugal</th>\n",
       "      <td>1</td>\n",
       "      <td>Europe</td>\n",
       "    </tr>\n",
       "    <tr>\n",
       "      <th>France</th>\n",
       "      <td>3</td>\n",
       "      <td>Europe</td>\n",
       "    </tr>\n",
       "    <tr>\n",
       "      <th>Brazil</th>\n",
       "      <td>3</td>\n",
       "      <td>South America</td>\n",
       "    </tr>\n",
       "    <tr>\n",
       "      <th>Germany</th>\n",
       "      <td>4</td>\n",
       "      <td>Europe</td>\n",
       "    </tr>\n",
       "    <tr>\n",
       "      <th>Uruguay</th>\n",
       "      <td>1</td>\n",
       "      <td>South America</td>\n",
       "    </tr>\n",
       "    <tr>\n",
       "      <th>Argentina</th>\n",
       "      <td>1</td>\n",
       "      <td>South America</td>\n",
       "    </tr>\n",
       "    <tr>\n",
       "      <th>Belgium</th>\n",
       "      <td>1</td>\n",
       "      <td>Europe</td>\n",
       "    </tr>\n",
       "    <tr>\n",
       "      <th>Spain</th>\n",
       "      <td>1</td>\n",
       "      <td>Europe</td>\n",
       "    </tr>\n",
       "    <tr>\n",
       "      <th>Croatia</th>\n",
       "      <td>2</td>\n",
       "      <td>Europe</td>\n",
       "    </tr>\n",
       "    <tr>\n",
       "      <th>England</th>\n",
       "      <td>1</td>\n",
       "      <td>Europe</td>\n",
       "    </tr>\n",
       "    <tr>\n",
       "      <th>Netherlands</th>\n",
       "      <td>3</td>\n",
       "      <td>Europe</td>\n",
       "    </tr>\n",
       "    <tr>\n",
       "      <th>South Korea</th>\n",
       "      <td>1</td>\n",
       "      <td>Asia</td>\n",
       "    </tr>\n",
       "  </tbody>\n",
       "</table>\n",
       "</div>"
      ],
      "text/plain": [
       "             Time      Continent\n",
       "Italy           1         Europe\n",
       "Turkey          1         Europe\n",
       "Portugal        1         Europe\n",
       "France          3         Europe\n",
       "Brazil          3  South America\n",
       "Germany         4         Europe\n",
       "Uruguay         1  South America\n",
       "Argentina       1  South America\n",
       "Belgium         1         Europe\n",
       "Spain           1         Europe\n",
       "Croatia         2         Europe\n",
       "England         1         Europe\n",
       "Netherlands     3         Europe\n",
       "South Korea     1           Asia"
      ]
     },
     "execution_count": 57,
     "metadata": {},
     "output_type": "execute_result"
    }
   ],
   "source": [
    "df_continent2 = df_continent.reset_index()[['Country','Continent']].set_index('Country')\n",
    "\n",
    "df_semifinal_team = pd.merge(df_semifinal_team, df_continent2, left_index=True, right_index=True)\n",
    "df_semifinal_team"
   ]
  },
  {
   "cell_type": "markdown",
   "metadata": {},
   "source": [
    "Tiếp theo ta sẽ tính tổng số lần có đội đến từ từng khu vực đi đến vòng bán kết và lưu vào `df_are`."
   ]
  },
  {
   "cell_type": "code",
   "execution_count": 58,
   "metadata": {},
   "outputs": [
    {
     "name": "stdout",
     "output_type": "stream",
     "text": [
      "Những khu vực góp mặt vào vòng bán kết là: ['Europe', 'South America', 'Asia']\n"
     ]
    }
   ],
   "source": [
    "area = df_semifinal_team['Continent'].value_counts().keys()\n",
    "print(f'Những khu vực góp mặt vào vòng bán kết là: {[*area]}')"
   ]
  },
  {
   "cell_type": "code",
   "execution_count": 59,
   "metadata": {},
   "outputs": [
    {
     "data": {
      "text/html": [
       "<div>\n",
       "<style scoped>\n",
       "    .dataframe tbody tr th:only-of-type {\n",
       "        vertical-align: middle;\n",
       "    }\n",
       "\n",
       "    .dataframe tbody tr th {\n",
       "        vertical-align: top;\n",
       "    }\n",
       "\n",
       "    .dataframe thead th {\n",
       "        text-align: right;\n",
       "    }\n",
       "</style>\n",
       "<table border=\"1\" class=\"dataframe\">\n",
       "  <thead>\n",
       "    <tr style=\"text-align: right;\">\n",
       "      <th></th>\n",
       "      <th>Total Time</th>\n",
       "    </tr>\n",
       "  </thead>\n",
       "  <tbody>\n",
       "    <tr>\n",
       "      <th>Europe</th>\n",
       "      <td>18</td>\n",
       "    </tr>\n",
       "    <tr>\n",
       "      <th>South America</th>\n",
       "      <td>5</td>\n",
       "    </tr>\n",
       "    <tr>\n",
       "      <th>Asia</th>\n",
       "      <td>1</td>\n",
       "    </tr>\n",
       "  </tbody>\n",
       "</table>\n",
       "</div>"
      ],
      "text/plain": [
       "               Total Time\n",
       "Europe                 18\n",
       "South America           5\n",
       "Asia                    1"
      ]
     },
     "execution_count": 59,
     "metadata": {},
     "output_type": "execute_result"
    }
   ],
   "source": [
    "data = {}\n",
    "data['Europe'] = df_semifinal_team.loc[df_semifinal_team['Continent'] == 'Europe']['Time'].sum()\n",
    "data['South America'] = df_semifinal_team.loc[df_semifinal_team['Continent'] == 'South America']['Time'].sum()\n",
    "data['Asia'] = df_semifinal_team.loc[df_semifinal_team['Continent'] == 'Asia']['Time'].sum()\n",
    "\n",
    "df_are = pd.DataFrame.from_dict(data,orient='index',columns=['Total Time'])\n",
    "df_are"
   ]
  },
  {
   "cell_type": "code",
   "execution_count": 60,
   "metadata": {},
   "outputs": [
    {
     "data": {
      "image/png": "[encoded data removed]",
      "text/plain": [
       "<Figure size 360x360 with 1 Axes>"
      ]
     },
     "metadata": {},
     "output_type": "display_data"
    }
   ],
   "source": [
    "plot = df_are.plot.pie(subplots=True, figsize=(5, 5))"
   ]
  },
  {
   "cell_type": "markdown",
   "metadata": {},
   "source": [
    "**Nhận xét:** Có vẻ tròng vòng 20 năm đến nay, mặc dù số lượng các đội đã tăng lên 32 đội, có cơ hội nhiều hơn cho các đội khu vực Châu Á, 6 kì World Cup, thì các đội bóng Châu Âu là khu vực thống trị World Cup (bằng gấp 3 lần Nam Mĩ và Châu Á cộng lại). Điều này vô cùng hợp lí khi các siêu sao hiện nay đa số đều đến từ Châu Âu, và đây cũng là châu lục sở hữu những giải bóng đá vô cùng chất lượng và đáng xem nhất như: UEFA Champions League, UEFA Europa League, Giải bóng đá ngoại hạng Anh, Laliga, Bundesliga(Đức), Ligue 1(Pháp), Seria A(Ý)."
   ]
  },
  {
   "cell_type": "markdown",
   "metadata": {},
   "source": [
    "---"
   ]
  },
  {
   "cell_type": "markdown",
   "metadata": {},
   "source": [
    "# Nhìn lại quá trình làm đồ án"
   ]
  },
  {
   "cell_type": "markdown",
   "metadata": {},
   "source": [
    "### Học được những gì từ đồ án"
   ]
  },
  {
   "cell_type": "markdown",
   "metadata": {},
   "source": [
    " #### Trường Dương:"
   ]
  },
  {
   "cell_type": "markdown",
   "metadata": {},
   "source": [
    "- Cách sử dụng git, biết cách merge. Và đặc biệt đối với file notebook nếu output là `df.sample` thì mỗi lần merge phải xử lý conflict cho phần này, nên phải chấp nhận sửa để người coi không cần chạy code cũng thấy được output.\n",
    "- Cách kiếm data, tự tìm data và thu thập theo yêu cầu nếu data kiếm được chưa có file `\"country-continent.csv\"`\n",
    "- Thành thạo hơn trong việc merge các dataframe\n",
    "- correlation plot\n",
    "- biết thêm về np.select để tạo ra cột mới theo điều kiện trong một dataframe\n",
    "- apply không phải là cách giải quyết tốt nhất nếu truy vấn theo từng dòng của dataframe. tìm tất cả mọi cách để thao tác với numpy (Câu 2 tiền xử lý, thay vì dùng apply thì nên so sánh 2 numpy array cho tốc độ xử lý nhanh hơn 26s vs 0.1s)\n",
    "- Data là vô hạn, tránh việc sử dụng quá nhiều data có nhiều thuộc tính mà không cần dùng đến để xử lý để có thể gây ra tình trạng rối loạn."
   ]
  },
  {
   "cell_type": "markdown",
   "metadata": {},
   "source": [
    "#### Quang Dũng:\n"
   ]
  },
  {
   "cell_type": "markdown",
   "metadata": {},
   "source": [
    "Qua đồ án này em đã học được:\n",
    "\n",
    "- Kĩ năng sử dụng Git, merge git.\n",
    "- Tổ chức notebook.\n",
    "- Hiểu rõ hơn quy trình về khoa học dữ liệu."
   ]
  },
  {
   "cell_type": "markdown",
   "metadata": {},
   "source": [
    "### Những khó khăn khi thực hiện đồ án"
   ]
  },
  {
   "cell_type": "markdown",
   "metadata": {},
   "source": [
    "#### Trường Dương:"
   ]
  },
  {
   "cell_type": "markdown",
   "metadata": {},
   "source": [
    "- Khá khó khăn trong việc mới đầu dùng github, clone về sai nhánh origin nên bị lỗi không merge lại được, phải tạo lại nhánh mới\n",
    "- File `\"country-continent.csv\"` không có trên mạng nên phải tự lên Wiki để copy data về xử lý, Thêm nữa phải để ý đến dữ liệu có đúng không như bài này đang làm dữ liệu FIFA nhưng kiếm data các quốc gia theo dữ liệu ISO thì sẽ không thực hiện được\n",
    "- Xử lý dataframe nếu dùng apply thì sẽ chạy khá lâu, nên phải tìm cách giải quyết bằng numpy\n",
    "- Phân bố thời gian không hợp lý nên quá trình thực hiện không được như mong muốn"
   ]
  },
  {
   "cell_type": "markdown",
   "metadata": {},
   "source": [
    "#### Quang Dũng:"
   ]
  },
  {
   "cell_type": "markdown",
   "metadata": {},
   "source": [
    "- Khó khăn trong việc lựa chọn chủ đề, dataset phù hợp với cả hai.\n",
    "- Việc merge các branch lại với nhau.\n",
    "- Suy nghĩ đặt câu hỏi nào để không bị quá đơn giản (em cũng sợ câu hỏi em đã đặt cũng bị đơn giản) và có thể trả lời được bằng dataset."
   ]
  },
  {
   "cell_type": "markdown",
   "metadata": {},
   "source": [
    "### Nếu có thời gian sẽ làm thêm những gì?"
   ]
  },
  {
   "cell_type": "markdown",
   "metadata": {},
   "source": [
    "- Xóa các kết quả trước khi diễn ra Euro 2020, lấy data danh sách các đội tuyển tham gia Euro. Từ những dữ liệu trong quá khứ, dự đoán nhà vô địch của giải dựa trên kết quả đối đầu của các đội bóng từ năm 2010 trở lại đây."
   ]
  },
  {
   "cell_type": "markdown",
   "metadata": {},
   "source": [
    "---"
   ]
  },
  {
   "cell_type": "markdown",
   "metadata": {},
   "source": [
    "# Tài liệu tham khảo"
   ]
  },
  {
   "cell_type": "markdown",
   "metadata": {},
   "source": [
    "- [1] Các file notebook demo của thầy Kiên.\n",
    "- [2] [pandas documentation](https://pandas.pydata.org/docs/)\n",
    "- [3] [numpy documentation](https://numpy.org/doc/stable/user/index.html#user)\n",
    "- [4] Video hướng dẫn numpy, pandas của thầy Kiên trong quá trình học\n",
    "- [5] [kaggle](https://www.kaggle.com/martj42/international-football-results-from-1872-to-2017/code) nơi cung cấp data cũng như, những câu hỏi gợi ý của tác giả\n",
    "- [6] [stackoverflow](https://stackoverflow.com/) giải quyết khó khăn về xử lý các hàm của pandas và numpy"
   ]
  },
  {
   "cell_type": "markdown",
   "metadata": {},
   "source": [
    "---"
   ]
  }
 ],
 "metadata": {
  "interpreter": {
   "hash": "47579162945f248bf594bb80bafa1f1c1494a0ffd44cc646a6f113fff71b4c7c"
  },
  "kernelspec": {
   "display_name": "Python 3.8.8 64-bit ('min_ds-env': conda)",
   "language": "python",
   "name": "python3"
  },
  "language_info": {
   "codemirror_mode": {
    "name": "ipython",
    "version": 3
   },
   "file_extension": ".py",
   "mimetype": "text/x-python",
   "name": "python",
   "nbconvert_exporter": "python",
   "pygments_lexer": "ipython3",
   "version": "3.8.8"
  },
  "orig_nbformat": 4
 },
 "nbformat": 4,
 "nbformat_minor": 2
}
