{
 "cells": [
  {
   "cell_type": "markdown",
   "metadata": {},
   "source": [
    "# Link github:"
   ]
  },
  {
   "cell_type": "markdown",
   "metadata": {},
   "source": [
    "https://github.com/npqd/P4DS_FinalProject.git"
   ]
  },
  {
   "cell_type": "markdown",
   "metadata": {},
   "source": [
    "---"
   ]
  },
  {
   "cell_type": "markdown",
   "metadata": {},
   "source": [
    "# Import thư viện cần thiết"
   ]
  },
  {
   "cell_type": "code",
   "execution_count": 16,
   "metadata": {},
   "outputs": [],
   "source": [
    "import pandas as pd\n",
    "import numpy as np\n",
    "import matplotlib.pyplot as plt\n",
    "import seaborn as sns\n",
    "import datetime as dt"
   ]
  },
  {
   "cell_type": "markdown",
   "metadata": {},
   "source": [
    "---"
   ]
  },
  {
   "cell_type": "markdown",
   "metadata": {},
   "source": [
    "# Thu thập dữ liệu"
   ]
  },
  {
   "cell_type": "markdown",
   "metadata": {},
   "source": [
    "### Mô tả cơ bản về dữ liệu"
   ]
  },
  {
   "cell_type": "markdown",
   "metadata": {},
   "source": [
    "- Dữ liệu của hơn 40,000 trận đấu bóng đá quốc tế từ 1872-2019\n",
    "- Tên các quốc gia theo lục địa\n",
    "- Tên khác/ cũ của các quốc gia "
   ]
  },
  {
   "cell_type": "markdown",
   "metadata": {},
   "source": [
    "### Mục đích chọn dữ liệu"
   ]
  },
  {
   "cell_type": "markdown",
   "metadata": {},
   "source": [
    "- Bóng đá trước giờ vẫn luôn là môn thể thao vua và luôn được mọi người quan tâm nhiều nhất. Qua dữ liệu đã có, ta có thể biết được tình hình phát triển bóng đá của các quốc gia, sự thay đổi về vị thế bóng đá của các nước qua các năm. Ngoài ra thông qua lịch sử đối đầu, chúng ta có thể dự đoán được phần nào các kết quả trong tương lai\n",
    "- Data tên quốc gia theo lục địa để so sánh các quốc gia trong cùng khu vực bóng đá\n",
    "- Data các tên gọi của quốc gia để quy ước tên các quốc gia trong dữ liệu là tên hiện tại của quốc gia đó"
   ]
  },
  {
   "cell_type": "markdown",
   "metadata": {},
   "source": [
    "### Mô tả chi tiết dữ liệu"
   ]
  },
  {
   "cell_type": "markdown",
   "metadata": {},
   "source": [
    "- `result.csv` Dữ liệu chứa 42,899 kết quả của các trận đá bóng quốc tế từ năm 1872 đến 2019. Từ những giải đấu được tổ chức bởi FIFA World Cup đến những giải đấu châu lục cho đến cả những giải đấu giao hữu. Đây là dữ liệu của những trận bóng đá nam, không bao gồm những giải đấu như Olympic hoặc của những đội hình phụ hoặc U23... hoặc là các giải đấu trong nước.\n",
    "- `country_continent` Phân nhóm các quốc gia theo tên các châu lục, các vùng của một châu lục\n",
    "- `country_allname` [wiki_name](https://en.wikipedia.org/wiki/List_of_alternative_country_names) các tên gọi thay thế, hoặc tên gọi trong quá khứ của từng quốc gia"
   ]
  },
  {
   "cell_type": "markdown",
   "metadata": {},
   "source": [
    "#### `result.csv`"
   ]
  },
  {
   "cell_type": "markdown",
   "metadata": {},
   "source": [
    "- `date` - ngày diễn ra trận đấu\n",
    "- `home_team` - tên của đội chủ nhà\n",
    "- `away_team` - tên của đội khách\n",
    "- `home_score` - số bàn thắng đội chủ nhà ghi được bao gồm thời gian thi đấu chính thức và hiệp phụ, không tính loạt luân lưu\n",
    "- `away_score` - số bàn thắng đội khách ghi được bao gồm thời gian thi đấu chính thức và hiệp phụ, không tính loạt luân lưu\n",
    "- `tournament` - tên của giải đấu\n",
    "- `city` - tên của thành phố trận đấu diễn ra\n",
    "- `country` - tên của quốc gia mà trận đấu diễn ra\n",
    "- `neutral` - cột TRUE/FALSE , nếu được tỏ trức ở một sân trung lập thì trả về giá trị TRUE\n",
    "\n",
    "* **Lưu ý:**\n",
    "    - `home_team` và `away_team` là tên hiện tại của đội. Ví dụ năm 1882, tên đội `Ireland` đá với `England` thì trong data này sẽ được gọi là `Northern Ireland` bởi vì đây là tên hiện tại của đội tuyển `Ireland` năm 1882. Việc quy ước này để có thể dễ dàng lấy thống kê\n",
    "    - `country` sẽ là tên của quốc gia lúc diễn ra trận đấu. Vào những năm 1950, `Ghana` tuy đá ở `Gold Coast` nhưng vẫn là đội chủ nhà do cột `neutral` trả về giá trị FALSE\n"
   ]
  },
  {
   "cell_type": "markdown",
   "metadata": {},
   "source": [
    "#### `country_continent.csv`"
   ]
  },
  {
   "cell_type": "markdown",
   "metadata": {},
   "source": [
    "-   `Country` : Tên quốc gia, lãnh thổ theo FIFA\n",
    "-   `Code`: Mã của quốc gia theo FIFA\n",
    "-   `Continent`: Tên lục địa"
   ]
  },
  {
   "cell_type": "markdown",
   "metadata": {},
   "source": [
    "### Nguồn thu thập dữ liệu"
   ]
  },
  {
   "cell_type": "markdown",
   "metadata": {},
   "source": [
    "[result](https://www.kaggle.com/martj42/international-football-results-from-1872-to-2017)\n",
    "\n",
    "[country_continent](https://en.wikipedia.org/wiki/Geography_of_association_football)\n",
    "\n",
    "<!-- [country_allname](https://github.com/aaronschiff/country-names/blob/master/country-names-cross-ref.csv) -->"
   ]
  },
  {
   "cell_type": "markdown",
   "metadata": {},
   "source": [
    "---"
   ]
  },
  {
   "cell_type": "markdown",
   "metadata": {},
   "source": [
    "# Khám phá dữ liệu"
   ]
  },
  {
   "cell_type": "markdown",
   "metadata": {},
   "source": [
    "### Đọc dữ liệu"
   ]
  },
  {
   "cell_type": "markdown",
   "metadata": {},
   "source": [
    "Đọc dữ liệu các trận đấu vào `df_match`"
   ]
  },
  {
   "cell_type": "code",
   "execution_count": 17,
   "metadata": {},
   "outputs": [
    {
     "data": {
      "text/html": [
       "<div>\n",
       "<style scoped>\n",
       "    .dataframe tbody tr th:only-of-type {\n",
       "        vertical-align: middle;\n",
       "    }\n",
       "\n",
       "    .dataframe tbody tr th {\n",
       "        vertical-align: top;\n",
       "    }\n",
       "\n",
       "    .dataframe thead th {\n",
       "        text-align: right;\n",
       "    }\n",
       "</style>\n",
       "<table border=\"1\" class=\"dataframe\">\n",
       "  <thead>\n",
       "    <tr style=\"text-align: right;\">\n",
       "      <th></th>\n",
       "      <th>date</th>\n",
       "      <th>home_team</th>\n",
       "      <th>away_team</th>\n",
       "      <th>home_score</th>\n",
       "      <th>away_score</th>\n",
       "      <th>tournament</th>\n",
       "      <th>city</th>\n",
       "      <th>country</th>\n",
       "      <th>neutral</th>\n",
       "    </tr>\n",
       "  </thead>\n",
       "  <tbody>\n",
       "    <tr>\n",
       "      <th>38991</th>\n",
       "      <td>2017-06-09</td>\n",
       "      <td>Solomon Islands</td>\n",
       "      <td>Papua New Guinea</td>\n",
       "      <td>3</td>\n",
       "      <td>2</td>\n",
       "      <td>FIFA World Cup qualification</td>\n",
       "      <td>Honiara</td>\n",
       "      <td>Solomon Islands</td>\n",
       "      <td>False</td>\n",
       "    </tr>\n",
       "    <tr>\n",
       "      <th>1509</th>\n",
       "      <td>1932-06-26</td>\n",
       "      <td>Yugoslavia</td>\n",
       "      <td>Greece</td>\n",
       "      <td>7</td>\n",
       "      <td>1</td>\n",
       "      <td>Balkan Cup</td>\n",
       "      <td>Belgrade</td>\n",
       "      <td>Yugoslavia</td>\n",
       "      <td>False</td>\n",
       "    </tr>\n",
       "    <tr>\n",
       "      <th>21135</th>\n",
       "      <td>1998-01-07</td>\n",
       "      <td>Trinidad and Tobago</td>\n",
       "      <td>Jamaica</td>\n",
       "      <td>0</td>\n",
       "      <td>0</td>\n",
       "      <td>Friendly</td>\n",
       "      <td>Port of Spain</td>\n",
       "      <td>Trinidad and Tobago</td>\n",
       "      <td>False</td>\n",
       "    </tr>\n",
       "    <tr>\n",
       "      <th>38816</th>\n",
       "      <td>2017-03-24</td>\n",
       "      <td>United States</td>\n",
       "      <td>Honduras</td>\n",
       "      <td>6</td>\n",
       "      <td>0</td>\n",
       "      <td>FIFA World Cup qualification</td>\n",
       "      <td>San Jose</td>\n",
       "      <td>United States</td>\n",
       "      <td>False</td>\n",
       "    </tr>\n",
       "    <tr>\n",
       "      <th>14079</th>\n",
       "      <td>1985-11-16</td>\n",
       "      <td>German DR</td>\n",
       "      <td>Bulgaria</td>\n",
       "      <td>2</td>\n",
       "      <td>1</td>\n",
       "      <td>FIFA World Cup qualification</td>\n",
       "      <td>Karl-Marx-Stadt</td>\n",
       "      <td>German DR</td>\n",
       "      <td>False</td>\n",
       "    </tr>\n",
       "  </tbody>\n",
       "</table>\n",
       "</div>"
      ],
      "text/plain": [
       "             date            home_team         away_team  home_score  \\\n",
       "38991  2017-06-09      Solomon Islands  Papua New Guinea           3   \n",
       "1509   1932-06-26           Yugoslavia            Greece           7   \n",
       "21135  1998-01-07  Trinidad and Tobago           Jamaica           0   \n",
       "38816  2017-03-24        United States          Honduras           6   \n",
       "14079  1985-11-16            German DR          Bulgaria           2   \n",
       "\n",
       "       away_score                    tournament             city  \\\n",
       "38991           2  FIFA World Cup qualification          Honiara   \n",
       "1509            1                    Balkan Cup         Belgrade   \n",
       "21135           0                      Friendly    Port of Spain   \n",
       "38816           0  FIFA World Cup qualification         San Jose   \n",
       "14079           1  FIFA World Cup qualification  Karl-Marx-Stadt   \n",
       "\n",
       "                   country  neutral  \n",
       "38991      Solomon Islands    False  \n",
       "1509            Yugoslavia    False  \n",
       "21135  Trinidad and Tobago    False  \n",
       "38816        United States    False  \n",
       "14079            German DR    False  "
      ]
     },
     "execution_count": 17,
     "metadata": {},
     "output_type": "execute_result"
    }
   ],
   "source": [
    "df_match  = pd.read_csv('results.csv')\n",
    "#TEST\n",
    "df_match.sample(5)"
   ]
  },
  {
   "cell_type": "markdown",
   "metadata": {},
   "source": [
    "Đọc dữ liệu quốc gia theo lục địa vào `df_continent`"
   ]
  },
  {
   "cell_type": "code",
   "execution_count": 18,
   "metadata": {},
   "outputs": [
    {
     "data": {
      "text/html": [
       "<div>\n",
       "<style scoped>\n",
       "    .dataframe tbody tr th:only-of-type {\n",
       "        vertical-align: middle;\n",
       "    }\n",
       "\n",
       "    .dataframe tbody tr th {\n",
       "        vertical-align: top;\n",
       "    }\n",
       "\n",
       "    .dataframe thead th {\n",
       "        text-align: right;\n",
       "    }\n",
       "</style>\n",
       "<table border=\"1\" class=\"dataframe\">\n",
       "  <thead>\n",
       "    <tr style=\"text-align: right;\">\n",
       "      <th></th>\n",
       "      <th>Unnamed: 0</th>\n",
       "      <th>Code</th>\n",
       "      <th>Country</th>\n",
       "      <th>Continent</th>\n",
       "    </tr>\n",
       "  </thead>\n",
       "  <tbody>\n",
       "    <tr>\n",
       "      <th>122</th>\n",
       "      <td>122</td>\n",
       "      <td>MEX</td>\n",
       "      <td>Mexico</td>\n",
       "      <td>North America, Central America and the Caribbean</td>\n",
       "    </tr>\n",
       "    <tr>\n",
       "      <th>127</th>\n",
       "      <td>127</td>\n",
       "      <td>MAR</td>\n",
       "      <td>Morocco</td>\n",
       "      <td>Africa</td>\n",
       "    </tr>\n",
       "    <tr>\n",
       "      <th>51</th>\n",
       "      <td>51</td>\n",
       "      <td>CYP</td>\n",
       "      <td>Cyprus</td>\n",
       "      <td>Europe</td>\n",
       "    </tr>\n",
       "    <tr>\n",
       "      <th>177</th>\n",
       "      <td>177</td>\n",
       "      <td>SSD</td>\n",
       "      <td>South Sudan</td>\n",
       "      <td>Africa</td>\n",
       "    </tr>\n",
       "    <tr>\n",
       "      <th>141</th>\n",
       "      <td>141</td>\n",
       "      <td>NOR</td>\n",
       "      <td>Norway</td>\n",
       "      <td>Europe</td>\n",
       "    </tr>\n",
       "  </tbody>\n",
       "</table>\n",
       "</div>"
      ],
      "text/plain": [
       "     Unnamed: 0 Code      Country  \\\n",
       "122         122  MEX       Mexico   \n",
       "127         127  MAR      Morocco   \n",
       "51           51  CYP       Cyprus   \n",
       "177         177  SSD  South Sudan   \n",
       "141         141  NOR       Norway   \n",
       "\n",
       "                                            Continent  \n",
       "122  North America, Central America and the Caribbean  \n",
       "127                                            Africa  \n",
       "51                                             Europe  \n",
       "177                                            Africa  \n",
       "141                                            Europe  "
      ]
     },
     "execution_count": 18,
     "metadata": {},
     "output_type": "execute_result"
    }
   ],
   "source": [
    "df_continent = pd.read_csv('country_continent.csv')\n",
    "#TEST\n",
    "df_continent.sample(5)"
   ]
  },
  {
   "cell_type": "markdown",
   "metadata": {},
   "source": [
    "### Dữ liệu có bao nhiêu dòng và cột ?"
   ]
  },
  {
   "cell_type": "markdown",
   "metadata": {},
   "source": [
    "Tiếp theo, ta tính số dòng và số cột của DataFrame `df_match` và `df_continent`, lưu vào biến `match_rows`,`match_cols` và `continent_rows`,`continent_cols`."
   ]
  },
  {
   "cell_type": "code",
   "execution_count": 19,
   "metadata": {},
   "outputs": [
    {
     "name": "stdout",
     "output_type": "stream",
     "text": [
      "number rows of match:  43085\n",
      "number cols of match:  9\n"
     ]
    }
   ],
   "source": [
    "match_rows,match_cols = df_match.shape\n",
    "print('number rows of match: ',match_rows)\n",
    "print('number cols of match: ',match_cols)"
   ]
  },
  {
   "cell_type": "code",
   "execution_count": 20,
   "metadata": {},
   "outputs": [
    {
     "name": "stdout",
     "output_type": "stream",
     "text": [
      "number rows of continent:  211\n",
      "number cols of continent:  4\n"
     ]
    }
   ],
   "source": [
    "continent_rows,continent_cols = df_continent.shape\n",
    "print('number rows of continent: ',continent_rows)\n",
    "print('number cols of continent: ',continent_cols)"
   ]
  },
  {
   "cell_type": "markdown",
   "metadata": {},
   "source": [
    "### Mỗi dòng có ý nghĩa gì? Có vấn đề gì các dòng có ý nghĩa khác nhau không ?"
   ]
  },
  {
   "cell_type": "markdown",
   "metadata": {},
   "source": [
    "`df_match`"
   ]
  },
  {
   "cell_type": "markdown",
   "metadata": {},
   "source": [
    "- Mỗi dòng cho biết thông tin về trận đấu bóng đá giữa 2 nước, thông qua quan sát sơ bộ thì có vẻ không có vấn đề gì, mỗi dòng khác nhau thể hiện thông tin khác nhau về mỗi trận đấu."
   ]
  },
  {
   "cell_type": "markdown",
   "metadata": {},
   "source": [
    "`df_continent`"
   ]
  },
  {
   "cell_type": "markdown",
   "metadata": {},
   "source": [
    "Mỗi dòng cho biết thông tin về tên, mã code và khu vực của từng quốc gia theo FIFA, có vẻ như không có vấn đề gì"
   ]
  },
  {
   "cell_type": "markdown",
   "metadata": {},
   "source": [
    "### Tiền xử lý"
   ]
  },
  {
   "cell_type": "markdown",
   "metadata": {},
   "source": [
    "- Để chắc chắn rằng, những quốc gia chúng ta đang tìm hiểu là những quốc gia hiện tại được công nhận bởi FIFA, vì vậy ta sẽ chỉ giữ những dữ liệu của những trận đấu mà và `home_team` và `away_team` đều là đội bóng có tên trong danh sách FIFA bây giờ.\n",
    "- Ta phải làm vậy vì giờ bóng đá quốc tế được sắp xếp theo bảng xếp hạng của FIFA, nên nếu không có tên trong FIFA thì các trận đấu gần như chẳng được tính điểm"
   ]
  },
  {
   "cell_type": "code",
   "execution_count": 30,
   "metadata": {},
   "outputs": [
    {
     "data": {
      "text/html": [
       "<div>\n",
       "<style scoped>\n",
       "    .dataframe tbody tr th:only-of-type {\n",
       "        vertical-align: middle;\n",
       "    }\n",
       "\n",
       "    .dataframe tbody tr th {\n",
       "        vertical-align: top;\n",
       "    }\n",
       "\n",
       "    .dataframe thead th {\n",
       "        text-align: right;\n",
       "    }\n",
       "</style>\n",
       "<table border=\"1\" class=\"dataframe\">\n",
       "  <thead>\n",
       "    <tr style=\"text-align: right;\">\n",
       "      <th></th>\n",
       "      <th>date</th>\n",
       "      <th>home_team</th>\n",
       "      <th>away_team</th>\n",
       "      <th>home_score</th>\n",
       "      <th>away_score</th>\n",
       "      <th>tournament</th>\n",
       "      <th>city</th>\n",
       "      <th>country</th>\n",
       "      <th>neutral</th>\n",
       "    </tr>\n",
       "  </thead>\n",
       "  <tbody>\n",
       "    <tr>\n",
       "      <th>0</th>\n",
       "      <td>1872-11-30</td>\n",
       "      <td>Scotland</td>\n",
       "      <td>England</td>\n",
       "      <td>0</td>\n",
       "      <td>0</td>\n",
       "      <td>Friendly</td>\n",
       "      <td>Glasgow</td>\n",
       "      <td>Scotland</td>\n",
       "      <td>False</td>\n",
       "    </tr>\n",
       "    <tr>\n",
       "      <th>1</th>\n",
       "      <td>1873-03-08</td>\n",
       "      <td>England</td>\n",
       "      <td>Scotland</td>\n",
       "      <td>4</td>\n",
       "      <td>2</td>\n",
       "      <td>Friendly</td>\n",
       "      <td>London</td>\n",
       "      <td>England</td>\n",
       "      <td>False</td>\n",
       "    </tr>\n",
       "    <tr>\n",
       "      <th>2</th>\n",
       "      <td>1874-03-07</td>\n",
       "      <td>Scotland</td>\n",
       "      <td>England</td>\n",
       "      <td>2</td>\n",
       "      <td>1</td>\n",
       "      <td>Friendly</td>\n",
       "      <td>Glasgow</td>\n",
       "      <td>Scotland</td>\n",
       "      <td>False</td>\n",
       "    </tr>\n",
       "    <tr>\n",
       "      <th>3</th>\n",
       "      <td>1875-03-06</td>\n",
       "      <td>England</td>\n",
       "      <td>Scotland</td>\n",
       "      <td>2</td>\n",
       "      <td>2</td>\n",
       "      <td>Friendly</td>\n",
       "      <td>London</td>\n",
       "      <td>England</td>\n",
       "      <td>False</td>\n",
       "    </tr>\n",
       "    <tr>\n",
       "      <th>4</th>\n",
       "      <td>1876-03-04</td>\n",
       "      <td>Scotland</td>\n",
       "      <td>England</td>\n",
       "      <td>3</td>\n",
       "      <td>0</td>\n",
       "      <td>Friendly</td>\n",
       "      <td>Glasgow</td>\n",
       "      <td>Scotland</td>\n",
       "      <td>False</td>\n",
       "    </tr>\n",
       "  </tbody>\n",
       "</table>\n",
       "</div>"
      ],
      "text/plain": [
       "         date home_team away_team  home_score  away_score tournament     city  \\\n",
       "0  1872-11-30  Scotland   England           0           0   Friendly  Glasgow   \n",
       "1  1873-03-08   England  Scotland           4           2   Friendly   London   \n",
       "2  1874-03-07  Scotland   England           2           1   Friendly  Glasgow   \n",
       "3  1875-03-06   England  Scotland           2           2   Friendly   London   \n",
       "4  1876-03-04  Scotland   England           3           0   Friendly  Glasgow   \n",
       "\n",
       "    country  neutral  \n",
       "0  Scotland    False  \n",
       "1   England    False  \n",
       "2  Scotland    False  \n",
       "3   England    False  \n",
       "4  Scotland    False  "
      ]
     },
     "execution_count": 30,
     "metadata": {},
     "output_type": "execute_result"
    }
   ],
   "source": [
    "df_match= df_match[df_match['home_team'].isin(df_continent['Country']) & \\\n",
    "     df_match['away_team'].isin(df_continent['Country'])]"
   ]
  },
  {
   "cell_type": "markdown",
   "metadata": {},
   "source": [
    "### Dữ liệu có các dòng bị lặp không ? "
   ]
  },
  {
   "cell_type": "code",
   "execution_count": 67,
   "metadata": {},
   "outputs": [
    {
     "data": {
      "text/plain": [
       "False"
      ]
     },
     "execution_count": 67,
     "metadata": {},
     "output_type": "execute_result"
    }
   ],
   "source": [
    "np.all([df_match.duplicated(keep=False)])"
   ]
  },
  {
   "cell_type": "markdown",
   "metadata": {},
   "source": [
    "- Có vẻ như không có dòng dữ liệu nào bị lặp lại thông tin cả."
   ]
  },
  {
   "cell_type": "markdown",
   "metadata": {},
   "source": [
    "### Mỗi cột có ý nghĩa gì?"
   ]
  },
  {
   "cell_type": "markdown",
   "metadata": {},
   "source": [
    "- Như đã mô tả ở phần Mô tả chi tiết dữ liệu, ta đã hiểu rõ về ý nghĩa của các cột\n",
    "- Để tránh trường hợp bạn quên thì ta sẽ đọc lại thông tin của các cột thông qua 2 file text, `mean_result.csv` và `mean_continent.csv`"
   ]
  },
  {
   "cell_type": "markdown",
   "metadata": {},
   "source": [
    "Thông tin `df_match`"
   ]
  },
  {
   "cell_type": "code",
   "execution_count": 68,
   "metadata": {},
   "outputs": [
    {
     "data": {
      "text/html": [
       "<div>\n",
       "<style scoped>\n",
       "    .dataframe tbody tr th:only-of-type {\n",
       "        vertical-align: middle;\n",
       "    }\n",
       "\n",
       "    .dataframe tbody tr th {\n",
       "        vertical-align: top;\n",
       "    }\n",
       "\n",
       "    .dataframe thead th {\n",
       "        text-align: right;\n",
       "    }\n",
       "</style>\n",
       "<table border=\"1\" class=\"dataframe\">\n",
       "  <thead>\n",
       "    <tr style=\"text-align: right;\">\n",
       "      <th></th>\n",
       "      <th>column_name</th>\n",
       "      <th>mean</th>\n",
       "    </tr>\n",
       "  </thead>\n",
       "  <tbody>\n",
       "    <tr>\n",
       "      <th>0</th>\n",
       "      <td>date</td>\n",
       "      <td>ngày diễn ra trận đấu</td>\n",
       "    </tr>\n",
       "    <tr>\n",
       "      <th>1</th>\n",
       "      <td>home_team</td>\n",
       "      <td>tên của đội chủ nhà</td>\n",
       "    </tr>\n",
       "    <tr>\n",
       "      <th>2</th>\n",
       "      <td>away_team</td>\n",
       "      <td>tên của đội khách</td>\n",
       "    </tr>\n",
       "    <tr>\n",
       "      <th>3</th>\n",
       "      <td>home_score</td>\n",
       "      <td>số bàn thắng đội chủ nhà ghi được bao gồm thời gian thi đấu chính thức và hiệp phụ - không tính loạt luân lưu</td>\n",
       "    </tr>\n",
       "    <tr>\n",
       "      <th>4</th>\n",
       "      <td>away_score</td>\n",
       "      <td>số bàn thắng đội khách ghi được bao gồm thời gian thi đấu chính thức và hiệp phụ - không tính loạt luân lưu</td>\n",
       "    </tr>\n",
       "    <tr>\n",
       "      <th>5</th>\n",
       "      <td>tournament</td>\n",
       "      <td>tên của giải đấu</td>\n",
       "    </tr>\n",
       "    <tr>\n",
       "      <th>6</th>\n",
       "      <td>city</td>\n",
       "      <td>tên của thành phố trận đấu diễn ra</td>\n",
       "    </tr>\n",
       "    <tr>\n",
       "      <th>7</th>\n",
       "      <td>country</td>\n",
       "      <td>tên của quốc gia mà trận đấu diễn ra</td>\n",
       "    </tr>\n",
       "    <tr>\n",
       "      <th>8</th>\n",
       "      <td>neutral</td>\n",
       "      <td>cột TRUE/FALSE nếu được tỏ trức ở một sân trung lập thì trả về giá trị TRUE</td>\n",
       "    </tr>\n",
       "  </tbody>\n",
       "</table>\n",
       "</div>"
      ],
      "text/plain": [
       "  column_name  \\\n",
       "0        date   \n",
       "1   home_team   \n",
       "2   away_team   \n",
       "3  home_score   \n",
       "4  away_score   \n",
       "5  tournament   \n",
       "6        city   \n",
       "7     country   \n",
       "8     neutral   \n",
       "\n",
       "                                                                                                             mean  \n",
       "0                                                                                           ngày diễn ra trận đấu  \n",
       "1                                                                                             tên của đội chủ nhà  \n",
       "2                                                                                               tên của đội khách  \n",
       "3   số bàn thắng đội chủ nhà ghi được bao gồm thời gian thi đấu chính thức và hiệp phụ - không tính loạt luân lưu  \n",
       "4     số bàn thắng đội khách ghi được bao gồm thời gian thi đấu chính thức và hiệp phụ - không tính loạt luân lưu  \n",
       "5                                                                                                tên của giải đấu  \n",
       "6                                                                              tên của thành phố trận đấu diễn ra  \n",
       "7                                                                            tên của quốc gia mà trận đấu diễn ra  \n",
       "8                                     cột TRUE/FALSE nếu được tỏ trức ở một sân trung lập thì trả về giá trị TRUE  "
      ]
     },
     "execution_count": 68,
     "metadata": {},
     "output_type": "execute_result"
    }
   ],
   "source": [
    "match_cols_meaning = pd.read_csv('mean_result.csv')\n",
    "pd.set_option('display.max_colwidth',None)\n",
    "match_cols_meaning"
   ]
  },
  {
   "cell_type": "markdown",
   "metadata": {},
   "source": [
    "Thông tin `df_continent`"
   ]
  },
  {
   "cell_type": "code",
   "execution_count": 69,
   "metadata": {},
   "outputs": [
    {
     "data": {
      "text/html": [
       "<div>\n",
       "<style scoped>\n",
       "    .dataframe tbody tr th:only-of-type {\n",
       "        vertical-align: middle;\n",
       "    }\n",
       "\n",
       "    .dataframe tbody tr th {\n",
       "        vertical-align: top;\n",
       "    }\n",
       "\n",
       "    .dataframe thead th {\n",
       "        text-align: right;\n",
       "    }\n",
       "</style>\n",
       "<table border=\"1\" class=\"dataframe\">\n",
       "  <thead>\n",
       "    <tr style=\"text-align: right;\">\n",
       "      <th></th>\n",
       "      <th>column_name</th>\n",
       "      <th>mean</th>\n",
       "    </tr>\n",
       "  </thead>\n",
       "  <tbody>\n",
       "    <tr>\n",
       "      <th>0</th>\n",
       "      <td>Country</td>\n",
       "      <td>Tên quốc gia - lãnh thổ theo FIFA</td>\n",
       "    </tr>\n",
       "    <tr>\n",
       "      <th>1</th>\n",
       "      <td>Code</td>\n",
       "      <td>Mã của quốc gia theo FIFA</td>\n",
       "    </tr>\n",
       "    <tr>\n",
       "      <th>2</th>\n",
       "      <td>Continent</td>\n",
       "      <td>Tên lục địa</td>\n",
       "    </tr>\n",
       "  </tbody>\n",
       "</table>\n",
       "</div>"
      ],
      "text/plain": [
       "  column_name                                mean\n",
       "0     Country   Tên quốc gia - lãnh thổ theo FIFA\n",
       "1        Code           Mã của quốc gia theo FIFA\n",
       "2   Continent                         Tên lục địa"
      ]
     },
     "execution_count": 69,
     "metadata": {},
     "output_type": "execute_result"
    }
   ],
   "source": [
    "continent_cols_meaning = pd.read_csv('mean_country.csv')\n",
    "pd.set_option('display.max_colwidth',None)\n",
    "continent_cols_meaning"
   ]
  },
  {
   "cell_type": "markdown",
   "metadata": {},
   "source": [
    "### Mỗi cột hiện đang có kiểu dữ liệu gì? Có cần phải thay đổi hay không?"
   ]
  },
  {
   "cell_type": "markdown",
   "metadata": {},
   "source": [
    "- Thông tin kiểu dữ liệu `df_match`"
   ]
  },
  {
   "cell_type": "code",
   "execution_count": 70,
   "metadata": {},
   "outputs": [
    {
     "data": {
      "text/plain": [
       "date          object\n",
       "home_team     object\n",
       "away_team     object\n",
       "home_score     int64\n",
       "away_score     int64\n",
       "tournament    object\n",
       "city          object\n",
       "country       object\n",
       "neutral         bool\n",
       "dtype: object"
      ]
     },
     "execution_count": 70,
     "metadata": {},
     "output_type": "execute_result"
    }
   ],
   "source": [
    "df_match.dtypes"
   ]
  },
  {
   "cell_type": "markdown",
   "metadata": {},
   "source": [
    "có 3 cột thể hiện dữ liệu numneric là `date` `home_score` và `away_score`. Nhưng ở đây `date` vẫn thể hiện kiểu dữ liệu là `object`, có vẻ như ta sẽ thay đổi kiểu dữ liệu cột `date` về dạng `datetime`"
   ]
  },
  {
   "cell_type": "code",
   "execution_count": 71,
   "metadata": {},
   "outputs": [
    {
     "data": {
      "text/plain": [
       "date          datetime64[ns]\n",
       "home_team             object\n",
       "away_team             object\n",
       "home_score             int64\n",
       "away_score             int64\n",
       "tournament            object\n",
       "city                  object\n",
       "country               object\n",
       "neutral                 bool\n",
       "dtype: object"
      ]
     },
     "execution_count": 71,
     "metadata": {},
     "output_type": "execute_result"
    }
   ],
   "source": [
    "df_match['date'] = pd.to_datetime(df_match['date'], format=\"%Y-%m-%d\")\n",
    "df_match.dtypes"
   ]
  },
  {
   "cell_type": "markdown",
   "metadata": {},
   "source": [
    "- Có vẻ dữ liệu cột `date` không có vấn đề gì cả, vì khi chuyển qua datetime chương trình không báo lỗi"
   ]
  },
  {
   "cell_type": "markdown",
   "metadata": {},
   "source": [
    "- Thông tin kiểu dữ liệu `df_continent`"
   ]
  },
  {
   "cell_type": "code",
   "execution_count": 72,
   "metadata": {},
   "outputs": [
    {
     "data": {
      "text/plain": [
       "Country      object\n",
       "Code         object\n",
       "Continent    object\n",
       "dtype: object"
      ]
     },
     "execution_count": 72,
     "metadata": {},
     "output_type": "execute_result"
    }
   ],
   "source": [
    "df_continent.dtypes"
   ]
  },
  {
   "cell_type": "markdown",
   "metadata": {},
   "source": [
    "Vì dữ liệu của `df_continent` được biểu diễn hoàn toàn dưới dạng chuỗi nên có vẻ không có gì cần phải thay đổi"
   ]
  },
  {
   "cell_type": "markdown",
   "metadata": {},
   "source": [
    "### Với mỗi cột có kiểu dữ liệu dạng số, các giá trị được phân bố như thế nào?"
   ]
  },
  {
   "cell_type": "markdown",
   "metadata": {},
   "source": [
    "#### Trước khi tìm hiểu kĩ về các dữ liệu dạng số, có giá trị nào không hợp lệ trong mỗi cột không?"
   ]
  },
  {
   "cell_type": "markdown",
   "metadata": {},
   "source": [
    "1. Trước tiên ta kiểm tra cột `date`. Trong đó ta phải chắc chắn rằng không có trận đấu nào chưa được đá mà đã có kết quả, tức là thời gian lớn hơn thời điểm hiện tai mà có kết quả\n"
   ]
  },
  {
   "cell_type": "code",
   "execution_count": 73,
   "metadata": {},
   "outputs": [
    {
     "data": {
      "text/plain": [
       "False"
      ]
     },
     "execution_count": 73,
     "metadata": {},
     "output_type": "execute_result"
    }
   ],
   "source": [
    "np.all(df_match['date'] > np.datetime64(dt.date.today()))"
   ]
  },
  {
   "cell_type": "markdown",
   "metadata": {},
   "source": [
    "- Vậy là không có dữ liệu nào của cột `date` có dấu hiệu bất thường"
   ]
  },
  {
   "cell_type": "markdown",
   "metadata": {},
   "source": [
    "2. Tiếp theo kiểm tra 2 cột `home_score` và `away_score` coi có giá trị nào bị âm không?"
   ]
  },
  {
   "cell_type": "code",
   "execution_count": 74,
   "metadata": {},
   "outputs": [
    {
     "data": {
      "text/plain": [
       "0"
      ]
     },
     "execution_count": 74,
     "metadata": {},
     "output_type": "execute_result"
    }
   ],
   "source": [
    "len(df_match[(df_match['home_score'] < 0) | (df_match['away_score'] < 0) ])"
   ]
  },
  {
   "cell_type": "markdown",
   "metadata": {},
   "source": [
    "- Vậy là dữ liệu 2 cột `home_socre` và `away_score` không có giá trị nào bị âm"
   ]
  },
  {
   "cell_type": "markdown",
   "metadata": {},
   "source": [
    "#### Quay lại bước khám phá dữ liệu"
   ]
  },
  {
   "cell_type": "markdown",
   "metadata": {},
   "source": [
    "Ta sẽ tính một số thông tin sau của các cột dữ liệu dạng số:\n",
    "\n",
    "- Số lượng các giá trị thiếu.\n",
    "- Tỉ lệ % các giá trị thiếu (0->100).\n",
    "- Giá trị min.\n",
    "- Giá trị median.\n",
    "- Giá trị max."
   ]
  },
  {
   "cell_type": "code",
   "execution_count": 83,
   "metadata": {},
   "outputs": [
    {
     "data": {
      "text/html": [
       "<div>\n",
       "<style scoped>\n",
       "    .dataframe tbody tr th:only-of-type {\n",
       "        vertical-align: middle;\n",
       "    }\n",
       "\n",
       "    .dataframe tbody tr th {\n",
       "        vertical-align: top;\n",
       "    }\n",
       "\n",
       "    .dataframe thead th {\n",
       "        text-align: right;\n",
       "    }\n",
       "</style>\n",
       "<table border=\"1\" class=\"dataframe\">\n",
       "  <thead>\n",
       "    <tr style=\"text-align: right;\">\n",
       "      <th></th>\n",
       "      <th>date</th>\n",
       "      <th>home_score</th>\n",
       "      <th>away_score</th>\n",
       "    </tr>\n",
       "  </thead>\n",
       "  <tbody>\n",
       "    <tr>\n",
       "      <th>num_missing</th>\n",
       "      <td>0</td>\n",
       "      <td>0.0</td>\n",
       "      <td>0.0</td>\n",
       "    </tr>\n",
       "    <tr>\n",
       "      <th>missing_percentage</th>\n",
       "      <td>0.0</td>\n",
       "      <td>0.0</td>\n",
       "      <td>0.0</td>\n",
       "    </tr>\n",
       "    <tr>\n",
       "      <th>min</th>\n",
       "      <td>1872-11-30 00:00:00</td>\n",
       "      <td>0.0</td>\n",
       "      <td>0.0</td>\n",
       "    </tr>\n",
       "    <tr>\n",
       "      <th>median</th>\n",
       "      <td>1998-08-01 00:00:00</td>\n",
       "      <td>1.0</td>\n",
       "      <td>1.0</td>\n",
       "    </tr>\n",
       "    <tr>\n",
       "      <th>max</th>\n",
       "      <td>2021-12-18 00:00:00</td>\n",
       "      <td>31.0</td>\n",
       "      <td>21.0</td>\n",
       "    </tr>\n",
       "  </tbody>\n",
       "</table>\n",
       "</div>"
      ],
      "text/plain": [
       "                                   date  home_score  away_score\n",
       "num_missing                           0         0.0         0.0\n",
       "missing_percentage                  0.0         0.0         0.0\n",
       "min                 1872-11-30 00:00:00         0.0         0.0\n",
       "median              1998-08-01 00:00:00         1.0         1.0\n",
       "max                 2021-12-18 00:00:00        31.0        21.0"
      ]
     },
     "execution_count": 83,
     "metadata": {},
     "output_type": "execute_result"
    }
   ],
   "source": [
    "\n",
    "nume_col_info_df = pd.DataFrame()\n",
    "for col in df_match.keys():\n",
    "    if df_match[col].dtype in [np.int64, np.float64,'<M8[ns]'] :\n",
    "        missing = df_match[col].isnull().sum()\n",
    "        missing_percentage = round(df_match[col].isnull().sum() * 100 / len(df_match[col]),2)\n",
    "        min_value = df_match[col].min()         \n",
    "        median = df_match[col].median() \n",
    "        max_value = df_match[col].max()\n",
    "        row_line = pd.Series([missing,missing_percentage, min_value,  median, max_value], \n",
    "                                index = ['num_missing','missing_percentage', 'min',  'median', 'max'])\n",
    "        nume_col_info_df[col] = row_line\n",
    "nume_col_info_df    "
   ]
  },
  {
   "cell_type": "markdown",
   "metadata": {},
   "source": [
    "- Từ bảng trên, ta có thể max của `home_score` và `away_score` là 31 và 21 , có lẽ đây là những trận đấu vô cùng cởi mở từ các đội hoặc là những trận đấu một chiều, trình độ chênh lệch giữ hai đội quá lớn. min là 0.\n",
    "- Tương tự với `date` như đã tiền xử lý ở trên\n",
    "\n",
    "     => Không có gì bất thường."
   ]
  },
  {
   "cell_type": "markdown",
   "metadata": {},
   "source": [
    "### Với các cột dữ liệu dạng phân loại (categorical), các giá trị được phân bố như thế nào?"
   ]
  },
  {
   "cell_type": "markdown",
   "metadata": {},
   "source": [
    "Ta sẽ tính một số thông tin sau:\n",
    "\n",
    "- Số lượng các giá trị thiếu.\n",
    "- Tỉ lệ % các giá trị thiếu (0->100).\n",
    "- Số lượng các giá trị các nhau (không xét giá trị thiếu).\n",
    "- TỈ lệ % (0->100) của mỗi giá trị của cột được sắp xếp theo tỉ lệ % giảm dần (không xét giá trị thiếu)."
   ]
  },
  {
   "cell_type": "code",
   "execution_count": null,
   "metadata": {},
   "outputs": [],
   "source": [
    "nume_col_info_df = pd.DataFrame()\n",
    "for col in df_match.keys():\n",
    "    if df_match[col].dtype == 'O' :\n",
    "        missing = df_match[col].isnull().sum()\n",
    "        missing_percentage = round(df_match[col].isnull().sum() * 100 / len(df_match[col]),2)\n",
    "        \n",
    "        row_line = pd.Series([missing,missing_percentage, min_value,  median, max_value], \n",
    "                                index = ['num_missing','missing_percentage', 'min',  'median', 'max'])\n",
    "        nume_col_info_df[col] = row_line\n",
    "nume_col_info_df   "
   ]
  },
  {
   "cell_type": "markdown",
   "metadata": {},
   "source": [
    "---"
   ]
  },
  {
   "cell_type": "markdown",
   "metadata": {},
   "source": [
    "# Đưa ra các câu hỏi cần trả lời"
   ]
  },
  {
   "cell_type": "markdown",
   "metadata": {},
   "source": [
    "---"
   ]
  },
  {
   "cell_type": "markdown",
   "metadata": {},
   "source": [
    "# Tiền xử lí + phân tích dữ liệu để trả lời câu hỏi"
   ]
  },
  {
   "cell_type": "markdown",
   "metadata": {},
   "source": [
    "---"
   ]
  },
  {
   "cell_type": "markdown",
   "metadata": {},
   "source": [
    "# Nhìn lại quá trình làm đồ án"
   ]
  },
  {
   "cell_type": "markdown",
   "metadata": {},
   "source": [
    "### Học được những gì từ đồ án"
   ]
  },
  {
   "cell_type": "markdown",
   "metadata": {},
   "source": [
    "### Những khó khăn khi thực hiện đồ án"
   ]
  },
  {
   "cell_type": "markdown",
   "metadata": {},
   "source": [
    "---"
   ]
  },
  {
   "cell_type": "markdown",
   "metadata": {},
   "source": [
    "# Tài liệu tham khảo"
   ]
  },
  {
   "cell_type": "markdown",
   "metadata": {},
   "source": [
    "---"
   ]
  },
  {
   "cell_type": "markdown",
   "metadata": {},
   "source": [
    "### Tiền xử lý dữ liệu"
   ]
  },
  {
   "cell_type": "markdown",
   "metadata": {},
   "source": [
    "1. Để có thể so sánh trực quan các nước qua từng khu vực của nó thì ta sẽ thêm cột continent từ `df_continent` vào `df_result`"
   ]
  },
  {
   "cell_type": "markdown",
   "metadata": {},
   "source": [
    "Bước 1: Kiểm tra coi `df_match` và `df_continent` có bị thiếu dữ liệu ở cột nào không? có dòng nào bị lặp không?\n",
    "Bước 2: "
   ]
  },
  {
   "cell_type": "markdown",
   "metadata": {},
   "source": [
    "Bước 1:"
   ]
  },
  {
   "cell_type": "markdown",
   "metadata": {},
   "source": [
    "`df_match` có bị thiếu dữ liệu ở cột nào không?"
   ]
  },
  {
   "cell_type": "code",
   "execution_count": null,
   "metadata": {},
   "outputs": [
    {
     "data": {
      "text/plain": [
       "date          0.0\n",
       "home_team     0.0\n",
       "away_team     0.0\n",
       "home_score    0.0\n",
       "away_score    0.0\n",
       "tournament    0.0\n",
       "city          0.0\n",
       "country       0.0\n",
       "neutral       0.0\n",
       "dtype: float64"
      ]
     },
     "metadata": {},
     "output_type": "display_data"
    }
   ],
   "source": [
    "(df_match.isna().sum() /len(df_match)*100).round(1)"
   ]
  },
  {
   "cell_type": "markdown",
   "metadata": {},
   "source": [
    "Như vậy không có cột nào bị thiếu dữ liệu cả"
   ]
  },
  {
   "cell_type": "markdown",
   "metadata": {},
   "source": [
    "Tương tự kiểm tra với `df_continent`"
   ]
  },
  {
   "cell_type": "code",
   "execution_count": null,
   "metadata": {},
   "outputs": [
    {
     "data": {
      "text/plain": [
       "Country      0.0\n",
       "Code         0.0\n",
       "Continent    0.0\n",
       "dtype: float64"
      ]
     },
     "metadata": {},
     "output_type": "display_data"
    }
   ],
   "source": [
    "(df_continent.isna().sum() /len(df_continent)*100).round(1)"
   ]
  },
  {
   "cell_type": "markdown",
   "metadata": {},
   "source": [
    "Bước 2:"
   ]
  },
  {
   "cell_type": "code",
   "execution_count": null,
   "metadata": {},
   "outputs": [],
   "source": [
    "pd.merge(df_match,df_continent,left_on=)"
   ]
  },
  {
   "cell_type": "markdown",
   "metadata": {},
   "source": [
    "Tương tự, dữ liệu về khu vực các nước cũng không bị thiếu "
   ]
  }
 ],
 "metadata": {
  "interpreter": {
   "hash": "47579162945f248bf594bb80bafa1f1c1494a0ffd44cc646a6f113fff71b4c7c"
  },
  "kernelspec": {
   "display_name": "Python 3.8.8 64-bit ('min_ds-env': conda)",
   "language": "python",
   "name": "python3"
  },
  "language_info": {
   "codemirror_mode": {
    "name": "ipython",
    "version": 3
   },
   "file_extension": ".py",
   "mimetype": "text/x-python",
   "name": "python",
   "nbconvert_exporter": "python",
   "pygments_lexer": "ipython3",
   "version": "3.9.7"
  },
  "orig_nbformat": 4
 },
 "nbformat": 4,
 "nbformat_minor": 2
}
